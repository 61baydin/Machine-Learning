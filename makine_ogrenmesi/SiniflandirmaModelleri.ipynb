{
 "cells": [
  {
   "cell_type": "markdown",
   "metadata": {},
   "source": [
    "### Gerekli Kütühane ve Fonksiyonlar"
   ]
  },
  {
   "cell_type": "code",
   "execution_count": 3,
   "metadata": {},
   "outputs": [],
   "source": [
    "import numpy as np\n",
    "import pandas as pd\n",
    "import seaborn as sns\n",
    "import matplotlib.pyplot as plt\n",
    "from sklearn.preprocessing import scale, StandardScaler\n",
    "from sklearn.model_selection import train_test_split,GridSearchCV,cross_val_score\n",
    "from sklearn.metrics import confusion_matrix, accuracy_score, mean_squared_error, r2_score,roc_auc_score,roc_curve,classification_report\n",
    "from sklearn.linear_model import LogisticRegression\n",
    "from sklearn.neighbors import KNeighborsClassifier\n",
    "from sklearn.svm import SVC\n",
    "from sklearn.neural_network import MLPClassifier\n",
    "from sklearn.tree import DecisionTreeClassifier\n",
    "from sklearn.ensemble import RandomForestClassifier\n",
    "from sklearn.ensemble import GradientBoostingClassifier"
   ]
  },
  {
   "cell_type": "code",
   "execution_count": 4,
   "metadata": {},
   "outputs": [],
   "source": [
    "import warnings\n",
    "warnings.filterwarnings(\"ignore\",category=DeprecationWarning)\n",
    "warnings.filterwarnings(\"ignore\",category=FutureWarning)"
   ]
  },
  {
   "cell_type": "markdown",
   "metadata": {},
   "source": [
    "#### Veri Seti Hikayesi ve Problem: Şeker Hastalığı Tahmini"
   ]
  },
  {
   "cell_type": "code",
   "execution_count": 5,
   "metadata": {},
   "outputs": [],
   "source": [
    "df = pd.read_csv(\"diabetes.csv\")"
   ]
  },
  {
   "cell_type": "code",
   "execution_count": 6,
   "metadata": {},
   "outputs": [
    {
     "data": {
      "text/html": [
       "<div>\n",
       "<style scoped>\n",
       "    .dataframe tbody tr th:only-of-type {\n",
       "        vertical-align: middle;\n",
       "    }\n",
       "\n",
       "    .dataframe tbody tr th {\n",
       "        vertical-align: top;\n",
       "    }\n",
       "\n",
       "    .dataframe thead th {\n",
       "        text-align: right;\n",
       "    }\n",
       "</style>\n",
       "<table border=\"1\" class=\"dataframe\">\n",
       "  <thead>\n",
       "    <tr style=\"text-align: right;\">\n",
       "      <th></th>\n",
       "      <th>Pregnancies</th>\n",
       "      <th>Glucose</th>\n",
       "      <th>BloodPressure</th>\n",
       "      <th>SkinThickness</th>\n",
       "      <th>Insulin</th>\n",
       "      <th>BMI</th>\n",
       "      <th>DiabetesPedigreeFunction</th>\n",
       "      <th>Age</th>\n",
       "      <th>Outcome</th>\n",
       "    </tr>\n",
       "  </thead>\n",
       "  <tbody>\n",
       "    <tr>\n",
       "      <th>0</th>\n",
       "      <td>6</td>\n",
       "      <td>148</td>\n",
       "      <td>72</td>\n",
       "      <td>35</td>\n",
       "      <td>0</td>\n",
       "      <td>33.6</td>\n",
       "      <td>0.627</td>\n",
       "      <td>50</td>\n",
       "      <td>1</td>\n",
       "    </tr>\n",
       "    <tr>\n",
       "      <th>1</th>\n",
       "      <td>1</td>\n",
       "      <td>85</td>\n",
       "      <td>66</td>\n",
       "      <td>29</td>\n",
       "      <td>0</td>\n",
       "      <td>26.6</td>\n",
       "      <td>0.351</td>\n",
       "      <td>31</td>\n",
       "      <td>0</td>\n",
       "    </tr>\n",
       "    <tr>\n",
       "      <th>2</th>\n",
       "      <td>8</td>\n",
       "      <td>183</td>\n",
       "      <td>64</td>\n",
       "      <td>0</td>\n",
       "      <td>0</td>\n",
       "      <td>23.3</td>\n",
       "      <td>0.672</td>\n",
       "      <td>32</td>\n",
       "      <td>1</td>\n",
       "    </tr>\n",
       "    <tr>\n",
       "      <th>3</th>\n",
       "      <td>1</td>\n",
       "      <td>89</td>\n",
       "      <td>66</td>\n",
       "      <td>23</td>\n",
       "      <td>94</td>\n",
       "      <td>28.1</td>\n",
       "      <td>0.167</td>\n",
       "      <td>21</td>\n",
       "      <td>0</td>\n",
       "    </tr>\n",
       "    <tr>\n",
       "      <th>4</th>\n",
       "      <td>0</td>\n",
       "      <td>137</td>\n",
       "      <td>40</td>\n",
       "      <td>35</td>\n",
       "      <td>168</td>\n",
       "      <td>43.1</td>\n",
       "      <td>2.288</td>\n",
       "      <td>33</td>\n",
       "      <td>1</td>\n",
       "    </tr>\n",
       "  </tbody>\n",
       "</table>\n",
       "</div>"
      ],
      "text/plain": [
       "   Pregnancies  Glucose  BloodPressure  SkinThickness  Insulin   BMI  \\\n",
       "0            6      148             72             35        0  33.6   \n",
       "1            1       85             66             29        0  26.6   \n",
       "2            8      183             64              0        0  23.3   \n",
       "3            1       89             66             23       94  28.1   \n",
       "4            0      137             40             35      168  43.1   \n",
       "\n",
       "   DiabetesPedigreeFunction  Age  Outcome  \n",
       "0                     0.627   50        1  \n",
       "1                     0.351   31        0  \n",
       "2                     0.672   32        1  \n",
       "3                     0.167   21        0  \n",
       "4                     2.288   33        1  "
      ]
     },
     "execution_count": 6,
     "metadata": {},
     "output_type": "execute_result"
    }
   ],
   "source": [
    "df.head() #outcome şeker hastası ise 1"
   ]
  },
  {
   "cell_type": "markdown",
   "metadata": {},
   "source": [
    "#### Lojistik Regresyon( Logistic Regression)"
   ]
  },
  {
   "cell_type": "markdown",
   "metadata": {},
   "source": [
    "#### Model & Tahmin"
   ]
  },
  {
   "cell_type": "code",
   "execution_count": 80,
   "metadata": {},
   "outputs": [
    {
     "data": {
      "text/plain": [
       "0    500\n",
       "1    268\n",
       "Name: Outcome, dtype: int64"
      ]
     },
     "execution_count": 80,
     "metadata": {},
     "output_type": "execute_result"
    }
   ],
   "source": [
    "df[\"Outcome\"].value_counts()"
   ]
  },
  {
   "cell_type": "code",
   "execution_count": 81,
   "metadata": {},
   "outputs": [
    {
     "data": {
      "text/html": [
       "<div>\n",
       "<style scoped>\n",
       "    .dataframe tbody tr th:only-of-type {\n",
       "        vertical-align: middle;\n",
       "    }\n",
       "\n",
       "    .dataframe tbody tr th {\n",
       "        vertical-align: top;\n",
       "    }\n",
       "\n",
       "    .dataframe thead th {\n",
       "        text-align: right;\n",
       "    }\n",
       "</style>\n",
       "<table border=\"1\" class=\"dataframe\">\n",
       "  <thead>\n",
       "    <tr style=\"text-align: right;\">\n",
       "      <th></th>\n",
       "      <th>count</th>\n",
       "      <th>mean</th>\n",
       "      <th>std</th>\n",
       "      <th>min</th>\n",
       "      <th>25%</th>\n",
       "      <th>50%</th>\n",
       "      <th>75%</th>\n",
       "      <th>max</th>\n",
       "    </tr>\n",
       "  </thead>\n",
       "  <tbody>\n",
       "    <tr>\n",
       "      <th>Pregnancies</th>\n",
       "      <td>768.0</td>\n",
       "      <td>3.845052</td>\n",
       "      <td>3.369578</td>\n",
       "      <td>0.000</td>\n",
       "      <td>1.00000</td>\n",
       "      <td>3.0000</td>\n",
       "      <td>6.00000</td>\n",
       "      <td>17.00</td>\n",
       "    </tr>\n",
       "    <tr>\n",
       "      <th>Glucose</th>\n",
       "      <td>768.0</td>\n",
       "      <td>120.894531</td>\n",
       "      <td>31.972618</td>\n",
       "      <td>0.000</td>\n",
       "      <td>99.00000</td>\n",
       "      <td>117.0000</td>\n",
       "      <td>140.25000</td>\n",
       "      <td>199.00</td>\n",
       "    </tr>\n",
       "    <tr>\n",
       "      <th>BloodPressure</th>\n",
       "      <td>768.0</td>\n",
       "      <td>69.105469</td>\n",
       "      <td>19.355807</td>\n",
       "      <td>0.000</td>\n",
       "      <td>62.00000</td>\n",
       "      <td>72.0000</td>\n",
       "      <td>80.00000</td>\n",
       "      <td>122.00</td>\n",
       "    </tr>\n",
       "    <tr>\n",
       "      <th>SkinThickness</th>\n",
       "      <td>768.0</td>\n",
       "      <td>20.536458</td>\n",
       "      <td>15.952218</td>\n",
       "      <td>0.000</td>\n",
       "      <td>0.00000</td>\n",
       "      <td>23.0000</td>\n",
       "      <td>32.00000</td>\n",
       "      <td>99.00</td>\n",
       "    </tr>\n",
       "    <tr>\n",
       "      <th>Insulin</th>\n",
       "      <td>768.0</td>\n",
       "      <td>79.799479</td>\n",
       "      <td>115.244002</td>\n",
       "      <td>0.000</td>\n",
       "      <td>0.00000</td>\n",
       "      <td>30.5000</td>\n",
       "      <td>127.25000</td>\n",
       "      <td>846.00</td>\n",
       "    </tr>\n",
       "    <tr>\n",
       "      <th>BMI</th>\n",
       "      <td>768.0</td>\n",
       "      <td>31.992578</td>\n",
       "      <td>7.884160</td>\n",
       "      <td>0.000</td>\n",
       "      <td>27.30000</td>\n",
       "      <td>32.0000</td>\n",
       "      <td>36.60000</td>\n",
       "      <td>67.10</td>\n",
       "    </tr>\n",
       "    <tr>\n",
       "      <th>DiabetesPedigreeFunction</th>\n",
       "      <td>768.0</td>\n",
       "      <td>0.471876</td>\n",
       "      <td>0.331329</td>\n",
       "      <td>0.078</td>\n",
       "      <td>0.24375</td>\n",
       "      <td>0.3725</td>\n",
       "      <td>0.62625</td>\n",
       "      <td>2.42</td>\n",
       "    </tr>\n",
       "    <tr>\n",
       "      <th>Age</th>\n",
       "      <td>768.0</td>\n",
       "      <td>33.240885</td>\n",
       "      <td>11.760232</td>\n",
       "      <td>21.000</td>\n",
       "      <td>24.00000</td>\n",
       "      <td>29.0000</td>\n",
       "      <td>41.00000</td>\n",
       "      <td>81.00</td>\n",
       "    </tr>\n",
       "    <tr>\n",
       "      <th>Outcome</th>\n",
       "      <td>768.0</td>\n",
       "      <td>0.348958</td>\n",
       "      <td>0.476951</td>\n",
       "      <td>0.000</td>\n",
       "      <td>0.00000</td>\n",
       "      <td>0.0000</td>\n",
       "      <td>1.00000</td>\n",
       "      <td>1.00</td>\n",
       "    </tr>\n",
       "  </tbody>\n",
       "</table>\n",
       "</div>"
      ],
      "text/plain": [
       "                          count        mean         std     min       25%  \\\n",
       "Pregnancies               768.0    3.845052    3.369578   0.000   1.00000   \n",
       "Glucose                   768.0  120.894531   31.972618   0.000  99.00000   \n",
       "BloodPressure             768.0   69.105469   19.355807   0.000  62.00000   \n",
       "SkinThickness             768.0   20.536458   15.952218   0.000   0.00000   \n",
       "Insulin                   768.0   79.799479  115.244002   0.000   0.00000   \n",
       "BMI                       768.0   31.992578    7.884160   0.000  27.30000   \n",
       "DiabetesPedigreeFunction  768.0    0.471876    0.331329   0.078   0.24375   \n",
       "Age                       768.0   33.240885   11.760232  21.000  24.00000   \n",
       "Outcome                   768.0    0.348958    0.476951   0.000   0.00000   \n",
       "\n",
       "                               50%        75%     max  \n",
       "Pregnancies                 3.0000    6.00000   17.00  \n",
       "Glucose                   117.0000  140.25000  199.00  \n",
       "BloodPressure              72.0000   80.00000  122.00  \n",
       "SkinThickness              23.0000   32.00000   99.00  \n",
       "Insulin                    30.5000  127.25000  846.00  \n",
       "BMI                        32.0000   36.60000   67.10  \n",
       "DiabetesPedigreeFunction    0.3725    0.62625    2.42  \n",
       "Age                        29.0000   41.00000   81.00  \n",
       "Outcome                     0.0000    1.00000    1.00  "
      ]
     },
     "execution_count": 81,
     "metadata": {},
     "output_type": "execute_result"
    }
   ],
   "source": [
    "df.describe().T # .T transpozu"
   ]
  },
  {
   "cell_type": "code",
   "execution_count": 9,
   "metadata": {},
   "outputs": [],
   "source": [
    "y = df[\"Outcome\"] #bağımlı değişken"
   ]
  },
  {
   "cell_type": "code",
   "execution_count": 10,
   "metadata": {},
   "outputs": [],
   "source": [
    "X = df.drop([\"Outcome\"],axis=1) # bağımız değişkenler"
   ]
  },
  {
   "cell_type": "code",
   "execution_count": 84,
   "metadata": {},
   "outputs": [
    {
     "data": {
      "text/plain": [
       "0    1\n",
       "1    0\n",
       "2    1\n",
       "3    0\n",
       "4    1\n",
       "Name: Outcome, dtype: int64"
      ]
     },
     "execution_count": 84,
     "metadata": {},
     "output_type": "execute_result"
    }
   ],
   "source": [
    "y.head()"
   ]
  },
  {
   "cell_type": "code",
   "execution_count": 85,
   "metadata": {},
   "outputs": [
    {
     "data": {
      "text/html": [
       "<div>\n",
       "<style scoped>\n",
       "    .dataframe tbody tr th:only-of-type {\n",
       "        vertical-align: middle;\n",
       "    }\n",
       "\n",
       "    .dataframe tbody tr th {\n",
       "        vertical-align: top;\n",
       "    }\n",
       "\n",
       "    .dataframe thead th {\n",
       "        text-align: right;\n",
       "    }\n",
       "</style>\n",
       "<table border=\"1\" class=\"dataframe\">\n",
       "  <thead>\n",
       "    <tr style=\"text-align: right;\">\n",
       "      <th></th>\n",
       "      <th>Pregnancies</th>\n",
       "      <th>Glucose</th>\n",
       "      <th>BloodPressure</th>\n",
       "      <th>SkinThickness</th>\n",
       "      <th>Insulin</th>\n",
       "      <th>BMI</th>\n",
       "      <th>DiabetesPedigreeFunction</th>\n",
       "      <th>Age</th>\n",
       "    </tr>\n",
       "  </thead>\n",
       "  <tbody>\n",
       "    <tr>\n",
       "      <th>0</th>\n",
       "      <td>6</td>\n",
       "      <td>148</td>\n",
       "      <td>72</td>\n",
       "      <td>35</td>\n",
       "      <td>0</td>\n",
       "      <td>33.6</td>\n",
       "      <td>0.627</td>\n",
       "      <td>50</td>\n",
       "    </tr>\n",
       "    <tr>\n",
       "      <th>1</th>\n",
       "      <td>1</td>\n",
       "      <td>85</td>\n",
       "      <td>66</td>\n",
       "      <td>29</td>\n",
       "      <td>0</td>\n",
       "      <td>26.6</td>\n",
       "      <td>0.351</td>\n",
       "      <td>31</td>\n",
       "    </tr>\n",
       "    <tr>\n",
       "      <th>2</th>\n",
       "      <td>8</td>\n",
       "      <td>183</td>\n",
       "      <td>64</td>\n",
       "      <td>0</td>\n",
       "      <td>0</td>\n",
       "      <td>23.3</td>\n",
       "      <td>0.672</td>\n",
       "      <td>32</td>\n",
       "    </tr>\n",
       "    <tr>\n",
       "      <th>3</th>\n",
       "      <td>1</td>\n",
       "      <td>89</td>\n",
       "      <td>66</td>\n",
       "      <td>23</td>\n",
       "      <td>94</td>\n",
       "      <td>28.1</td>\n",
       "      <td>0.167</td>\n",
       "      <td>21</td>\n",
       "    </tr>\n",
       "    <tr>\n",
       "      <th>4</th>\n",
       "      <td>0</td>\n",
       "      <td>137</td>\n",
       "      <td>40</td>\n",
       "      <td>35</td>\n",
       "      <td>168</td>\n",
       "      <td>43.1</td>\n",
       "      <td>2.288</td>\n",
       "      <td>33</td>\n",
       "    </tr>\n",
       "  </tbody>\n",
       "</table>\n",
       "</div>"
      ],
      "text/plain": [
       "   Pregnancies  Glucose  BloodPressure  SkinThickness  Insulin   BMI  \\\n",
       "0            6      148             72             35        0  33.6   \n",
       "1            1       85             66             29        0  26.6   \n",
       "2            8      183             64              0        0  23.3   \n",
       "3            1       89             66             23       94  28.1   \n",
       "4            0      137             40             35      168  43.1   \n",
       "\n",
       "   DiabetesPedigreeFunction  Age  \n",
       "0                     0.627   50  \n",
       "1                     0.351   31  \n",
       "2                     0.672   32  \n",
       "3                     0.167   21  \n",
       "4                     2.288   33  "
      ]
     },
     "execution_count": 85,
     "metadata": {},
     "output_type": "execute_result"
    }
   ],
   "source": [
    "X.head()"
   ]
  },
  {
   "cell_type": "code",
   "execution_count": 86,
   "metadata": {},
   "outputs": [],
   "source": [
    "loj_model = LogisticRegression(solver= \"liblinear\").fit(X,y) #farklı yöntemler var"
   ]
  },
  {
   "cell_type": "code",
   "execution_count": 87,
   "metadata": {},
   "outputs": [
    {
     "data": {
      "text/plain": [
       "array([-5.89159518])"
      ]
     },
     "execution_count": 87,
     "metadata": {},
     "output_type": "execute_result"
    }
   ],
   "source": [
    "loj_model.intercept_"
   ]
  },
  {
   "cell_type": "code",
   "execution_count": 88,
   "metadata": {},
   "outputs": [
    {
     "data": {
      "text/plain": [
       "array([[ 1.17052230e-01,  2.83873955e-02, -1.68897224e-02,\n",
       "         7.55274087e-04, -6.42755924e-04,  5.97603789e-02,\n",
       "         6.77671880e-01,  7.23947807e-03]])"
      ]
     },
     "execution_count": 88,
     "metadata": {},
     "output_type": "execute_result"
    }
   ],
   "source": [
    "loj_model.coef_ #bağımsız değişkenler katsayıları"
   ]
  },
  {
   "cell_type": "code",
   "execution_count": 89,
   "metadata": {},
   "outputs": [
    {
     "data": {
      "text/plain": [
       "array([1, 0, 1, 0, 1, 0, 0, 1, 1, 0], dtype=int64)"
      ]
     },
     "execution_count": 89,
     "metadata": {},
     "output_type": "execute_result"
    }
   ],
   "source": [
    "loj_model.predict(X)[0:10] #ynin tahmin değerleri"
   ]
  },
  {
   "cell_type": "code",
   "execution_count": 90,
   "metadata": {},
   "outputs": [
    {
     "data": {
      "text/plain": [
       "0    1\n",
       "1    0\n",
       "2    1\n",
       "3    0\n",
       "4    1\n",
       "5    0\n",
       "6    1\n",
       "7    0\n",
       "8    1\n",
       "9    1\n",
       "Name: Outcome, dtype: int64"
      ]
     },
     "execution_count": 90,
     "metadata": {},
     "output_type": "execute_result"
    }
   ],
   "source": [
    "y[0:10] #gerçek değerler"
   ]
  },
  {
   "cell_type": "code",
   "execution_count": 91,
   "metadata": {},
   "outputs": [],
   "source": [
    "y_pred = loj_model.predict(X)"
   ]
  },
  {
   "cell_type": "code",
   "execution_count": 92,
   "metadata": {},
   "outputs": [
    {
     "data": {
      "text/plain": [
       "array([[448,  52],\n",
       "       [121, 147]], dtype=int64)"
      ]
     },
     "execution_count": 92,
     "metadata": {},
     "output_type": "execute_result"
    }
   ],
   "source": [
    "confusion_matrix(y,y_pred) #karmaşıklık matrisi"
   ]
  },
  {
   "cell_type": "code",
   "execution_count": 93,
   "metadata": {},
   "outputs": [
    {
     "data": {
      "text/plain": [
       "0.7747395833333334"
      ]
     },
     "execution_count": 93,
     "metadata": {},
     "output_type": "execute_result"
    }
   ],
   "source": [
    "accuracy_score(y,y_pred) #doğruluk oranı yani başarılı / tüm durumlar"
   ]
  },
  {
   "cell_type": "code",
   "execution_count": 94,
   "metadata": {},
   "outputs": [
    {
     "name": "stdout",
     "output_type": "stream",
     "text": [
      "             precision    recall  f1-score   support\n",
      "\n",
      "          0       0.79      0.90      0.84       500\n",
      "          1       0.74      0.55      0.63       268\n",
      "\n",
      "avg / total       0.77      0.77      0.77       768\n",
      "\n"
     ]
    }
   ],
   "source": [
    "print(classification_report(y,y_pred)) #sınıflandırma raporu"
   ]
  },
  {
   "cell_type": "code",
   "execution_count": 95,
   "metadata": {},
   "outputs": [
    {
     "data": {
      "text/plain": [
       "array([1, 0, 1, 0, 1, 0, 0, 1, 1, 0], dtype=int64)"
      ]
     },
     "execution_count": 95,
     "metadata": {},
     "output_type": "execute_result"
    }
   ],
   "source": [
    "loj_model.predict(X)[0:10] # genellikle kullanılan"
   ]
  },
  {
   "cell_type": "code",
   "execution_count": 96,
   "metadata": {},
   "outputs": [
    {
     "data": {
      "text/plain": [
       "array([[0.35040711, 0.64959289],\n",
       "       [0.91701929, 0.08298071],\n",
       "       [0.22474085, 0.77525915],\n",
       "       [0.92138876, 0.07861124],\n",
       "       [0.1672242 , 0.8327758 ],\n",
       "       [0.79898675, 0.20101325],\n",
       "       [0.88019106, 0.11980894],\n",
       "       [0.2781269 , 0.7218731 ],\n",
       "       [0.32060943, 0.67939057],\n",
       "       [0.92272884, 0.07727116]])"
      ]
     },
     "execution_count": 96,
     "metadata": {},
     "output_type": "execute_result"
    }
   ],
   "source": [
    "loj_model.predict_proba(X)[0:10] #sınıf olasılıkları, yuvarlama yoktur. "
   ]
  },
  {
   "cell_type": "code",
   "execution_count": 97,
   "metadata": {},
   "outputs": [
    {
     "data": {
      "image/png": "[encoded data removed]",
      "text/plain": [
       "<Figure size 432x288 with 1 Axes>"
      ]
     },
     "metadata": {
      "needs_background": "light"
     },
     "output_type": "display_data"
    }
   ],
   "source": [
    "logic_roc_auc = roc_auc_score(y,loj_model.predict(X))\n",
    "fpr, tpr, thresholds = roc_curve(y, loj_model.predict_proba(X)[:,1])\n",
    "plt.figure()\n",
    "plt.plot(fpr,tpr,label='AUC (area = %0.2f)' % logic_roc_auc)\n",
    "plt.plot([0,1],[0,1],'r--')\n",
    "plt.xlim([0.0,1.0])\n",
    "plt.ylim([0.0,1.05])\n",
    "plt.xlabel('False Positive Rate')\n",
    "plt.ylabel('True Positive Rate')\n",
    "plt.title('Receiver operating characteristic')\n",
    "plt.legend(loc=\"lower right\")\n",
    "plt.savefig('Log_ROC')\n",
    "plt.show()"
   ]
  },
  {
   "cell_type": "markdown",
   "metadata": {},
   "source": [
    "#### Model Tuning ( Model Doğrulama)"
   ]
  },
  {
   "cell_type": "code",
   "execution_count": 98,
   "metadata": {},
   "outputs": [],
   "source": [
    "X_train, X_test, y_train, y_test = train_test_split(X,\n",
    "                                                   y,\n",
    "                                                   test_size=0.30,\n",
    "                                                   random_state=42)"
   ]
  },
  {
   "cell_type": "code",
   "execution_count": 99,
   "metadata": {},
   "outputs": [],
   "source": [
    "loj_model = LogisticRegression(solver= \"liblinear\").fit(X_train,y_train) "
   ]
  },
  {
   "cell_type": "code",
   "execution_count": 100,
   "metadata": {},
   "outputs": [],
   "source": [
    "y_pred = loj_model.predict(X_test)"
   ]
  },
  {
   "cell_type": "code",
   "execution_count": 101,
   "metadata": {},
   "outputs": [
    {
     "name": "stdout",
     "output_type": "stream",
     "text": [
      "0.7532467532467533\n"
     ]
    }
   ],
   "source": [
    "print(accuracy_score(y_test, y_pred))"
   ]
  },
  {
   "cell_type": "code",
   "execution_count": 102,
   "metadata": {},
   "outputs": [
    {
     "data": {
      "text/plain": [
       "0.7704710144927536"
      ]
     },
     "execution_count": 102,
     "metadata": {},
     "output_type": "execute_result"
    }
   ],
   "source": [
    "cross_val_score(loj_model,X_test,y_test,cv=10).mean()"
   ]
  },
  {
   "cell_type": "markdown",
   "metadata": {},
   "source": [
    "### KNN K-En Yakın Komşu "
   ]
  },
  {
   "cell_type": "code",
   "execution_count": 103,
   "metadata": {},
   "outputs": [],
   "source": [
    "# 1 nokta gözlem birimlerine uzaklığına bakılır. öklid olabilir\n",
    "# k adet gözlem y değerinin en sık gözlenen tahmin edilen sınıf olur."
   ]
  },
  {
   "cell_type": "code",
   "execution_count": 104,
   "metadata": {},
   "outputs": [
    {
     "data": {
      "text/html": [
       "<div>\n",
       "<style scoped>\n",
       "    .dataframe tbody tr th:only-of-type {\n",
       "        vertical-align: middle;\n",
       "    }\n",
       "\n",
       "    .dataframe tbody tr th {\n",
       "        vertical-align: top;\n",
       "    }\n",
       "\n",
       "    .dataframe thead th {\n",
       "        text-align: right;\n",
       "    }\n",
       "</style>\n",
       "<table border=\"1\" class=\"dataframe\">\n",
       "  <thead>\n",
       "    <tr style=\"text-align: right;\">\n",
       "      <th></th>\n",
       "      <th>Pregnancies</th>\n",
       "      <th>Glucose</th>\n",
       "      <th>BloodPressure</th>\n",
       "      <th>SkinThickness</th>\n",
       "      <th>Insulin</th>\n",
       "      <th>BMI</th>\n",
       "      <th>DiabetesPedigreeFunction</th>\n",
       "      <th>Age</th>\n",
       "      <th>Outcome</th>\n",
       "    </tr>\n",
       "  </thead>\n",
       "  <tbody>\n",
       "    <tr>\n",
       "      <th>0</th>\n",
       "      <td>6</td>\n",
       "      <td>148</td>\n",
       "      <td>72</td>\n",
       "      <td>35</td>\n",
       "      <td>0</td>\n",
       "      <td>33.6</td>\n",
       "      <td>0.627</td>\n",
       "      <td>50</td>\n",
       "      <td>1</td>\n",
       "    </tr>\n",
       "    <tr>\n",
       "      <th>1</th>\n",
       "      <td>1</td>\n",
       "      <td>85</td>\n",
       "      <td>66</td>\n",
       "      <td>29</td>\n",
       "      <td>0</td>\n",
       "      <td>26.6</td>\n",
       "      <td>0.351</td>\n",
       "      <td>31</td>\n",
       "      <td>0</td>\n",
       "    </tr>\n",
       "    <tr>\n",
       "      <th>2</th>\n",
       "      <td>8</td>\n",
       "      <td>183</td>\n",
       "      <td>64</td>\n",
       "      <td>0</td>\n",
       "      <td>0</td>\n",
       "      <td>23.3</td>\n",
       "      <td>0.672</td>\n",
       "      <td>32</td>\n",
       "      <td>1</td>\n",
       "    </tr>\n",
       "    <tr>\n",
       "      <th>3</th>\n",
       "      <td>1</td>\n",
       "      <td>89</td>\n",
       "      <td>66</td>\n",
       "      <td>23</td>\n",
       "      <td>94</td>\n",
       "      <td>28.1</td>\n",
       "      <td>0.167</td>\n",
       "      <td>21</td>\n",
       "      <td>0</td>\n",
       "    </tr>\n",
       "    <tr>\n",
       "      <th>4</th>\n",
       "      <td>0</td>\n",
       "      <td>137</td>\n",
       "      <td>40</td>\n",
       "      <td>35</td>\n",
       "      <td>168</td>\n",
       "      <td>43.1</td>\n",
       "      <td>2.288</td>\n",
       "      <td>33</td>\n",
       "      <td>1</td>\n",
       "    </tr>\n",
       "  </tbody>\n",
       "</table>\n",
       "</div>"
      ],
      "text/plain": [
       "   Pregnancies  Glucose  BloodPressure  SkinThickness  Insulin   BMI  \\\n",
       "0            6      148             72             35        0  33.6   \n",
       "1            1       85             66             29        0  26.6   \n",
       "2            8      183             64              0        0  23.3   \n",
       "3            1       89             66             23       94  28.1   \n",
       "4            0      137             40             35      168  43.1   \n",
       "\n",
       "   DiabetesPedigreeFunction  Age  Outcome  \n",
       "0                     0.627   50        1  \n",
       "1                     0.351   31        0  \n",
       "2                     0.672   32        1  \n",
       "3                     0.167   21        0  \n",
       "4                     2.288   33        1  "
      ]
     },
     "execution_count": 104,
     "metadata": {},
     "output_type": "execute_result"
    }
   ],
   "source": [
    "df.head()"
   ]
  },
  {
   "cell_type": "code",
   "execution_count": 105,
   "metadata": {},
   "outputs": [],
   "source": [
    "y = df[\"Outcome\"]\n",
    "X = df.drop([\"Outcome\"],axis=1)\n",
    "X_train, X_test, y_train, y_test = train_test_split(X,\n",
    "                                                   y,\n",
    "                                                   test_size=0.30,\n",
    "                                                   random_state=42) # random_state göre böler aynı sonuçlar olsun diye."
   ]
  },
  {
   "cell_type": "markdown",
   "metadata": {},
   "source": [
    "#### Model & Tahmin"
   ]
  },
  {
   "cell_type": "code",
   "execution_count": 113,
   "metadata": {},
   "outputs": [],
   "source": [
    "knn_model = KNeighborsClassifier().fit(X_train,y_train)"
   ]
  },
  {
   "cell_type": "code",
   "execution_count": 114,
   "metadata": {},
   "outputs": [
    {
     "data": {
      "text/plain": [
       "KNeighborsClassifier(algorithm='auto', leaf_size=30, metric='minkowski',\n",
       "           metric_params=None, n_jobs=1, n_neighbors=5, p=2,\n",
       "           weights='uniform')"
      ]
     },
     "execution_count": 114,
     "metadata": {},
     "output_type": "execute_result"
    }
   ],
   "source": [
    "knn_model"
   ]
  },
  {
   "cell_type": "code",
   "execution_count": 115,
   "metadata": {},
   "outputs": [],
   "source": [
    "y_pred = knn_model.predict(X_test)"
   ]
  },
  {
   "cell_type": "code",
   "execution_count": 116,
   "metadata": {},
   "outputs": [
    {
     "data": {
      "text/plain": [
       "0.6883116883116883"
      ]
     },
     "execution_count": 116,
     "metadata": {},
     "output_type": "execute_result"
    }
   ],
   "source": [
    "accuracy_score(y_test, y_pred)"
   ]
  },
  {
   "cell_type": "code",
   "execution_count": 117,
   "metadata": {},
   "outputs": [
    {
     "name": "stdout",
     "output_type": "stream",
     "text": [
      "             precision    recall  f1-score   support\n",
      "\n",
      "          0       0.77      0.75      0.76       151\n",
      "          1       0.55      0.56      0.56        80\n",
      "\n",
      "avg / total       0.69      0.69      0.69       231\n",
      "\n"
     ]
    }
   ],
   "source": [
    "print(classification_report(y_test, y_pred))"
   ]
  },
  {
   "cell_type": "markdown",
   "metadata": {},
   "source": [
    "#### Model Tuning"
   ]
  },
  {
   "cell_type": "code",
   "execution_count": 118,
   "metadata": {},
   "outputs": [],
   "source": [
    "knn = KNeighborsClassifier()"
   ]
  },
  {
   "cell_type": "code",
   "execution_count": 119,
   "metadata": {},
   "outputs": [
    {
     "data": {
      "text/plain": [
       "array([ 1,  2,  3,  4,  5,  6,  7,  8,  9, 10, 11, 12, 13, 14, 15, 16, 17,\n",
       "       18, 19, 20, 21, 22, 23, 24, 25, 26, 27, 28, 29, 30, 31, 32, 33, 34,\n",
       "       35, 36, 37, 38, 39, 40, 41, 42, 43, 44, 45, 46, 47, 48, 49])"
      ]
     },
     "execution_count": 119,
     "metadata": {},
     "output_type": "execute_result"
    }
   ],
   "source": [
    "np.arange(1,50)"
   ]
  },
  {
   "cell_type": "code",
   "execution_count": 120,
   "metadata": {},
   "outputs": [],
   "source": [
    "knn_params={\"n_neighbors\":np.arange(1,50)}"
   ]
  },
  {
   "cell_type": "code",
   "execution_count": 121,
   "metadata": {},
   "outputs": [],
   "source": [
    "knn_cv_model = GridSearchCV(knn,knn_params,cv=10).fit(X_train,y_train)"
   ]
  },
  {
   "cell_type": "code",
   "execution_count": 123,
   "metadata": {},
   "outputs": [
    {
     "data": {
      "text/plain": [
       "0.7486033519553073"
      ]
     },
     "execution_count": 123,
     "metadata": {},
     "output_type": "execute_result"
    }
   ],
   "source": [
    "knn_cv_model.best_score_"
   ]
  },
  {
   "cell_type": "code",
   "execution_count": 124,
   "metadata": {},
   "outputs": [
    {
     "data": {
      "text/plain": [
       "{'n_neighbors': 11}"
      ]
     },
     "execution_count": 124,
     "metadata": {},
     "output_type": "execute_result"
    }
   ],
   "source": [
    "knn_cv_model.best_params_"
   ]
  },
  {
   "cell_type": "code",
   "execution_count": 125,
   "metadata": {},
   "outputs": [],
   "source": [
    "knn_tuned = KNeighborsClassifier(n_neighbors = 11).fit(X_train,y_train)"
   ]
  },
  {
   "cell_type": "code",
   "execution_count": 129,
   "metadata": {},
   "outputs": [],
   "source": [
    "y_pred = knn_tuned.predict(X_test)"
   ]
  },
  {
   "cell_type": "code",
   "execution_count": 130,
   "metadata": {},
   "outputs": [
    {
     "data": {
      "text/plain": [
       "0.7316017316017316"
      ]
     },
     "execution_count": 130,
     "metadata": {},
     "output_type": "execute_result"
    }
   ],
   "source": [
    "accuracy_score(y_test, y_pred)"
   ]
  },
  {
   "cell_type": "code",
   "execution_count": 131,
   "metadata": {},
   "outputs": [
    {
     "data": {
      "text/plain": [
       "0.7316017316017316"
      ]
     },
     "execution_count": 131,
     "metadata": {},
     "output_type": "execute_result"
    }
   ],
   "source": [
    "knn_tuned.score(X_test,y_test)"
   ]
  },
  {
   "cell_type": "markdown",
   "metadata": {},
   "source": [
    "### Destek Vektör Makineleri (SVM)"
   ]
  },
  {
   "cell_type": "code",
   "execution_count": 132,
   "metadata": {},
   "outputs": [],
   "source": [
    "# amaç iki sınf arasındaki ayrımı optimum olmasını sağlayacak hiper-düzlemi bulmaktır."
   ]
  },
  {
   "cell_type": "code",
   "execution_count": 133,
   "metadata": {},
   "outputs": [],
   "source": [
    "# şeker hastası 1 değil 0"
   ]
  },
  {
   "cell_type": "code",
   "execution_count": 134,
   "metadata": {},
   "outputs": [],
   "source": [
    "# iki sınıf arasındaki ayrımı max(marjin aralığı) sağlayacak ayrımı yapan doğru,düzlem"
   ]
  },
  {
   "cell_type": "code",
   "execution_count": 135,
   "metadata": {},
   "outputs": [],
   "source": [
    "# marjin hesaplamada hard veya soft toleranslı veya toleranssız"
   ]
  },
  {
   "cell_type": "code",
   "execution_count": 136,
   "metadata": {},
   "outputs": [],
   "source": [
    "# Doğrusal olmayan SVM "
   ]
  },
  {
   "cell_type": "code",
   "execution_count": 137,
   "metadata": {},
   "outputs": [
    {
     "data": {
      "text/html": [
       "<div>\n",
       "<style scoped>\n",
       "    .dataframe tbody tr th:only-of-type {\n",
       "        vertical-align: middle;\n",
       "    }\n",
       "\n",
       "    .dataframe tbody tr th {\n",
       "        vertical-align: top;\n",
       "    }\n",
       "\n",
       "    .dataframe thead th {\n",
       "        text-align: right;\n",
       "    }\n",
       "</style>\n",
       "<table border=\"1\" class=\"dataframe\">\n",
       "  <thead>\n",
       "    <tr style=\"text-align: right;\">\n",
       "      <th></th>\n",
       "      <th>Pregnancies</th>\n",
       "      <th>Glucose</th>\n",
       "      <th>BloodPressure</th>\n",
       "      <th>SkinThickness</th>\n",
       "      <th>Insulin</th>\n",
       "      <th>BMI</th>\n",
       "      <th>DiabetesPedigreeFunction</th>\n",
       "      <th>Age</th>\n",
       "      <th>Outcome</th>\n",
       "    </tr>\n",
       "  </thead>\n",
       "  <tbody>\n",
       "    <tr>\n",
       "      <th>0</th>\n",
       "      <td>6</td>\n",
       "      <td>148</td>\n",
       "      <td>72</td>\n",
       "      <td>35</td>\n",
       "      <td>0</td>\n",
       "      <td>33.6</td>\n",
       "      <td>0.627</td>\n",
       "      <td>50</td>\n",
       "      <td>1</td>\n",
       "    </tr>\n",
       "    <tr>\n",
       "      <th>1</th>\n",
       "      <td>1</td>\n",
       "      <td>85</td>\n",
       "      <td>66</td>\n",
       "      <td>29</td>\n",
       "      <td>0</td>\n",
       "      <td>26.6</td>\n",
       "      <td>0.351</td>\n",
       "      <td>31</td>\n",
       "      <td>0</td>\n",
       "    </tr>\n",
       "    <tr>\n",
       "      <th>2</th>\n",
       "      <td>8</td>\n",
       "      <td>183</td>\n",
       "      <td>64</td>\n",
       "      <td>0</td>\n",
       "      <td>0</td>\n",
       "      <td>23.3</td>\n",
       "      <td>0.672</td>\n",
       "      <td>32</td>\n",
       "      <td>1</td>\n",
       "    </tr>\n",
       "    <tr>\n",
       "      <th>3</th>\n",
       "      <td>1</td>\n",
       "      <td>89</td>\n",
       "      <td>66</td>\n",
       "      <td>23</td>\n",
       "      <td>94</td>\n",
       "      <td>28.1</td>\n",
       "      <td>0.167</td>\n",
       "      <td>21</td>\n",
       "      <td>0</td>\n",
       "    </tr>\n",
       "    <tr>\n",
       "      <th>4</th>\n",
       "      <td>0</td>\n",
       "      <td>137</td>\n",
       "      <td>40</td>\n",
       "      <td>35</td>\n",
       "      <td>168</td>\n",
       "      <td>43.1</td>\n",
       "      <td>2.288</td>\n",
       "      <td>33</td>\n",
       "      <td>1</td>\n",
       "    </tr>\n",
       "  </tbody>\n",
       "</table>\n",
       "</div>"
      ],
      "text/plain": [
       "   Pregnancies  Glucose  BloodPressure  SkinThickness  Insulin   BMI  \\\n",
       "0            6      148             72             35        0  33.6   \n",
       "1            1       85             66             29        0  26.6   \n",
       "2            8      183             64              0        0  23.3   \n",
       "3            1       89             66             23       94  28.1   \n",
       "4            0      137             40             35      168  43.1   \n",
       "\n",
       "   DiabetesPedigreeFunction  Age  Outcome  \n",
       "0                     0.627   50        1  \n",
       "1                     0.351   31        0  \n",
       "2                     0.672   32        1  \n",
       "3                     0.167   21        0  \n",
       "4                     2.288   33        1  "
      ]
     },
     "execution_count": 137,
     "metadata": {},
     "output_type": "execute_result"
    }
   ],
   "source": [
    "df.head()"
   ]
  },
  {
   "cell_type": "code",
   "execution_count": 138,
   "metadata": {},
   "outputs": [],
   "source": [
    "X_train, X_test, y_train, y_test = train_test_split(X,\n",
    "                                                   y,\n",
    "                                                   test_size=0.30,\n",
    "                                                   random_state=42)"
   ]
  },
  {
   "cell_type": "markdown",
   "metadata": {},
   "source": [
    "#### Model & Tahmin"
   ]
  },
  {
   "cell_type": "code",
   "execution_count": 141,
   "metadata": {},
   "outputs": [],
   "source": [
    "svm_model = SVC(kernel = \"linear\").fit(X_train,y_train)"
   ]
  },
  {
   "cell_type": "code",
   "execution_count": 142,
   "metadata": {},
   "outputs": [
    {
     "data": {
      "text/plain": [
       "SVC(C=1.0, cache_size=200, class_weight=None, coef0=0.0,\n",
       "  decision_function_shape='ovr', degree=3, gamma='auto', kernel='linear',\n",
       "  max_iter=-1, probability=False, random_state=None, shrinking=True,\n",
       "  tol=0.001, verbose=False)"
      ]
     },
     "execution_count": 142,
     "metadata": {},
     "output_type": "execute_result"
    }
   ],
   "source": [
    "svm_model"
   ]
  },
  {
   "cell_type": "code",
   "execution_count": 143,
   "metadata": {},
   "outputs": [],
   "source": [
    "y_pred = svm_model.predict(X_test)"
   ]
  },
  {
   "cell_type": "code",
   "execution_count": 144,
   "metadata": {},
   "outputs": [
    {
     "data": {
      "text/plain": [
       "0.7445887445887446"
      ]
     },
     "execution_count": 144,
     "metadata": {},
     "output_type": "execute_result"
    }
   ],
   "source": [
    "accuracy_score(y_test,y_pred)"
   ]
  },
  {
   "cell_type": "markdown",
   "metadata": {},
   "source": [
    "#### Model Tuning"
   ]
  },
  {
   "cell_type": "code",
   "execution_count": 146,
   "metadata": {},
   "outputs": [],
   "source": [
    "svm = SVC()"
   ]
  },
  {
   "cell_type": "code",
   "execution_count": 145,
   "metadata": {},
   "outputs": [],
   "source": [
    "svm_params = {\"C\":np.arange(1,10),\"kernel\":[\"linear\",\"rbf\"]} "
   ]
  },
  {
   "cell_type": "code",
   "execution_count": 148,
   "metadata": {},
   "outputs": [],
   "source": [
    "# n_jobs =-1 işlemci full performans \n",
    "# verbose = 2 bilgileri gösterme"
   ]
  },
  {
   "cell_type": "code",
   "execution_count": 147,
   "metadata": {},
   "outputs": [
    {
     "name": "stdout",
     "output_type": "stream",
     "text": [
      "Fitting 5 folds for each of 18 candidates, totalling 90 fits\n"
     ]
    },
    {
     "name": "stderr",
     "output_type": "stream",
     "text": [
      "[Parallel(n_jobs=-1)]: Done  33 tasks      | elapsed:  1.5min\n",
      "[Parallel(n_jobs=-1)]: Done  90 out of  90 | elapsed:  7.2min finished\n"
     ]
    }
   ],
   "source": [
    "svm_cv_model = GridSearchCV(svm,svm_params,cv=5,n_jobs=-1,verbose=2).fit(X_train,y_train)"
   ]
  },
  {
   "cell_type": "code",
   "execution_count": 149,
   "metadata": {},
   "outputs": [
    {
     "data": {
      "text/plain": [
       "0.7821229050279329"
      ]
     },
     "execution_count": 149,
     "metadata": {},
     "output_type": "execute_result"
    }
   ],
   "source": [
    "svm_cv_model.best_score_"
   ]
  },
  {
   "cell_type": "code",
   "execution_count": 150,
   "metadata": {},
   "outputs": [
    {
     "data": {
      "text/plain": [
       "{'C': 2, 'kernel': 'linear'}"
      ]
     },
     "execution_count": 150,
     "metadata": {},
     "output_type": "execute_result"
    }
   ],
   "source": [
    "svm_cv_model.best_params_"
   ]
  },
  {
   "cell_type": "code",
   "execution_count": 151,
   "metadata": {},
   "outputs": [],
   "source": [
    "# final model"
   ]
  },
  {
   "cell_type": "code",
   "execution_count": 157,
   "metadata": {},
   "outputs": [],
   "source": [
    "svm_tuned = SVC( C=2,kernel=\"linear\").fit(X_train,y_train) # ceza parametresi 2"
   ]
  },
  {
   "cell_type": "code",
   "execution_count": 158,
   "metadata": {},
   "outputs": [],
   "source": [
    "y_pred = svm_tuned.predict(X_test)"
   ]
  },
  {
   "cell_type": "code",
   "execution_count": 159,
   "metadata": {},
   "outputs": [
    {
     "data": {
      "text/plain": [
       "0.7445887445887446"
      ]
     },
     "execution_count": 159,
     "metadata": {},
     "output_type": "execute_result"
    }
   ],
   "source": [
    "accuracy_score(y_test,y_pred)"
   ]
  },
  {
   "cell_type": "markdown",
   "metadata": {},
   "source": [
    "### Yapay Sinir Ağları"
   ]
  },
  {
   "cell_type": "code",
   "execution_count": 7,
   "metadata": {},
   "outputs": [
    {
     "data": {
      "text/html": [
       "<div>\n",
       "<style scoped>\n",
       "    .dataframe tbody tr th:only-of-type {\n",
       "        vertical-align: middle;\n",
       "    }\n",
       "\n",
       "    .dataframe tbody tr th {\n",
       "        vertical-align: top;\n",
       "    }\n",
       "\n",
       "    .dataframe thead th {\n",
       "        text-align: right;\n",
       "    }\n",
       "</style>\n",
       "<table border=\"1\" class=\"dataframe\">\n",
       "  <thead>\n",
       "    <tr style=\"text-align: right;\">\n",
       "      <th></th>\n",
       "      <th>Pregnancies</th>\n",
       "      <th>Glucose</th>\n",
       "      <th>BloodPressure</th>\n",
       "      <th>SkinThickness</th>\n",
       "      <th>Insulin</th>\n",
       "      <th>BMI</th>\n",
       "      <th>DiabetesPedigreeFunction</th>\n",
       "      <th>Age</th>\n",
       "      <th>Outcome</th>\n",
       "    </tr>\n",
       "  </thead>\n",
       "  <tbody>\n",
       "    <tr>\n",
       "      <th>0</th>\n",
       "      <td>6</td>\n",
       "      <td>148</td>\n",
       "      <td>72</td>\n",
       "      <td>35</td>\n",
       "      <td>0</td>\n",
       "      <td>33.6</td>\n",
       "      <td>0.627</td>\n",
       "      <td>50</td>\n",
       "      <td>1</td>\n",
       "    </tr>\n",
       "    <tr>\n",
       "      <th>1</th>\n",
       "      <td>1</td>\n",
       "      <td>85</td>\n",
       "      <td>66</td>\n",
       "      <td>29</td>\n",
       "      <td>0</td>\n",
       "      <td>26.6</td>\n",
       "      <td>0.351</td>\n",
       "      <td>31</td>\n",
       "      <td>0</td>\n",
       "    </tr>\n",
       "    <tr>\n",
       "      <th>2</th>\n",
       "      <td>8</td>\n",
       "      <td>183</td>\n",
       "      <td>64</td>\n",
       "      <td>0</td>\n",
       "      <td>0</td>\n",
       "      <td>23.3</td>\n",
       "      <td>0.672</td>\n",
       "      <td>32</td>\n",
       "      <td>1</td>\n",
       "    </tr>\n",
       "    <tr>\n",
       "      <th>3</th>\n",
       "      <td>1</td>\n",
       "      <td>89</td>\n",
       "      <td>66</td>\n",
       "      <td>23</td>\n",
       "      <td>94</td>\n",
       "      <td>28.1</td>\n",
       "      <td>0.167</td>\n",
       "      <td>21</td>\n",
       "      <td>0</td>\n",
       "    </tr>\n",
       "    <tr>\n",
       "      <th>4</th>\n",
       "      <td>0</td>\n",
       "      <td>137</td>\n",
       "      <td>40</td>\n",
       "      <td>35</td>\n",
       "      <td>168</td>\n",
       "      <td>43.1</td>\n",
       "      <td>2.288</td>\n",
       "      <td>33</td>\n",
       "      <td>1</td>\n",
       "    </tr>\n",
       "  </tbody>\n",
       "</table>\n",
       "</div>"
      ],
      "text/plain": [
       "   Pregnancies  Glucose  BloodPressure  SkinThickness  Insulin   BMI  \\\n",
       "0            6      148             72             35        0  33.6   \n",
       "1            1       85             66             29        0  26.6   \n",
       "2            8      183             64              0        0  23.3   \n",
       "3            1       89             66             23       94  28.1   \n",
       "4            0      137             40             35      168  43.1   \n",
       "\n",
       "   DiabetesPedigreeFunction  Age  Outcome  \n",
       "0                     0.627   50        1  \n",
       "1                     0.351   31        0  \n",
       "2                     0.672   32        1  \n",
       "3                     0.167   21        0  \n",
       "4                     2.288   33        1  "
      ]
     },
     "execution_count": 7,
     "metadata": {},
     "output_type": "execute_result"
    }
   ],
   "source": [
    "df.head()"
   ]
  },
  {
   "cell_type": "code",
   "execution_count": 45,
   "metadata": {},
   "outputs": [],
   "source": [
    "X_train, X_test, y_train, y_test = train_test_split(X, y,\n",
    "                                                   test_size=0.30,\n",
    "                                                   random_state=42)"
   ]
  },
  {
   "cell_type": "code",
   "execution_count": 46,
   "metadata": {},
   "outputs": [],
   "source": [
    "scaler = StandardScaler()"
   ]
  },
  {
   "cell_type": "code",
   "execution_count": 47,
   "metadata": {},
   "outputs": [],
   "source": [
    "scaler.fit(X_train)\n",
    "X_train= scaler.transform(X_train)"
   ]
  },
  {
   "cell_type": "code",
   "execution_count": 48,
   "metadata": {},
   "outputs": [],
   "source": [
    "scaler.fit(X_test)\n",
    "X_test= scaler.transform(X_test)"
   ]
  },
  {
   "cell_type": "markdown",
   "metadata": {},
   "source": [
    "#### Model & Tahmin"
   ]
  },
  {
   "cell_type": "code",
   "execution_count": 13,
   "metadata": {},
   "outputs": [],
   "source": [
    "mlpc_model = MLPClassifier().fit(X_train,y_train)"
   ]
  },
  {
   "cell_type": "code",
   "execution_count": 14,
   "metadata": {},
   "outputs": [
    {
     "data": {
      "text/plain": [
       "[array([[-9.96951479e-02,  1.67370768e-02,  1.73435884e-02,\n",
       "          1.63551961e-01,  9.79167997e-02, -5.41967802e-02,\n",
       "          4.42786564e-02,  8.86802498e-02, -1.03030403e-01,\n",
       "          7.02089508e-02,  5.20903692e-02, -1.90199295e-01,\n",
       "         -1.34850009e-01,  5.68705515e-02, -7.50623519e-02,\n",
       "          5.33068104e-02,  2.18712556e-01, -9.62626008e-03,\n",
       "         -9.79874116e-02,  1.07873314e-01,  6.32250682e-02,\n",
       "         -2.12387889e-01, -1.01560813e-01,  1.50541232e-01,\n",
       "          7.75298804e-02,  8.41068188e-02, -8.41943179e-03,\n",
       "         -1.73740877e-01,  2.35038407e-01,  2.64338462e-02,\n",
       "         -1.96327209e-01, -6.81739841e-03, -7.36371015e-02,\n",
       "          2.45411824e-01,  1.17826575e-01, -1.23990237e-02,\n",
       "          5.13912007e-02,  1.49084081e-01, -1.34472287e-01,\n",
       "         -2.19041965e-01,  1.09218880e-01, -5.82248289e-02,\n",
       "          1.54497402e-01,  1.89515063e-02, -2.31229230e-01,\n",
       "          1.47549663e-01,  2.33585045e-02, -7.03951690e-02,\n",
       "         -1.86770642e-01,  7.29888884e-04,  1.52888765e-01,\n",
       "          1.19076197e-01,  9.30490359e-02,  1.57248681e-01,\n",
       "         -9.99449444e-02, -1.15253531e-01,  6.35067278e-02,\n",
       "          1.73185539e-01,  1.27691580e-01,  3.15304083e-02,\n",
       "         -5.09033178e-02,  8.67113936e-02,  1.53953467e-01,\n",
       "         -6.74304731e-02,  1.52002033e-01, -1.89133701e-02,\n",
       "         -2.09009378e-01,  9.08126498e-02,  1.76536904e-01,\n",
       "         -1.72369425e-01,  5.12735756e-02, -8.20444731e-02,\n",
       "         -7.79816361e-02,  8.69545002e-02,  6.42735319e-02,\n",
       "          1.98001444e-02,  4.07678578e-02, -9.95437569e-02,\n",
       "          1.29143046e-01, -3.27486051e-02,  1.11072389e-01,\n",
       "          1.35710491e-01, -1.37156977e-01,  1.72363627e-01,\n",
       "         -2.38309965e-01, -1.76795548e-01,  1.54454952e-01,\n",
       "          6.08601626e-02, -1.82625172e-01,  5.50988649e-02,\n",
       "          1.12534205e-01,  1.21819341e-01,  4.90097055e-02,\n",
       "         -2.48413670e-02,  2.21474853e-01,  1.65978433e-01,\n",
       "         -8.23951899e-02, -1.06123829e-01, -1.62407381e-01,\n",
       "          1.21317861e-01],\n",
       "        [-1.65790357e-01,  1.32272843e-01, -8.57936751e-02,\n",
       "         -1.25001417e-01,  1.77150696e-01, -7.44333794e-02,\n",
       "          1.49066359e-01,  1.06005324e-01,  1.36463303e-02,\n",
       "         -1.40119675e-01,  1.19187137e-01,  3.86538277e-02,\n",
       "          2.03107663e-01,  2.22850810e-01, -3.61145378e-02,\n",
       "          6.64735546e-02,  8.07939642e-02,  1.51413635e-01,\n",
       "         -5.63550945e-02,  1.17556242e-01, -1.10990895e-01,\n",
       "         -1.97563185e-01,  1.15302768e-01, -2.53724695e-01,\n",
       "          1.74177808e-01,  9.48117786e-02, -2.56195444e-02,\n",
       "          1.26444487e-01, -1.10351554e-01,  1.12116445e-01,\n",
       "          5.58163520e-02, -6.26613587e-03, -2.23273334e-01,\n",
       "         -1.53361597e-01,  1.25847453e-01,  1.86555134e-01,\n",
       "          2.26622310e-01,  7.76065564e-02,  5.53077711e-02,\n",
       "          2.19496932e-01, -1.73373025e-01, -1.28336383e-01,\n",
       "         -2.04220097e-01, -1.19522734e-01,  2.07766120e-01,\n",
       "          2.06708281e-01, -1.07381846e-01, -3.45508959e-03,\n",
       "          1.19508734e-01,  6.23425759e-02, -1.24761018e-01,\n",
       "          1.35270188e-01, -1.94566935e-01, -2.11605426e-01,\n",
       "          2.00968829e-01, -2.42872264e-02, -6.07552906e-02,\n",
       "         -2.23403206e-01,  1.69987153e-01,  1.55958820e-01,\n",
       "          1.80935954e-01, -1.05871328e-01,  2.83183116e-02,\n",
       "          1.95818709e-01,  1.66487990e-02,  1.73036867e-01,\n",
       "          3.50327839e-02,  5.75904000e-02, -1.09659884e-01,\n",
       "         -2.22078191e-01,  1.02540548e-01, -1.06835718e-01,\n",
       "          1.24341545e-01,  1.29456141e-02,  5.57085804e-02,\n",
       "          1.13808508e-01, -3.56483258e-02,  1.81206360e-01,\n",
       "         -1.11462170e-01, -1.42622410e-02, -9.05300389e-02,\n",
       "         -9.12842587e-02, -1.63187351e-01,  9.74691399e-02,\n",
       "          2.11369968e-01,  2.72165789e-02, -1.47931504e-01,\n",
       "          1.85010503e-01, -7.60384673e-02, -1.79312589e-01,\n",
       "          4.42129576e-02, -1.68155214e-01,  2.13213614e-01,\n",
       "         -2.28757294e-01, -2.00991958e-02,  1.57798983e-01,\n",
       "          1.66471421e-01, -8.43149848e-02,  3.01886261e-02,\n",
       "          1.43646487e-01],\n",
       "        [ 1.19648002e-01, -1.42424110e-01,  1.42428845e-02,\n",
       "          6.87959976e-02,  8.66267709e-02, -3.11237109e-02,\n",
       "          8.02732805e-04,  1.03898610e-01,  1.83251732e-02,\n",
       "          2.16310875e-01, -3.92206290e-03,  2.05654368e-01,\n",
       "         -1.39785304e-01,  2.05320591e-01,  2.12806597e-01,\n",
       "          1.69569600e-01,  8.38034116e-02, -6.35482867e-02,\n",
       "         -1.10612637e-01, -1.32038631e-01,  9.67901142e-02,\n",
       "         -3.21002002e-02,  7.70842478e-02, -1.88301476e-01,\n",
       "          2.04765609e-01,  2.03209339e-01,  7.09504293e-02,\n",
       "         -1.71107952e-01, -1.22841837e-01,  2.15553773e-02,\n",
       "          9.40478428e-02, -8.95511841e-02,  1.96196090e-01,\n",
       "         -1.41906771e-02,  1.92284625e-01, -1.12881411e-01,\n",
       "         -7.21595066e-02, -1.95351282e-01,  1.16825484e-01,\n",
       "          3.49460791e-02,  1.13137054e-01,  9.41892323e-02,\n",
       "         -2.69156427e-02,  8.90325226e-05,  3.67512800e-02,\n",
       "         -2.34975669e-01, -6.62403005e-02, -1.75764623e-01,\n",
       "         -2.46707536e-02, -2.21195962e-01,  1.84772612e-01,\n",
       "         -1.60154305e-01,  1.22794951e-01,  3.33318236e-02,\n",
       "         -1.15597960e-01,  1.73731013e-02, -1.08264004e-01,\n",
       "          1.05222316e-01, -6.43429889e-02,  2.27577443e-01,\n",
       "         -2.09232154e-01,  1.25378906e-01, -4.98409932e-02,\n",
       "          1.30009070e-01,  1.45684847e-01,  1.53446979e-01,\n",
       "          9.00759105e-02,  1.01936347e-01, -2.65823180e-02,\n",
       "          1.33790812e-01,  1.85639784e-01, -1.78750638e-03,\n",
       "         -1.54674523e-01,  2.03975095e-02,  3.97682568e-02,\n",
       "          1.51561853e-01,  7.42732358e-02, -8.66404845e-03,\n",
       "         -8.10855405e-02,  1.04606665e-01,  1.99123469e-02,\n",
       "         -2.88465369e-02, -2.00858007e-01,  1.86639092e-01,\n",
       "          5.16596161e-02,  5.94864811e-02,  1.92180266e-01,\n",
       "         -1.59304826e-01,  1.23481462e-01, -1.17016149e-01,\n",
       "         -1.92337071e-02,  1.31066658e-01, -2.97975386e-02,\n",
       "         -1.51812235e-01, -1.96412403e-01, -1.55167249e-01,\n",
       "         -1.50912134e-01, -1.18241125e-01,  4.86716542e-02,\n",
       "          1.03463196e-01],\n",
       "        [-1.16529228e-02, -1.45337419e-01, -1.45363181e-02,\n",
       "          1.17784374e-01, -5.56003420e-02,  7.38418620e-02,\n",
       "         -2.28494625e-01, -1.35713319e-01, -2.12528169e-01,\n",
       "          5.27241687e-03, -1.07853210e-01,  1.37541638e-01,\n",
       "         -8.49445505e-02, -2.22660794e-01,  6.38660415e-02,\n",
       "         -2.57350813e-02,  9.00873346e-02,  1.76821120e-01,\n",
       "         -1.83295986e-01, -2.24114100e-01, -1.43257582e-01,\n",
       "         -8.64680794e-02, -4.31330659e-02, -2.25214202e-01,\n",
       "         -2.26417088e-01, -2.76774704e-02, -2.03811920e-01,\n",
       "         -1.69914769e-01, -2.15903135e-01,  5.62220064e-02,\n",
       "         -1.61734212e-01, -2.12575393e-01, -6.54959011e-02,\n",
       "         -2.05959122e-01,  2.01921293e-01, -1.19923488e-01,\n",
       "          1.84029204e-01, -2.20097389e-01, -1.99194982e-01,\n",
       "          8.83083520e-02, -1.76121575e-01,  1.06102204e-01,\n",
       "          9.24971278e-02, -7.41258270e-02,  1.15690707e-02,\n",
       "          6.32979987e-02,  1.61002884e-01, -3.05921677e-02,\n",
       "          2.32704911e-01,  1.75146895e-01,  4.20398166e-02,\n",
       "         -2.34243088e-01,  1.39181867e-01,  2.20905888e-01,\n",
       "         -2.45871196e-02,  7.26124818e-02, -1.79514345e-01,\n",
       "          2.05068343e-01, -1.33855198e-01, -4.21084316e-02,\n",
       "         -2.11495245e-01,  1.13992076e-02,  6.19710773e-02,\n",
       "          2.08218576e-01, -2.35783453e-01, -5.33651372e-02,\n",
       "         -2.10904624e-01, -2.08021890e-01,  2.36640321e-01,\n",
       "         -2.11694487e-01,  6.50052572e-02, -1.07331452e-01,\n",
       "          2.25312098e-01, -1.64925506e-01, -1.34495114e-01,\n",
       "          4.36303240e-02,  9.61004064e-03,  1.70566216e-01,\n",
       "          1.66723358e-01,  1.83172540e-01, -2.44716214e-02,\n",
       "          8.88038528e-03, -7.45534452e-03,  1.08405371e-01,\n",
       "         -1.12512902e-01,  6.17114306e-03, -5.16752702e-02,\n",
       "         -1.58574535e-01,  1.85793987e-02,  3.47373809e-02,\n",
       "         -3.15311610e-02,  4.43806856e-03,  2.01184594e-02,\n",
       "          1.77000545e-01, -1.91476754e-01,  2.34604890e-01,\n",
       "          7.73390207e-02,  2.82399976e-02,  2.05765111e-01,\n",
       "          1.76799040e-02],\n",
       "        [ 1.23597941e-01, -1.87000548e-01, -3.49858156e-02,\n",
       "         -1.26359536e-01,  1.46830121e-01, -1.95471394e-01,\n",
       "         -1.30933165e-01,  1.91403501e-01,  8.29711929e-02,\n",
       "          9.98687214e-02, -1.88976392e-01, -8.88490597e-02,\n",
       "          2.00492686e-01,  1.80952909e-01,  4.76570587e-02,\n",
       "         -1.84034342e-01,  2.22450044e-01,  1.80542161e-01,\n",
       "         -3.06013627e-03,  2.59202256e-02,  1.14008878e-01,\n",
       "          2.15356978e-01, -4.39289143e-02,  1.60017667e-01,\n",
       "          4.11825361e-02, -9.64937567e-02, -1.86407851e-01,\n",
       "          1.62189992e-01,  4.61273534e-02,  5.86296575e-02,\n",
       "         -4.58924005e-03,  4.68340915e-02,  1.55798433e-01,\n",
       "          1.61283991e-01, -1.53701226e-01, -1.38288373e-01,\n",
       "         -2.22400204e-01,  2.49118791e-02, -5.46214409e-02,\n",
       "         -6.23003591e-02,  8.83497120e-02,  1.69685629e-02,\n",
       "         -9.50816713e-02, -9.96540085e-02, -2.17850470e-01,\n",
       "         -2.37177013e-01,  8.56875734e-02, -9.22686114e-02,\n",
       "         -2.66064232e-03, -1.63851824e-01,  7.21925216e-02,\n",
       "         -2.82329032e-02,  1.96126322e-01, -2.29992307e-02,\n",
       "         -7.83913699e-02,  1.51751282e-01, -1.92722760e-01,\n",
       "         -9.79853022e-02,  5.16591945e-02, -1.67323416e-01,\n",
       "         -1.14025404e-01, -6.65484957e-02,  2.61410875e-02,\n",
       "          9.49411559e-02, -8.06740841e-03, -6.24951622e-02,\n",
       "          1.02589267e-01,  1.39858491e-01,  1.49102994e-01,\n",
       "          2.06421556e-01,  9.77172774e-02,  1.96736647e-01,\n",
       "          2.00205548e-01, -1.63629989e-02,  1.17435110e-01,\n",
       "          1.04522379e-01, -4.97108750e-02, -5.62879242e-02,\n",
       "         -1.11045960e-02, -1.97243595e-01,  1.72286263e-01,\n",
       "          3.19862641e-02,  1.21571571e-01,  1.03486075e-01,\n",
       "          1.34503041e-01, -2.21058669e-01,  1.76123683e-01,\n",
       "          2.19593863e-01, -1.88024681e-02, -1.89164331e-01,\n",
       "          9.93954043e-02, -1.23653284e-01,  1.44346330e-01,\n",
       "          2.20423587e-01, -1.05198303e-01,  1.84275968e-01,\n",
       "         -2.32714692e-01,  1.08448317e-01,  2.72786764e-02,\n",
       "         -1.03718169e-01],\n",
       "        [ 5.75242677e-03,  1.91287967e-01, -5.95152536e-02,\n",
       "          2.01409389e-01,  2.00888099e-01, -1.59953293e-01,\n",
       "          1.77660250e-01,  1.25217645e-01,  3.89502134e-02,\n",
       "          9.12347146e-02, -1.02560498e-01, -8.86265634e-02,\n",
       "         -1.79356708e-01, -9.24652516e-02,  1.54726709e-01,\n",
       "          1.02012263e-01, -1.15709342e-01,  7.10783729e-02,\n",
       "         -3.12552415e-02,  1.21892876e-01, -1.26108291e-01,\n",
       "         -2.36845492e-01,  3.76127610e-03, -2.42746718e-01,\n",
       "         -1.83957537e-01, -1.13025084e-01,  3.76117192e-02,\n",
       "         -7.91784317e-02,  1.56191926e-01, -9.35265609e-03,\n",
       "         -1.68906779e-01,  7.74589245e-02, -8.56733286e-03,\n",
       "          2.15884732e-03,  1.79332949e-01,  1.16820947e-01,\n",
       "          8.32142873e-02,  2.05855897e-01, -1.43786387e-01,\n",
       "         -1.32989687e-01,  2.20382626e-01,  5.11486918e-02,\n",
       "         -6.36974386e-02,  6.54704327e-02, -2.93065351e-04,\n",
       "         -1.77791885e-01, -1.11534668e-01, -1.49996125e-01,\n",
       "          1.12273350e-01,  1.23786194e-01,  7.03606220e-04,\n",
       "          2.93528722e-03,  1.25494986e-01,  1.92218941e-02,\n",
       "          4.84631953e-03, -7.75788888e-02,  1.90105323e-01,\n",
       "         -9.61196021e-02,  1.54450227e-01,  1.62543442e-02,\n",
       "         -5.62455546e-03, -2.24663044e-01,  5.98104644e-02,\n",
       "          2.14457378e-01, -4.47552250e-02,  1.90080133e-01,\n",
       "         -1.58438132e-02,  1.56668468e-01, -8.51616455e-02,\n",
       "         -6.56221913e-02, -2.10846960e-01, -6.13505165e-02,\n",
       "          2.16585461e-01, -6.82779469e-02, -2.41851849e-01,\n",
       "          4.85661081e-02,  2.15903508e-01, -2.18463733e-01,\n",
       "         -1.87658867e-01, -6.53139871e-02, -9.31264237e-02,\n",
       "          1.96335518e-01, -1.89031879e-01,  2.45338822e-02,\n",
       "          2.09091327e-01,  1.50445825e-01, -1.15973740e-01,\n",
       "          1.97872455e-02, -2.42697268e-01,  1.59456910e-01,\n",
       "          1.68344889e-01,  1.65868659e-01,  1.16282821e-01,\n",
       "          3.60456969e-02,  2.04806184e-01,  6.87939026e-02,\n",
       "          1.08220098e-02,  5.15035506e-03,  2.36780670e-01,\n",
       "          7.32434164e-02],\n",
       "        [ 1.17852880e-01, -1.77304878e-01, -7.73546980e-02,\n",
       "         -1.31521783e-03,  9.84272574e-02,  6.61752729e-02,\n",
       "         -1.83699111e-01,  2.08688072e-01,  1.71021638e-02,\n",
       "         -1.59404187e-01, -4.38535004e-02, -2.20131666e-01,\n",
       "         -1.06207702e-01,  5.07893997e-02,  1.68174560e-02,\n",
       "          1.59668685e-01, -1.99690550e-01,  1.54382648e-01,\n",
       "         -9.21690023e-03,  7.87655668e-02, -1.28187583e-01,\n",
       "          1.52711560e-01, -9.05458287e-02,  3.48559958e-02,\n",
       "         -3.61387161e-02, -1.43413827e-01, -8.52014428e-02,\n",
       "         -2.08910579e-01,  1.43036207e-01, -5.53968687e-02,\n",
       "          3.76953533e-02, -1.72647150e-01, -5.44328260e-02,\n",
       "          1.81579926e-01,  1.02119187e-01, -2.24929168e-01,\n",
       "          1.49358754e-01, -1.00581630e-01, -2.49668187e-03,\n",
       "         -1.95013338e-01,  1.19794807e-01,  2.00322851e-02,\n",
       "          1.84227269e-01, -5.81761284e-02, -2.30892608e-01,\n",
       "         -1.15549348e-01,  1.96194369e-03,  8.54470586e-02,\n",
       "         -1.09285468e-01, -1.44916234e-01,  1.15050806e-01,\n",
       "         -4.09135487e-02, -1.04651951e-01,  1.78577483e-01,\n",
       "          3.43326581e-02,  1.03850643e-01,  9.28159299e-02,\n",
       "         -7.98698110e-02,  2.11866350e-02,  3.25213723e-02,\n",
       "          1.62327319e-01,  1.90027663e-01, -1.59113161e-01,\n",
       "         -1.36556767e-01,  1.52134795e-01,  2.21694434e-01,\n",
       "         -6.04896309e-02, -1.67946021e-01,  2.06067875e-01,\n",
       "          5.24959036e-02, -1.94202614e-01, -6.69197700e-02,\n",
       "          9.44473821e-03, -1.89350404e-01,  1.12939495e-01,\n",
       "         -7.56872906e-02,  1.54502451e-01, -2.31414265e-02,\n",
       "          1.84444448e-01,  2.23059206e-01, -1.81517435e-01,\n",
       "         -9.70769008e-02,  2.45250917e-01,  1.29580285e-01,\n",
       "          1.34595407e-01, -6.04095444e-02, -1.60798283e-01,\n",
       "         -7.50747491e-02,  2.17247582e-01, -4.26717611e-02,\n",
       "         -6.36766535e-02, -7.75747865e-02, -8.47049755e-03,\n",
       "          1.38079969e-01,  5.00733882e-02, -1.32843762e-01,\n",
       "         -3.36492643e-03,  5.31244322e-03,  1.96696643e-01,\n",
       "         -2.11585745e-01],\n",
       "        [-1.62577719e-01, -2.66769271e-02, -1.06280817e-01,\n",
       "         -5.76719977e-02,  1.88503769e-01, -2.64106131e-02,\n",
       "         -2.39223898e-02, -3.25636928e-02,  3.05241266e-02,\n",
       "          2.02395079e-01, -2.00556113e-02,  1.44927601e-01,\n",
       "         -1.18161475e-01,  3.12663868e-02,  7.09348896e-02,\n",
       "         -3.25397879e-02, -1.01733696e-01, -1.75551742e-01,\n",
       "          2.11146081e-01, -1.13731447e-01, -7.06516791e-02,\n",
       "          1.96607856e-02,  9.27869545e-02, -8.02298969e-03,\n",
       "          1.47603037e-01, -1.91488501e-02, -1.10774566e-01,\n",
       "          1.54841524e-01,  1.95240155e-01, -2.58401845e-02,\n",
       "          2.84755674e-02,  1.89039342e-01,  2.08411444e-01,\n",
       "          8.72553172e-02, -6.46962352e-02,  7.10791852e-02,\n",
       "          8.56080851e-02, -1.43807458e-01,  2.32414504e-02,\n",
       "         -1.94735217e-01, -1.51792940e-01,  4.19852329e-02,\n",
       "          4.67746739e-02,  1.73957636e-01, -2.27223189e-01,\n",
       "          1.48032000e-02, -1.98665470e-01,  7.09817914e-03,\n",
       "         -1.65936206e-01, -1.55309062e-01,  1.91618610e-02,\n",
       "          7.66595667e-02,  7.59668419e-03, -3.26137190e-02,\n",
       "         -1.30200572e-01, -1.12067978e-02,  7.33883183e-02,\n",
       "          2.12323730e-01,  3.67541464e-02, -1.28845159e-01,\n",
       "         -1.82997900e-01, -1.19020639e-01,  1.23848368e-01,\n",
       "         -1.29446948e-01,  1.29743716e-01, -1.58406758e-01,\n",
       "          2.20747745e-01,  1.22003173e-01, -4.22233161e-02,\n",
       "         -1.77641728e-01, -1.91937774e-03, -5.20861815e-02,\n",
       "         -2.03070916e-01,  5.80030913e-02, -2.38637932e-01,\n",
       "         -9.53005141e-02, -7.48423306e-02, -1.06200815e-01,\n",
       "          2.25918316e-01, -2.15535014e-01,  4.70999754e-02,\n",
       "          4.20192945e-02,  1.92348368e-01,  9.07509229e-02,\n",
       "         -1.92734764e-02,  5.57367074e-02,  9.60447477e-02,\n",
       "          1.09100500e-01,  1.25949499e-01, -1.13482695e-01,\n",
       "          1.41976233e-01,  7.19508861e-02, -8.60946608e-02,\n",
       "         -6.46854454e-02,  1.28608367e-01, -1.53927657e-01,\n",
       "          7.51511249e-02,  6.66233246e-02, -1.55655516e-01,\n",
       "          1.12810228e-01]]), array([[ 0.16670292],\n",
       "        [ 0.05472489],\n",
       "        [-0.07033999],\n",
       "        [ 0.2019661 ],\n",
       "        [ 0.04723211],\n",
       "        [-0.10032638],\n",
       "        [ 0.23125368],\n",
       "        [ 0.03466888],\n",
       "        [ 0.0267317 ],\n",
       "        [ 0.02535694],\n",
       "        [ 0.01491681],\n",
       "        [ 0.22634327],\n",
       "        [-0.15792899],\n",
       "        [ 0.12977755],\n",
       "        [-0.14376488],\n",
       "        [-0.07473658],\n",
       "        [-0.18081742],\n",
       "        [-0.03973047],\n",
       "        [-0.08755532],\n",
       "        [ 0.09298847],\n",
       "        [ 0.16224324],\n",
       "        [-0.15258414],\n",
       "        [-0.18562596],\n",
       "        [-0.1672317 ],\n",
       "        [ 0.14798261],\n",
       "        [-0.13617191],\n",
       "        [-0.01668879],\n",
       "        [-0.0462664 ],\n",
       "        [ 0.23048154],\n",
       "        [ 0.20298528],\n",
       "        [ 0.13634882],\n",
       "        [ 0.24315328],\n",
       "        [-0.17388228],\n",
       "        [ 0.04339642],\n",
       "        [-0.12363374],\n",
       "        [ 0.19735642],\n",
       "        [ 0.08386225],\n",
       "        [-0.04420149],\n",
       "        [-0.20945473],\n",
       "        [ 0.03438511],\n",
       "        [ 0.20466391],\n",
       "        [-0.16691621],\n",
       "        [-0.03932735],\n",
       "        [ 0.03840858],\n",
       "        [-0.20309602],\n",
       "        [ 0.21136475],\n",
       "        [ 0.08661753],\n",
       "        [-0.19369482],\n",
       "        [ 0.18402066],\n",
       "        [-0.00890027],\n",
       "        [-0.05466941],\n",
       "        [-0.02401625],\n",
       "        [ 0.1216965 ],\n",
       "        [ 0.04577525],\n",
       "        [ 0.15766205],\n",
       "        [-0.03238403],\n",
       "        [ 0.01253078],\n",
       "        [-0.07810961],\n",
       "        [ 0.08290932],\n",
       "        [-0.11767528],\n",
       "        [-0.15873037],\n",
       "        [ 0.06114086],\n",
       "        [ 0.12755124],\n",
       "        [ 0.02412659],\n",
       "        [-0.23373658],\n",
       "        [-0.11826769],\n",
       "        [ 0.13477761],\n",
       "        [ 0.08048243],\n",
       "        [ 0.144766  ],\n",
       "        [-0.11141338],\n",
       "        [ 0.23130968],\n",
       "        [ 0.08091075],\n",
       "        [ 0.22360675],\n",
       "        [-0.06343175],\n",
       "        [-0.12479151],\n",
       "        [-0.07173882],\n",
       "        [-0.01019284],\n",
       "        [ 0.05176713],\n",
       "        [ 0.25205208],\n",
       "        [-0.05388554],\n",
       "        [-0.09626585],\n",
       "        [ 0.07547842],\n",
       "        [ 0.03508426],\n",
       "        [-0.2250014 ],\n",
       "        [-0.13395353],\n",
       "        [-0.0007063 ],\n",
       "        [ 0.07626362],\n",
       "        [-0.1927684 ],\n",
       "        [-0.09603955],\n",
       "        [ 0.14865881],\n",
       "        [-0.22805856],\n",
       "        [ 0.01782706],\n",
       "        [-0.00857448],\n",
       "        [-0.12405928],\n",
       "        [ 0.00789483],\n",
       "        [ 0.1566866 ],\n",
       "        [ 0.08247068],\n",
       "        [ 0.09715478],\n",
       "        [ 0.06902361],\n",
       "        [-0.17140699]])]"
      ]
     },
     "execution_count": 14,
     "metadata": {},
     "output_type": "execute_result"
    }
   ],
   "source": [
    "mlpc_model.coefs_"
   ]
  },
  {
   "cell_type": "code",
   "execution_count": 15,
   "metadata": {},
   "outputs": [
    {
     "data": {
      "text/plain": [
       "\u001b[1;31mType:\u001b[0m        MLPClassifier\n",
       "\u001b[1;31mString form:\u001b[0m\n",
       "MLPClassifier(activation='relu', alpha=0.0001, batch_size='auto', beta_1=0.9,\n",
       "           beta_2=0.999 <...> True, solver='adam', tol=0.0001, validation_fraction=0.1,\n",
       "           verbose=False, warm_start=False)\n",
       "\u001b[1;31mFile:\u001b[0m        c:\\users\\baydin\\anaconda3\\lib\\site-packages\\sklearn\\neural_network\\multilayer_perceptron.py\n",
       "\u001b[1;31mDocstring:\u001b[0m  \n",
       "Multi-layer Perceptron classifier.\n",
       "\n",
       "This model optimizes the log-loss function using LBFGS or stochastic\n",
       "gradient descent.\n",
       "\n",
       ".. versionadded:: 0.18\n",
       "\n",
       "Parameters\n",
       "----------\n",
       "hidden_layer_sizes : tuple, length = n_layers - 2, default (100,)\n",
       "    The ith element represents the number of neurons in the ith\n",
       "    hidden layer.\n",
       "\n",
       "activation : {'identity', 'logistic', 'tanh', 'relu'}, default 'relu'\n",
       "    Activation function for the hidden layer.\n",
       "\n",
       "    - 'identity', no-op activation, useful to implement linear bottleneck,\n",
       "      returns f(x) = x\n",
       "\n",
       "    - 'logistic', the logistic sigmoid function,\n",
       "      returns f(x) = 1 / (1 + exp(-x)).\n",
       "\n",
       "    - 'tanh', the hyperbolic tan function,\n",
       "      returns f(x) = tanh(x).\n",
       "\n",
       "    - 'relu', the rectified linear unit function,\n",
       "      returns f(x) = max(0, x)\n",
       "\n",
       "solver : {'lbfgs', 'sgd', 'adam'}, default 'adam'\n",
       "    The solver for weight optimization.\n",
       "\n",
       "    - 'lbfgs' is an optimizer in the family of quasi-Newton methods.\n",
       "\n",
       "    - 'sgd' refers to stochastic gradient descent.\n",
       "\n",
       "    - 'adam' refers to a stochastic gradient-based optimizer proposed\n",
       "      by Kingma, Diederik, and Jimmy Ba\n",
       "\n",
       "    Note: The default solver 'adam' works pretty well on relatively\n",
       "    large datasets (with thousands of training samples or more) in terms of\n",
       "    both training time and validation score.\n",
       "    For small datasets, however, 'lbfgs' can converge faster and perform\n",
       "    better.\n",
       "\n",
       "alpha : float, optional, default 0.0001\n",
       "    L2 penalty (regularization term) parameter.\n",
       "\n",
       "batch_size : int, optional, default 'auto'\n",
       "    Size of minibatches for stochastic optimizers.\n",
       "    If the solver is 'lbfgs', the classifier will not use minibatch.\n",
       "    When set to \"auto\", `batch_size=min(200, n_samples)`\n",
       "\n",
       "learning_rate : {'constant', 'invscaling', 'adaptive'}, default 'constant'\n",
       "    Learning rate schedule for weight updates.\n",
       "\n",
       "    - 'constant' is a constant learning rate given by\n",
       "      'learning_rate_init'.\n",
       "\n",
       "    - 'invscaling' gradually decreases the learning rate ``learning_rate_``\n",
       "      at each time step 't' using an inverse scaling exponent of 'power_t'.\n",
       "      effective_learning_rate = learning_rate_init / pow(t, power_t)\n",
       "\n",
       "    - 'adaptive' keeps the learning rate constant to\n",
       "      'learning_rate_init' as long as training loss keeps decreasing.\n",
       "      Each time two consecutive epochs fail to decrease training loss by at\n",
       "      least tol, or fail to increase validation score by at least tol if\n",
       "      'early_stopping' is on, the current learning rate is divided by 5.\n",
       "\n",
       "    Only used when ``solver='sgd'``.\n",
       "\n",
       "learning_rate_init : double, optional, default 0.001\n",
       "    The initial learning rate used. It controls the step-size\n",
       "    in updating the weights. Only used when solver='sgd' or 'adam'.\n",
       "\n",
       "power_t : double, optional, default 0.5\n",
       "    The exponent for inverse scaling learning rate.\n",
       "    It is used in updating effective learning rate when the learning_rate\n",
       "    is set to 'invscaling'. Only used when solver='sgd'.\n",
       "\n",
       "max_iter : int, optional, default 200\n",
       "    Maximum number of iterations. The solver iterates until convergence\n",
       "    (determined by 'tol') or this number of iterations. For stochastic\n",
       "    solvers ('sgd', 'adam'), note that this determines the number of epochs\n",
       "    (how many times each data point will be used), not the number of\n",
       "    gradient steps.\n",
       "\n",
       "shuffle : bool, optional, default True\n",
       "    Whether to shuffle samples in each iteration. Only used when\n",
       "    solver='sgd' or 'adam'.\n",
       "\n",
       "random_state : int, RandomState instance or None, optional, default None\n",
       "    If int, random_state is the seed used by the random number generator;\n",
       "    If RandomState instance, random_state is the random number generator;\n",
       "    If None, the random number generator is the RandomState instance used\n",
       "    by `np.random`.\n",
       "\n",
       "tol : float, optional, default 1e-4\n",
       "    Tolerance for the optimization. When the loss or score is not improving\n",
       "    by at least tol for two consecutive iterations, unless `learning_rate`\n",
       "    is set to 'adaptive', convergence is considered to be reached and\n",
       "    training stops.\n",
       "\n",
       "verbose : bool, optional, default False\n",
       "    Whether to print progress messages to stdout.\n",
       "\n",
       "warm_start : bool, optional, default False\n",
       "    When set to True, reuse the solution of the previous\n",
       "    call to fit as initialization, otherwise, just erase the\n",
       "    previous solution.\n",
       "\n",
       "momentum : float, default 0.9\n",
       "    Momentum for gradient descent update. Should be between 0 and 1. Only\n",
       "    used when solver='sgd'.\n",
       "\n",
       "nesterovs_momentum : boolean, default True\n",
       "    Whether to use Nesterov's momentum. Only used when solver='sgd' and\n",
       "    momentum > 0.\n",
       "\n",
       "early_stopping : bool, default False\n",
       "    Whether to use early stopping to terminate training when validation\n",
       "    score is not improving. If set to true, it will automatically set\n",
       "    aside 10% of training data as validation and terminate training when\n",
       "    validation score is not improving by at least tol for two consecutive\n",
       "    epochs.\n",
       "    Only effective when solver='sgd' or 'adam'\n",
       "\n",
       "validation_fraction : float, optional, default 0.1\n",
       "    The proportion of training data to set aside as validation set for\n",
       "    early stopping. Must be between 0 and 1.\n",
       "    Only used if early_stopping is True\n",
       "\n",
       "beta_1 : float, optional, default 0.9\n",
       "    Exponential decay rate for estimates of first moment vector in adam,\n",
       "    should be in [0, 1). Only used when solver='adam'\n",
       "\n",
       "beta_2 : float, optional, default 0.999\n",
       "    Exponential decay rate for estimates of second moment vector in adam,\n",
       "    should be in [0, 1). Only used when solver='adam'\n",
       "\n",
       "epsilon : float, optional, default 1e-8\n",
       "    Value for numerical stability in adam. Only used when solver='adam'\n",
       "\n",
       "Attributes\n",
       "----------\n",
       "classes_ : array or list of array of shape (n_classes,)\n",
       "    Class labels for each output.\n",
       "\n",
       "loss_ : float\n",
       "    The current loss computed with the loss function.\n",
       "\n",
       "coefs_ : list, length n_layers - 1\n",
       "    The ith element in the list represents the weight matrix corresponding\n",
       "    to layer i.\n",
       "\n",
       "intercepts_ : list, length n_layers - 1\n",
       "    The ith element in the list represents the bias vector corresponding to\n",
       "    layer i + 1.\n",
       "\n",
       "n_iter_ : int,\n",
       "    The number of iterations the solver has ran.\n",
       "\n",
       "n_layers_ : int\n",
       "    Number of layers.\n",
       "\n",
       "n_outputs_ : int\n",
       "    Number of outputs.\n",
       "\n",
       "out_activation_ : string\n",
       "    Name of the output activation function.\n",
       "\n",
       "Notes\n",
       "-----\n",
       "MLPClassifier trains iteratively since at each time step\n",
       "the partial derivatives of the loss function with respect to the model\n",
       "parameters are computed to update the parameters.\n",
       "\n",
       "It can also have a regularization term added to the loss function\n",
       "that shrinks model parameters to prevent overfitting.\n",
       "\n",
       "This implementation works with data represented as dense numpy arrays or\n",
       "sparse scipy arrays of floating point values.\n",
       "\n",
       "References\n",
       "----------\n",
       "Hinton, Geoffrey E.\n",
       "    \"Connectionist learning procedures.\" Artificial intelligence 40.1\n",
       "    (1989): 185-234.\n",
       "\n",
       "Glorot, Xavier, and Yoshua Bengio. \"Understanding the difficulty of\n",
       "    training deep feedforward neural networks.\" International Conference\n",
       "    on Artificial Intelligence and Statistics. 2010.\n",
       "\n",
       "He, Kaiming, et al. \"Delving deep into rectifiers: Surpassing human-level\n",
       "    performance on imagenet classification.\" arXiv preprint\n",
       "    arXiv:1502.01852 (2015).\n",
       "\n",
       "Kingma, Diederik, and Jimmy Ba. \"Adam: A method for stochastic\n",
       "    optimization.\" arXiv preprint arXiv:1412.6980 (2014).\n"
      ]
     },
     "metadata": {},
     "output_type": "display_data"
    }
   ],
   "source": [
    "?mlpc_model"
   ]
  },
  {
   "cell_type": "code",
   "execution_count": 16,
   "metadata": {},
   "outputs": [],
   "source": [
    "y_pred = mlpc_model.predict(X_test)"
   ]
  },
  {
   "cell_type": "code",
   "execution_count": 17,
   "metadata": {},
   "outputs": [
    {
     "data": {
      "text/plain": [
       "0.645021645021645"
      ]
     },
     "execution_count": 17,
     "metadata": {},
     "output_type": "execute_result"
    }
   ],
   "source": [
    "accuracy_score(y_test,y_pred)"
   ]
  },
  {
   "cell_type": "markdown",
   "metadata": {},
   "source": [
    "### Model Tuning"
   ]
  },
  {
   "cell_type": "code",
   "execution_count": 18,
   "metadata": {},
   "outputs": [],
   "source": [
    "#alpha ceza terimi"
   ]
  },
  {
   "cell_type": "code",
   "execution_count": 23,
   "metadata": {},
   "outputs": [],
   "source": [
    "mlpc_params={\"alpha\":[1,5,0.1,0.01,0.03,0.005,0.0001],\n",
    "            \"hidden_layer_sizes\":[(10,10),(100,100,100),(100,100),(3,5)]}"
   ]
  },
  {
   "cell_type": "code",
   "execution_count": 50,
   "metadata": {},
   "outputs": [],
   "source": [
    "mlpc = MLPClassifier(solver = \"lbfgs\",activation=\"logistic\")"
   ]
  },
  {
   "cell_type": "code",
   "execution_count": 51,
   "metadata": {},
   "outputs": [
    {
     "name": "stdout",
     "output_type": "stream",
     "text": [
      "Fitting 10 folds for each of 28 candidates, totalling 280 fits\n"
     ]
    },
    {
     "name": "stderr",
     "output_type": "stream",
     "text": [
      "[Parallel(n_jobs=-1)]: Done  33 tasks      | elapsed:   12.1s\n",
      "[Parallel(n_jobs=-1)]: Done 154 tasks      | elapsed:  1.0min\n",
      "[Parallel(n_jobs=-1)]: Done 280 out of 280 | elapsed:  2.4min finished\n"
     ]
    }
   ],
   "source": [
    "mlpc_cv_model= GridSearchCV(mlpc,mlpc_params,cv=10,n_jobs=-1,verbose=2).fit(X_train,y_train)"
   ]
  },
  {
   "cell_type": "code",
   "execution_count": 52,
   "metadata": {},
   "outputs": [
    {
     "data": {
      "text/plain": [
       "GridSearchCV(cv=10, error_score='raise',\n",
       "       estimator=MLPClassifier(activation='logistic', alpha=0.0001, batch_size='auto',\n",
       "       beta_1=0.9, beta_2=0.999, early_stopping=False, epsilon=1e-08,\n",
       "       hidden_layer_sizes=(100,), learning_rate='constant',\n",
       "       learning_rate_init=0.001, max_iter=200, momentum=0.9,\n",
       "       nesterovs_momentum=True, power_t=0.5, random_state=None,\n",
       "       shuffle=True, solver='lbfgs', tol=0.0001, validation_fraction=0.1,\n",
       "       verbose=False, warm_start=False),\n",
       "       fit_params=None, iid=True, n_jobs=-1,\n",
       "       param_grid={'alpha': [1, 5, 0.1, 0.01, 0.03, 0.005, 0.0001], 'hidden_layer_sizes': [(10, 10), (100, 100, 100), (100, 100), (3, 5)]},\n",
       "       pre_dispatch='2*n_jobs', refit=True, return_train_score='warn',\n",
       "       scoring=None, verbose=2)"
      ]
     },
     "execution_count": 52,
     "metadata": {},
     "output_type": "execute_result"
    }
   ],
   "source": [
    "mlpc_cv_model"
   ]
  },
  {
   "cell_type": "code",
   "execution_count": 53,
   "metadata": {},
   "outputs": [
    {
     "data": {
      "text/plain": [
       "{'alpha': 1, 'hidden_layer_sizes': (3, 5)}"
      ]
     },
     "execution_count": 53,
     "metadata": {},
     "output_type": "execute_result"
    }
   ],
   "source": [
    "mlpc_cv_model.best_params_"
   ]
  },
  {
   "cell_type": "code",
   "execution_count": 54,
   "metadata": {},
   "outputs": [],
   "source": [
    "#finalmodel"
   ]
  },
  {
   "cell_type": "code",
   "execution_count": 55,
   "metadata": {},
   "outputs": [],
   "source": [
    "mlpc_tuned=MLPClassifier(solver=\"lbfgs\",activation=\"logistic\",alpha=5,hidden_layer_sizes=(3,5)).fit(X_train,y_train)"
   ]
  },
  {
   "cell_type": "code",
   "execution_count": 56,
   "metadata": {},
   "outputs": [],
   "source": [
    "y_pred = mlpc_tuned.predict(X_test)"
   ]
  },
  {
   "cell_type": "code",
   "execution_count": 57,
   "metadata": {},
   "outputs": [
    {
     "data": {
      "text/plain": [
       "0.7619047619047619"
      ]
     },
     "execution_count": 57,
     "metadata": {},
     "output_type": "execute_result"
    }
   ],
   "source": [
    "accuracy_score(y_test,y_pred)"
   ]
  },
  {
   "cell_type": "code",
   "execution_count": null,
   "metadata": {},
   "outputs": [],
   "source": [
    "#yapay sinir ağlarında kullanılan aktivasyon "
   ]
  }
 ],
 "metadata": {
  "kernelspec": {
   "display_name": "Python 3",
   "language": "python",
   "name": "python3"
  },
  "language_info": {
   "codemirror_mode": {
    "name": "ipython",
    "version": 3
   },
   "file_extension": ".py",
   "mimetype": "text/x-python",
   "name": "python",
   "nbconvert_exporter": "python",
   "pygments_lexer": "ipython3",
   "version": "3.7.0"
  }
 },
 "nbformat": 4,
 "nbformat_minor": 2
}
