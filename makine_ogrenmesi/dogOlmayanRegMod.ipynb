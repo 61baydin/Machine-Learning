{
 "cells": [
  {
   "cell_type": "code",
   "execution_count": 23,
   "metadata": {},
   "outputs": [],
   "source": [
    "import numpy as np\n",
    "import pandas as pd\n",
    "from sklearn.model_selection import train_test_split,GridSearchCV\n",
    "from sklearn.metrics import mean_squared_error, r2_score\n",
    "import matplotlib.pyplot as plt\n",
    "from sklearn.preprocessing import scale\n",
    "from sklearn.preprocessing import StandardScaler\n",
    "from sklearn import model_selection\n",
    "from sklearn.linear_model import LinearRegression\n",
    "from sklearn.tree import DecisionTreeRegressor\n",
    "from sklearn.neighbors import KNeighborsRegressor\n",
    "from sklearn.neural_network import MLPRegressor\n",
    "from sklearn.ensemble import RandomForestRegressor\n",
    "from sklearn.ensemble import GradientBoostingRegressor\n",
    "from sklearn import neighbors\n",
    "from sklearn.svm import SVR"
   ]
  },
  {
   "cell_type": "code",
   "execution_count": 24,
   "metadata": {},
   "outputs": [],
   "source": [
    "from warnings import filterwarnings\n",
    "filterwarnings('ignore')"
   ]
  },
  {
   "cell_type": "markdown",
   "metadata": {},
   "source": [
    "### KNN"
   ]
  },
  {
   "cell_type": "code",
   "execution_count": 25,
   "metadata": {},
   "outputs": [],
   "source": [
    "df = pd.read_csv(\"Hitters.csv\") #veri setini oku\n",
    "df = df.dropna() #eksik gözlemleri sil\n",
    "dms = pd.get_dummies(df[['League','Division','NewLeague']])#veri seti içindeki katogorik değişkenleri dummiy değişkenine çevir\n",
    "y = df[\"Salary\"] #bağımlı değişkeni y diye kaydet\n",
    "X_ = df.drop(['Salary','League','Division','NewLeague'],axis=1).astype('float64') #bağımlı ve kategorik değişkenleri dışarda bırak\n",
    "X = pd.concat([X_,dms[['League_N','Division_W','NewLeague_N']]], axis=1)#bağımsız değişkenleri toparla\n",
    "X_train, X_test, y_train, y_test = train_test_split(X,y,test_size=0.25,random_state=42)#train ve test setleri oluşturma"
   ]
  },
  {
   "cell_type": "code",
   "execution_count": 26,
   "metadata": {},
   "outputs": [
    {
     "data": {
      "text/html": [
       "<div>\n",
       "<style scoped>\n",
       "    .dataframe tbody tr th:only-of-type {\n",
       "        vertical-align: middle;\n",
       "    }\n",
       "\n",
       "    .dataframe tbody tr th {\n",
       "        vertical-align: top;\n",
       "    }\n",
       "\n",
       "    .dataframe thead th {\n",
       "        text-align: right;\n",
       "    }\n",
       "</style>\n",
       "<table border=\"1\" class=\"dataframe\">\n",
       "  <thead>\n",
       "    <tr style=\"text-align: right;\">\n",
       "      <th></th>\n",
       "      <th>AtBat</th>\n",
       "      <th>Hits</th>\n",
       "      <th>HmRun</th>\n",
       "      <th>Runs</th>\n",
       "      <th>RBI</th>\n",
       "      <th>Walks</th>\n",
       "      <th>Years</th>\n",
       "      <th>CAtBat</th>\n",
       "      <th>CHits</th>\n",
       "      <th>CHmRun</th>\n",
       "      <th>CRuns</th>\n",
       "      <th>CRBI</th>\n",
       "      <th>CWalks</th>\n",
       "      <th>PutOuts</th>\n",
       "      <th>Assists</th>\n",
       "      <th>Errors</th>\n",
       "      <th>League_N</th>\n",
       "      <th>Division_W</th>\n",
       "      <th>NewLeague_N</th>\n",
       "    </tr>\n",
       "  </thead>\n",
       "  <tbody>\n",
       "    <tr>\n",
       "      <th>183</th>\n",
       "      <td>328.0</td>\n",
       "      <td>91.0</td>\n",
       "      <td>12.0</td>\n",
       "      <td>51.0</td>\n",
       "      <td>43.0</td>\n",
       "      <td>33.0</td>\n",
       "      <td>2.0</td>\n",
       "      <td>342.0</td>\n",
       "      <td>94.0</td>\n",
       "      <td>12.0</td>\n",
       "      <td>51.0</td>\n",
       "      <td>44.0</td>\n",
       "      <td>33.0</td>\n",
       "      <td>145.0</td>\n",
       "      <td>59.0</td>\n",
       "      <td>8.0</td>\n",
       "      <td>1</td>\n",
       "      <td>0</td>\n",
       "      <td>1</td>\n",
       "    </tr>\n",
       "    <tr>\n",
       "      <th>229</th>\n",
       "      <td>514.0</td>\n",
       "      <td>144.0</td>\n",
       "      <td>0.0</td>\n",
       "      <td>67.0</td>\n",
       "      <td>54.0</td>\n",
       "      <td>79.0</td>\n",
       "      <td>9.0</td>\n",
       "      <td>4739.0</td>\n",
       "      <td>1169.0</td>\n",
       "      <td>13.0</td>\n",
       "      <td>583.0</td>\n",
       "      <td>374.0</td>\n",
       "      <td>528.0</td>\n",
       "      <td>229.0</td>\n",
       "      <td>453.0</td>\n",
       "      <td>15.0</td>\n",
       "      <td>1</td>\n",
       "      <td>0</td>\n",
       "      <td>1</td>\n",
       "    </tr>\n",
       "    <tr>\n",
       "      <th>286</th>\n",
       "      <td>593.0</td>\n",
       "      <td>152.0</td>\n",
       "      <td>23.0</td>\n",
       "      <td>69.0</td>\n",
       "      <td>75.0</td>\n",
       "      <td>53.0</td>\n",
       "      <td>6.0</td>\n",
       "      <td>2765.0</td>\n",
       "      <td>686.0</td>\n",
       "      <td>133.0</td>\n",
       "      <td>369.0</td>\n",
       "      <td>384.0</td>\n",
       "      <td>321.0</td>\n",
       "      <td>315.0</td>\n",
       "      <td>10.0</td>\n",
       "      <td>6.0</td>\n",
       "      <td>0</td>\n",
       "      <td>1</td>\n",
       "      <td>0</td>\n",
       "    </tr>\n",
       "    <tr>\n",
       "      <th>102</th>\n",
       "      <td>233.0</td>\n",
       "      <td>49.0</td>\n",
       "      <td>2.0</td>\n",
       "      <td>41.0</td>\n",
       "      <td>23.0</td>\n",
       "      <td>18.0</td>\n",
       "      <td>8.0</td>\n",
       "      <td>1350.0</td>\n",
       "      <td>336.0</td>\n",
       "      <td>7.0</td>\n",
       "      <td>166.0</td>\n",
       "      <td>122.0</td>\n",
       "      <td>106.0</td>\n",
       "      <td>102.0</td>\n",
       "      <td>132.0</td>\n",
       "      <td>10.0</td>\n",
       "      <td>0</td>\n",
       "      <td>0</td>\n",
       "      <td>0</td>\n",
       "    </tr>\n",
       "    <tr>\n",
       "      <th>153</th>\n",
       "      <td>341.0</td>\n",
       "      <td>95.0</td>\n",
       "      <td>6.0</td>\n",
       "      <td>48.0</td>\n",
       "      <td>42.0</td>\n",
       "      <td>20.0</td>\n",
       "      <td>10.0</td>\n",
       "      <td>2964.0</td>\n",
       "      <td>808.0</td>\n",
       "      <td>81.0</td>\n",
       "      <td>379.0</td>\n",
       "      <td>428.0</td>\n",
       "      <td>221.0</td>\n",
       "      <td>158.0</td>\n",
       "      <td>4.0</td>\n",
       "      <td>5.0</td>\n",
       "      <td>1</td>\n",
       "      <td>1</td>\n",
       "      <td>1</td>\n",
       "    </tr>\n",
       "  </tbody>\n",
       "</table>\n",
       "</div>"
      ],
      "text/plain": [
       "     AtBat   Hits  HmRun  Runs   RBI  Walks  Years  CAtBat   CHits  CHmRun  \\\n",
       "183  328.0   91.0   12.0  51.0  43.0   33.0    2.0   342.0    94.0    12.0   \n",
       "229  514.0  144.0    0.0  67.0  54.0   79.0    9.0  4739.0  1169.0    13.0   \n",
       "286  593.0  152.0   23.0  69.0  75.0   53.0    6.0  2765.0   686.0   133.0   \n",
       "102  233.0   49.0    2.0  41.0  23.0   18.0    8.0  1350.0   336.0     7.0   \n",
       "153  341.0   95.0    6.0  48.0  42.0   20.0   10.0  2964.0   808.0    81.0   \n",
       "\n",
       "     CRuns   CRBI  CWalks  PutOuts  Assists  Errors  League_N  Division_W  \\\n",
       "183   51.0   44.0    33.0    145.0     59.0     8.0         1           0   \n",
       "229  583.0  374.0   528.0    229.0    453.0    15.0         1           0   \n",
       "286  369.0  384.0   321.0    315.0     10.0     6.0         0           1   \n",
       "102  166.0  122.0   106.0    102.0    132.0    10.0         0           0   \n",
       "153  379.0  428.0   221.0    158.0      4.0     5.0         1           1   \n",
       "\n",
       "     NewLeague_N  \n",
       "183            1  \n",
       "229            1  \n",
       "286            0  \n",
       "102            0  \n",
       "153            1  "
      ]
     },
     "execution_count": 26,
     "metadata": {},
     "output_type": "execute_result"
    }
   ],
   "source": [
    "X_train.head()"
   ]
  },
  {
   "cell_type": "markdown",
   "metadata": {},
   "source": [
    "### Model & Tahmin"
   ]
  },
  {
   "cell_type": "code",
   "execution_count": 27,
   "metadata": {},
   "outputs": [],
   "source": [
    "knn_model = KNeighborsRegressor().fit(X_train,y_train)"
   ]
  },
  {
   "cell_type": "code",
   "execution_count": 28,
   "metadata": {},
   "outputs": [
    {
     "data": {
      "text/plain": [
       "KNeighborsRegressor(algorithm='auto', leaf_size=30, metric='minkowski',\n",
       "          metric_params=None, n_jobs=1, n_neighbors=5, p=2,\n",
       "          weights='uniform')"
      ]
     },
     "execution_count": 28,
     "metadata": {},
     "output_type": "execute_result"
    }
   ],
   "source": [
    "knn_model"
   ]
  },
  {
   "cell_type": "code",
   "execution_count": 29,
   "metadata": {},
   "outputs": [
    {
     "data": {
      "text/plain": [
       "5"
      ]
     },
     "execution_count": 29,
     "metadata": {},
     "output_type": "execute_result"
    }
   ],
   "source": [
    "knn_model.n_neighbors"
   ]
  },
  {
   "cell_type": "code",
   "execution_count": 30,
   "metadata": {},
   "outputs": [
    {
     "data": {
      "text/plain": [
       "'minkowski'"
      ]
     },
     "execution_count": 30,
     "metadata": {},
     "output_type": "execute_result"
    }
   ],
   "source": [
    "knn_model.metric"
   ]
  },
  {
   "cell_type": "code",
   "execution_count": 31,
   "metadata": {},
   "outputs": [
    {
     "data": {
      "text/plain": [
       "['__abstractmethods__',\n",
       " '__class__',\n",
       " '__delattr__',\n",
       " '__dict__',\n",
       " '__dir__',\n",
       " '__doc__',\n",
       " '__eq__',\n",
       " '__format__',\n",
       " '__ge__',\n",
       " '__getattribute__',\n",
       " '__getstate__',\n",
       " '__gt__',\n",
       " '__hash__',\n",
       " '__init__',\n",
       " '__init_subclass__',\n",
       " '__le__',\n",
       " '__lt__',\n",
       " '__module__',\n",
       " '__ne__',\n",
       " '__new__',\n",
       " '__reduce__',\n",
       " '__reduce_ex__',\n",
       " '__repr__',\n",
       " '__setattr__',\n",
       " '__setstate__',\n",
       " '__sizeof__',\n",
       " '__str__',\n",
       " '__subclasshook__',\n",
       " '__weakref__',\n",
       " '_abc_impl',\n",
       " '_estimator_type',\n",
       " '_fit',\n",
       " '_fit_X',\n",
       " '_fit_method',\n",
       " '_get_param_names',\n",
       " '_init_params',\n",
       " '_pairwise',\n",
       " '_tree',\n",
       " '_y',\n",
       " 'algorithm',\n",
       " 'effective_metric_',\n",
       " 'effective_metric_params_',\n",
       " 'fit',\n",
       " 'get_params',\n",
       " 'kneighbors',\n",
       " 'kneighbors_graph',\n",
       " 'leaf_size',\n",
       " 'metric',\n",
       " 'metric_params',\n",
       " 'n_jobs',\n",
       " 'n_neighbors',\n",
       " 'p',\n",
       " 'predict',\n",
       " 'radius',\n",
       " 'score',\n",
       " 'set_params',\n",
       " 'weights']"
      ]
     },
     "execution_count": 31,
     "metadata": {},
     "output_type": "execute_result"
    }
   ],
   "source": [
    "dir(knn_model)"
   ]
  },
  {
   "cell_type": "code",
   "execution_count": 32,
   "metadata": {},
   "outputs": [
    {
     "data": {
      "text/plain": [
       "array([ 510.3334,  808.3334,  772.5   ,  125.5   , 1005.    ])"
      ]
     },
     "execution_count": 32,
     "metadata": {},
     "output_type": "execute_result"
    }
   ],
   "source": [
    "knn_model.predict(X_test)[0:5]"
   ]
  },
  {
   "cell_type": "code",
   "execution_count": 33,
   "metadata": {},
   "outputs": [],
   "source": [
    "y_pred = knn_model.predict(X_test)"
   ]
  },
  {
   "cell_type": "code",
   "execution_count": 34,
   "metadata": {},
   "outputs": [
    {
     "data": {
      "text/plain": [
       "426.6570764525201"
      ]
     },
     "execution_count": 34,
     "metadata": {},
     "output_type": "execute_result"
    }
   ],
   "source": [
    "np.sqrt(mean_squared_error(y_test,y_pred))"
   ]
  },
  {
   "cell_type": "markdown",
   "metadata": {},
   "source": [
    "### Model Tuning"
   ]
  },
  {
   "cell_type": "code",
   "execution_count": 35,
   "metadata": {},
   "outputs": [
    {
     "data": {
      "text/plain": [
       "KNeighborsRegressor(algorithm='auto', leaf_size=30, metric='minkowski',\n",
       "          metric_params=None, n_jobs=1, n_neighbors=5, p=2,\n",
       "          weights='uniform')"
      ]
     },
     "execution_count": 35,
     "metadata": {},
     "output_type": "execute_result"
    }
   ],
   "source": [
    "knn_model"
   ]
  },
  {
   "cell_type": "code",
   "execution_count": 36,
   "metadata": {},
   "outputs": [
    {
     "data": {
      "text/plain": [
       "range(0, 10)"
      ]
     },
     "execution_count": 36,
     "metadata": {},
     "output_type": "execute_result"
    }
   ],
   "source": [
    "range(10)"
   ]
  },
  {
   "cell_type": "code",
   "execution_count": 37,
   "metadata": {},
   "outputs": [
    {
     "name": "stdout",
     "output_type": "stream",
     "text": [
      "k= 1 için RMSE değeri: 455.03925390751965\n",
      "k= 2 için RMSE değeri: 415.99629571490965\n",
      "k= 3 için RMSE değeri: 420.6765370082348\n",
      "k= 4 için RMSE değeri: 428.8564674588792\n",
      "k= 5 için RMSE değeri: 426.6570764525201\n",
      "k= 6 için RMSE değeri: 423.5071669008732\n",
      "k= 7 için RMSE değeri: 414.9361222421057\n",
      "k= 8 için RMSE değeri: 413.7094731463598\n",
      "k= 9 için RMSE değeri: 417.84419990871265\n",
      "k= 10 için RMSE değeri: 421.6252180741266\n"
     ]
    }
   ],
   "source": [
    "RMSE =[]\n",
    "\n",
    "for k in range(10):\n",
    "    k = k+1\n",
    "    knn_model =KNeighborsRegressor(n_neighbors=k).fit(X_train,y_train)\n",
    "    y_pred = knn_model.predict(X_test)\n",
    "    rmse = np.sqrt(mean_squared_error(y_test,y_pred))\n",
    "    RMSE.append(rmse)\n",
    "    print(\"k=\",k,\"için RMSE değeri:\",rmse)"
   ]
  },
  {
   "cell_type": "code",
   "execution_count": 38,
   "metadata": {},
   "outputs": [],
   "source": [
    "#GridSearchCV #hiperparametlerinin değerini değerlendiren fonksiyon"
   ]
  },
  {
   "cell_type": "code",
   "execution_count": 39,
   "metadata": {},
   "outputs": [],
   "source": [
    "knn_params ={\"n_neighbors\":np.arange(1,30,1)}"
   ]
  },
  {
   "cell_type": "code",
   "execution_count": 40,
   "metadata": {},
   "outputs": [],
   "source": [
    "knn = KNeighborsRegressor()"
   ]
  },
  {
   "cell_type": "code",
   "execution_count": 41,
   "metadata": {},
   "outputs": [],
   "source": [
    "knn_cv_model = GridSearchCV(knn,knn_params,cv=10).fit(X_train,y_train)"
   ]
  },
  {
   "cell_type": "code",
   "execution_count": 42,
   "metadata": {},
   "outputs": [
    {
     "data": {
      "text/plain": [
       "{'n_neighbors': 8}"
      ]
     },
     "execution_count": 42,
     "metadata": {},
     "output_type": "execute_result"
    }
   ],
   "source": [
    "knn_cv_model.best_params_ #optimum parametre değeri"
   ]
  },
  {
   "cell_type": "code",
   "execution_count": 43,
   "metadata": {},
   "outputs": [],
   "source": [
    "#final model\n",
    "knn_tuned = KNeighborsRegressor(n_neighbors=knn_cv_model.best_params_[\"n_neighbors\"]).fit(X_train,y_train)"
   ]
  },
  {
   "cell_type": "code",
   "execution_count": 44,
   "metadata": {},
   "outputs": [],
   "source": [
    "y_pred = knn_model.predict(X_test)"
   ]
  },
  {
   "cell_type": "code",
   "execution_count": 45,
   "metadata": {},
   "outputs": [
    {
     "data": {
      "text/plain": [
       "421.6252180741266"
      ]
     },
     "execution_count": 45,
     "metadata": {},
     "output_type": "execute_result"
    }
   ],
   "source": [
    "np.sqrt(mean_squared_error(y_test,y_pred))"
   ]
  },
  {
   "cell_type": "markdown",
   "metadata": {},
   "source": [
    "### Destek Vektör Regresyonu (Support Vector Regression)"
   ]
  },
  {
   "cell_type": "code",
   "execution_count": 46,
   "metadata": {},
   "outputs": [],
   "source": [
    "df = pd.read_csv(\"Hitters.csv\") #veri setini oku\n",
    "df = df.dropna() #eksik gözlemleri sil\n",
    "dms = pd.get_dummies(df[['League','Division','NewLeague']])#veri seti içindeki katogorik değişkenleri dummiy değişkenine çevir\n",
    "y = df[\"Salary\"] #bağımlı değişkeni y diye kaydet\n",
    "X_ = df.drop(['Salary','League','Division','NewLeague'],axis=1).astype('float64') #bağımlı ve kategorik değişkenleri dışarda bırak\n",
    "X = pd.concat([X_,dms[['League_N','Division_W','NewLeague_N']]], axis=1)#bağımsız değişkenleri toparla\n",
    "X_train, X_test, y_train, y_test = train_test_split(X,y,test_size=0.25,random_state=42)#train ve test setleri oluşturma"
   ]
  },
  {
   "cell_type": "markdown",
   "metadata": {},
   "source": [
    "#### Model & Tahmin"
   ]
  },
  {
   "cell_type": "code",
   "execution_count": 47,
   "metadata": {},
   "outputs": [],
   "source": [
    "svr_model = SVR(\"linear\").fit(X_train,y_train)"
   ]
  },
  {
   "cell_type": "code",
   "execution_count": 48,
   "metadata": {},
   "outputs": [
    {
     "data": {
      "text/plain": [
       "SVR(C=1.0, cache_size=200, coef0=0.0, degree=3, epsilon=0.1, gamma='auto',\n",
       "  kernel='linear', max_iter=-1, shrinking=True, tol=0.001, verbose=False)"
      ]
     },
     "execution_count": 48,
     "metadata": {},
     "output_type": "execute_result"
    }
   ],
   "source": [
    "svr_model"
   ]
  },
  {
   "cell_type": "code",
   "execution_count": 49,
   "metadata": {},
   "outputs": [
    {
     "data": {
      "text/plain": [
       "array([219.32622169, 702.4303869 , 623.2055964 , 153.77538476,\n",
       "       463.15190834])"
      ]
     },
     "execution_count": 49,
     "metadata": {},
     "output_type": "execute_result"
    }
   ],
   "source": [
    "svr_model.predict(X_train)[0:5]"
   ]
  },
  {
   "cell_type": "code",
   "execution_count": 50,
   "metadata": {},
   "outputs": [
    {
     "data": {
      "text/plain": [
       "array([679.14754685, 633.72883069, 925.68640849, 270.28463621,\n",
       "       530.26659184])"
      ]
     },
     "execution_count": 50,
     "metadata": {},
     "output_type": "execute_result"
    }
   ],
   "source": [
    "svr_model.predict(X_test)[0:5]"
   ]
  },
  {
   "cell_type": "code",
   "execution_count": 51,
   "metadata": {},
   "outputs": [
    {
     "data": {
      "text/plain": [
       "array([-80.15196151])"
      ]
     },
     "execution_count": 51,
     "metadata": {},
     "output_type": "execute_result"
    }
   ],
   "source": [
    "svr_model.intercept_"
   ]
  },
  {
   "cell_type": "code",
   "execution_count": 52,
   "metadata": {},
   "outputs": [
    {
     "data": {
      "text/plain": [
       "array([[ -1.21839037,   6.09602969,  -3.67574533,   0.14217075,\n",
       "          0.51435919,   1.28388986,  12.55922537,  -0.08693755,\n",
       "          0.46597184,   2.98259944,   0.52944523,  -0.79820799,\n",
       "         -0.16015534,   0.30872794,   0.28842348,  -1.79560067,\n",
       "          6.41868985, -10.74313783,   1.33374317]])"
      ]
     },
     "execution_count": 52,
     "metadata": {},
     "output_type": "execute_result"
    }
   ],
   "source": [
    "svr_model.coef_"
   ]
  },
  {
   "cell_type": "code",
   "execution_count": 53,
   "metadata": {},
   "outputs": [
    {
     "data": {
      "text/plain": [
       "370.04084185624924"
      ]
     },
     "execution_count": 53,
     "metadata": {},
     "output_type": "execute_result"
    }
   ],
   "source": [
    "#test\n",
    "y_pred=svr_model.predict(X_test)\n",
    "np.sqrt(mean_squared_error(y_test,y_pred))"
   ]
  },
  {
   "cell_type": "markdown",
   "metadata": {},
   "source": [
    "#### Model Tuning"
   ]
  },
  {
   "cell_type": "code",
   "execution_count": 54,
   "metadata": {},
   "outputs": [],
   "source": [
    "svr_model=SVR(\"linear\")"
   ]
  },
  {
   "cell_type": "code",
   "execution_count": 55,
   "metadata": {},
   "outputs": [
    {
     "data": {
      "text/plain": [
       "SVR(C=1.0, cache_size=200, coef0=0.0, degree=3, epsilon=0.1, gamma='auto',\n",
       "  kernel='linear', max_iter=-1, shrinking=True, tol=0.001, verbose=False)"
      ]
     },
     "execution_count": 55,
     "metadata": {},
     "output_type": "execute_result"
    }
   ],
   "source": [
    "svr_model"
   ]
  },
  {
   "cell_type": "code",
   "execution_count": 34,
   "metadata": {},
   "outputs": [],
   "source": [
    "svr_params = {\"C\": [0.1,0.5,1.3]}"
   ]
  },
  {
   "cell_type": "code",
   "execution_count": 35,
   "metadata": {},
   "outputs": [],
   "source": [
    "svr_cv_model= GridSearchCV(svr_model,svr_params,cv=5).fit(X_train,y_train)"
   ]
  },
  {
   "cell_type": "code",
   "execution_count": 36,
   "metadata": {},
   "outputs": [
    {
     "data": {
      "text/plain": [
       "{'C': 0.5}"
      ]
     },
     "execution_count": 36,
     "metadata": {},
     "output_type": "execute_result"
    }
   ],
   "source": [
    "svr_cv_model.best_params_"
   ]
  },
  {
   "cell_type": "code",
   "execution_count": 39,
   "metadata": {},
   "outputs": [
    {
     "name": "stdout",
     "output_type": "stream",
     "text": [
      "Fitting 5 folds for each of 3 candidates, totalling 15 fits\n"
     ]
    },
    {
     "name": "stderr",
     "output_type": "stream",
     "text": [
      "[Parallel(n_jobs=-1)]: Using backend LokyBackend with 4 concurrent workers.\n",
      "[Parallel(n_jobs=-1)]: Done  15 out of  15 | elapsed:  1.0min finished\n"
     ]
    }
   ],
   "source": [
    "svr_cv_model = GridSearchCV(svr_model,svr_params,cv=5,verbose=2,n_jobs = -1).fit(X_train,y_train)"
   ]
  },
  {
   "cell_type": "code",
   "execution_count": 40,
   "metadata": {},
   "outputs": [
    {
     "data": {
      "text/plain": [
       "{'C': 0.5}"
      ]
     },
     "execution_count": 40,
     "metadata": {},
     "output_type": "execute_result"
    }
   ],
   "source": [
    "svr_cv_model.best_params_"
   ]
  },
  {
   "cell_type": "code",
   "execution_count": 41,
   "metadata": {},
   "outputs": [],
   "source": [
    "svr_tuned = SVR(\"linear\",C=0.5).fit(X_train,y_train)"
   ]
  },
  {
   "cell_type": "code",
   "execution_count": 42,
   "metadata": {},
   "outputs": [],
   "source": [
    "y_pred = svr_tuned.predict(X_test)"
   ]
  },
  {
   "cell_type": "code",
   "execution_count": 43,
   "metadata": {},
   "outputs": [
    {
     "data": {
      "text/plain": [
       "367.9874739022889"
      ]
     },
     "execution_count": 43,
     "metadata": {},
     "output_type": "execute_result"
    }
   ],
   "source": [
    "np.sqrt(mean_squared_error(y_test,y_pred))"
   ]
  },
  {
   "cell_type": "markdown",
   "metadata": {},
   "source": [
    "### Yapay Sinir Ağları"
   ]
  },
  {
   "cell_type": "code",
   "execution_count": 44,
   "metadata": {},
   "outputs": [],
   "source": [
    "df = pd.read_csv(\"Hitters.csv\") #veri setini oku\n",
    "df = df.dropna() #eksik gözlemleri sil\n",
    "dms = pd.get_dummies(df[['League','Division','NewLeague']])#veri seti içindeki katogorik değişkenleri dummiy değişkenine çevir\n",
    "y = df[\"Salary\"] #bağımlı değişkeni y diye kaydet\n",
    "X_ = df.drop(['Salary','League','Division','NewLeague'],axis=1).astype('float64') #bağımlı ve kategorik değişkenleri dışarda bırak\n",
    "X = pd.concat([X_,dms[['League_N','Division_W','NewLeague_N']]], axis=1)#bağımsız değişkenleri toparla\n",
    "X_train, X_test, y_train, y_test = train_test_split(X,y,test_size=0.25,random_state=42)#train ve test setleri oluşturma"
   ]
  },
  {
   "cell_type": "markdown",
   "metadata": {},
   "source": [
    "#### Model & Tahmin"
   ]
  },
  {
   "cell_type": "code",
   "execution_count": 56,
   "metadata": {},
   "outputs": [],
   "source": [
    "scaler = StandardScaler() #standartlaştırma dönüştürme"
   ]
  },
  {
   "cell_type": "code",
   "execution_count": 57,
   "metadata": {},
   "outputs": [],
   "source": [
    "scaler.fit(X_train) #train setini standartlaştırma\n",
    "X_train_scaled = scaler.transform(X_train)"
   ]
  },
  {
   "cell_type": "code",
   "execution_count": 58,
   "metadata": {},
   "outputs": [],
   "source": [
    "scaler.fit(X_test)\n",
    "X_test_scaled = scaler.transform(X_test)"
   ]
  },
  {
   "cell_type": "code",
   "execution_count": 59,
   "metadata": {},
   "outputs": [],
   "source": [
    "mlp_model = MLPRegressor().fit(X_train_scaled,y_train)"
   ]
  },
  {
   "cell_type": "code",
   "execution_count": 60,
   "metadata": {},
   "outputs": [
    {
     "data": {
      "text/plain": [
       "MLPRegressor(activation='relu', alpha=0.0001, batch_size='auto', beta_1=0.9,\n",
       "       beta_2=0.999, early_stopping=False, epsilon=1e-08,\n",
       "       hidden_layer_sizes=(100,), learning_rate='constant',\n",
       "       learning_rate_init=0.001, max_iter=200, momentum=0.9,\n",
       "       nesterovs_momentum=True, power_t=0.5, random_state=None,\n",
       "       shuffle=True, solver='adam', tol=0.0001, validation_fraction=0.1,\n",
       "       verbose=False, warm_start=False)"
      ]
     },
     "execution_count": 60,
     "metadata": {},
     "output_type": "execute_result"
    }
   ],
   "source": [
    "mlp_model"
   ]
  },
  {
   "cell_type": "code",
   "execution_count": 58,
   "metadata": {},
   "outputs": [
    {
     "data": {
      "text/plain": [
       "array([25.04824699, 39.86148909, 78.63178895, 11.90479678, 28.52413532])"
      ]
     },
     "execution_count": 58,
     "metadata": {},
     "output_type": "execute_result"
    }
   ],
   "source": [
    "mlp_model.predict(X_test_scaled)[0:5]"
   ]
  },
  {
   "cell_type": "code",
   "execution_count": 59,
   "metadata": {},
   "outputs": [
    {
     "data": {
      "text/plain": [
       "655.7165722558782"
      ]
     },
     "execution_count": 59,
     "metadata": {},
     "output_type": "execute_result"
    }
   ],
   "source": [
    "y_pred = mlp_model.predict(X_test_scaled)\n",
    "np.sqrt(mean_squared_error(y_test,y_pred))"
   ]
  },
  {
   "cell_type": "markdown",
   "metadata": {},
   "source": [
    "### Model Tuning"
   ]
  },
  {
   "cell_type": "code",
   "execution_count": 64,
   "metadata": {},
   "outputs": [
    {
     "data": {
      "text/plain": [
       "MLPRegressor(activation='relu', alpha=0.0001, batch_size='auto', beta_1=0.9,\n",
       "             beta_2=0.999, early_stopping=False, epsilon=1e-08,\n",
       "             hidden_layer_sizes=(100,), learning_rate='constant',\n",
       "             learning_rate_init=0.001, max_iter=200, momentum=0.9,\n",
       "             n_iter_no_change=10, nesterovs_momentum=True, power_t=0.5,\n",
       "             random_state=None, shuffle=True, solver='adam', tol=0.0001,\n",
       "             validation_fraction=0.1, verbose=False, warm_start=False)"
      ]
     },
     "execution_count": 64,
     "metadata": {},
     "output_type": "execute_result"
    }
   ],
   "source": [
    "mlp_model"
   ]
  },
  {
   "cell_type": "code",
   "execution_count": 60,
   "metadata": {},
   "outputs": [],
   "source": [
    "mlp_params = {\"alpha\": [0.1,0.01,0.02,0.001,0.0001], \n",
    "             \"hidden_layer_sizes\": [(10,20),(5,5),(100,100)]}"
   ]
  },
  {
   "cell_type": "code",
   "execution_count": 76,
   "metadata": {},
   "outputs": [
    {
     "name": "stdout",
     "output_type": "stream",
     "text": [
      "Fitting 5 folds for each of 15 candidates, totalling 75 fits\n"
     ]
    },
    {
     "name": "stderr",
     "output_type": "stream",
     "text": [
      "[Parallel(n_jobs=-1)]: Using backend LokyBackend with 4 concurrent workers.\n",
      "[Parallel(n_jobs=-1)]: Done  33 tasks      | elapsed:    7.1s\n",
      "[Parallel(n_jobs=-1)]: Done  75 out of  75 | elapsed:   14.4s finished\n"
     ]
    }
   ],
   "source": [
    "mlp_cv_model = GridSearchCV(mlp_model,mlp_params,cv=5,verbose=2,n_jobs=-1).fit(X_train_scaled,y_train)"
   ]
  },
  {
   "cell_type": "code",
   "execution_count": 77,
   "metadata": {},
   "outputs": [
    {
     "data": {
      "text/plain": [
       "{'alpha': 0.01, 'hidden_layer_sizes': (100, 100)}"
      ]
     },
     "execution_count": 77,
     "metadata": {},
     "output_type": "execute_result"
    }
   ],
   "source": [
    "mlp_cv_model.best_params_"
   ]
  },
  {
   "cell_type": "code",
   "execution_count": 81,
   "metadata": {},
   "outputs": [],
   "source": [
    "#final\n",
    "mlp_tuned = MLPRegressor(alpha = 0.01,hidden_layer_sizes = (100,100)).fit(X_train_scaled,y_train)"
   ]
  },
  {
   "cell_type": "code",
   "execution_count": 82,
   "metadata": {},
   "outputs": [],
   "source": [
    "y_pred = mlp_tuned.predict(X_test_scaled)"
   ]
  },
  {
   "cell_type": "code",
   "execution_count": 83,
   "metadata": {},
   "outputs": [
    {
     "data": {
      "text/plain": [
       "352.7511476764388"
      ]
     },
     "execution_count": 83,
     "metadata": {},
     "output_type": "execute_result"
    }
   ],
   "source": [
    "np.sqrt(mean_squared_error(y_test,y_pred))"
   ]
  },
  {
   "cell_type": "markdown",
   "metadata": {},
   "source": [
    "### CART (Classification and Regression Tree)"
   ]
  },
  {
   "cell_type": "code",
   "execution_count": 137,
   "metadata": {},
   "outputs": [],
   "source": [
    "df = pd.read_csv(\"Hitters.csv\") #veri setini oku\n",
    "df = df.dropna() #eksik gözlemleri sil\n",
    "dms = pd.get_dummies(df[['League','Division','NewLeague']])#veri seti içindeki katogorik değişkenleri dummiy değişkenine çevir\n",
    "y = df[\"Salary\"] #bağımlı değişkeni y diye kaydet\n",
    "X_ = df.drop(['Salary','League','Division','NewLeague'],axis=1).astype('float64') #bağımlı ve kategorik değişkenleri dışarda bırak\n",
    "X = pd.concat([X_,dms[['League_N','Division_W','NewLeague_N']]], axis=1)#bağımsız değişkenleri toparla\n",
    "X_train, X_test, y_train, y_test = train_test_split(X,y,test_size=0.25,random_state=42)#train ve test setleri oluşturma"
   ]
  },
  {
   "cell_type": "code",
   "execution_count": 138,
   "metadata": {},
   "outputs": [],
   "source": [
    "X_train = pd.DataFrame(X_train[\"Hits\"])\n",
    "X_test = pd.DataFrame(X_test[\"Hits\"])"
   ]
  },
  {
   "cell_type": "code",
   "execution_count": 139,
   "metadata": {},
   "outputs": [],
   "source": [
    "# model & tahmin"
   ]
  },
  {
   "cell_type": "code",
   "execution_count": 140,
   "metadata": {},
   "outputs": [],
   "source": [
    "cart_model = DecisionTreeRegressor(max_leaf_nodes=10) #dallanma kontrolü parametresi, bölüm arttıkça arada kalan gözlem sayısı azalır"
   ]
  },
  {
   "cell_type": "code",
   "execution_count": 141,
   "metadata": {},
   "outputs": [
    {
     "data": {
      "text/plain": [
       "DecisionTreeRegressor(criterion='mse', max_depth=None, max_features=None,\n",
       "                      max_leaf_nodes=10, min_impurity_decrease=0.0,\n",
       "                      min_impurity_split=None, min_samples_leaf=1,\n",
       "                      min_samples_split=2, min_weight_fraction_leaf=0.0,\n",
       "                      presort=False, random_state=None, splitter='best')"
      ]
     },
     "execution_count": 141,
     "metadata": {},
     "output_type": "execute_result"
    }
   ],
   "source": [
    "cart_model.fit(X_train,y_train)"
   ]
  },
  {
   "cell_type": "code",
   "execution_count": 142,
   "metadata": {},
   "outputs": [
    {
     "data": {
      "image/png": "[encoded data removed]",
      "text/plain": [
       "<Figure size 432x288 with 1 Axes>"
      ]
     },
     "metadata": {
      "needs_background": "light"
     },
     "output_type": "display_data"
    }
   ],
   "source": [
    "X_grid = np.arange(min(np.array(X_train)),max(np.array(X_train)),0.01)\n",
    "X_grid =X_grid.reshape((len(X_grid),1))\n",
    "\n",
    "plt.scatter(X_train,y_train,color='red')\n",
    "\n",
    "plt.plot(X_grid,cart_model.predict(X_grid),color='blue')\n",
    "\n",
    "plt.title('CART REGRESYON AĞACI')\n",
    "plt.xlabel('Atış Sayısı(Hits)')\n",
    "plt.ylabel('Maaş (Salary)');"
   ]
  },
  {
   "cell_type": "code",
   "execution_count": 143,
   "metadata": {},
   "outputs": [],
   "source": [
    "#tek değişkenli tahmin"
   ]
  },
  {
   "cell_type": "code",
   "execution_count": 144,
   "metadata": {},
   "outputs": [
    {
     "data": {
      "text/plain": [
       "array([621.96792308, 958.61111111, 621.96792308, 345.20115517,\n",
       "       345.20115517])"
      ]
     },
     "execution_count": 144,
     "metadata": {},
     "output_type": "execute_result"
    }
   ],
   "source": [
    "cart_model.predict(X_test)[0:5]"
   ]
  },
  {
   "cell_type": "code",
   "execution_count": 145,
   "metadata": {},
   "outputs": [
    {
     "data": {
      "text/plain": [
       "486.34593105235456"
      ]
     },
     "execution_count": 145,
     "metadata": {},
     "output_type": "execute_result"
    }
   ],
   "source": [
    "y_pred =cart_model.predict(X_test)\n",
    "np.sqrt(mean_squared_error(y_test,y_pred))"
   ]
  },
  {
   "cell_type": "code",
   "execution_count": 146,
   "metadata": {},
   "outputs": [],
   "source": [
    "# tüm değişkenler"
   ]
  },
  {
   "cell_type": "code",
   "execution_count": 147,
   "metadata": {},
   "outputs": [],
   "source": [
    "cart_model = DecisionTreeRegressor().fit(X_train,y_train)"
   ]
  },
  {
   "cell_type": "code",
   "execution_count": 148,
   "metadata": {},
   "outputs": [
    {
     "data": {
      "text/plain": [
       "468.49579052913884"
      ]
     },
     "execution_count": 148,
     "metadata": {},
     "output_type": "execute_result"
    }
   ],
   "source": [
    "y_pred = cart_model.predict(X_test)\n",
    "np.sqrt(mean_squared_error(y_test,y_pred))"
   ]
  },
  {
   "cell_type": "markdown",
   "metadata": {},
   "source": [
    "#### Model Tuning"
   ]
  },
  {
   "cell_type": "code",
   "execution_count": 149,
   "metadata": {},
   "outputs": [
    {
     "data": {
      "text/plain": [
       "DecisionTreeRegressor(criterion='mse', max_depth=None, max_features=None,\n",
       "                      max_leaf_nodes=None, min_impurity_decrease=0.0,\n",
       "                      min_impurity_split=None, min_samples_leaf=1,\n",
       "                      min_samples_split=2, min_weight_fraction_leaf=0.0,\n",
       "                      presort=False, random_state=None, splitter='best')"
      ]
     },
     "execution_count": 149,
     "metadata": {},
     "output_type": "execute_result"
    }
   ],
   "source": [
    "cart_model"
   ]
  },
  {
   "cell_type": "code",
   "execution_count": 150,
   "metadata": {},
   "outputs": [
    {
     "data": {
      "text/plain": [
       "448.21200029739276"
      ]
     },
     "execution_count": 150,
     "metadata": {},
     "output_type": "execute_result"
    }
   ],
   "source": [
    "cart_model = DecisionTreeRegressor(max_depth= 5).fit(X_train,y_train)\n",
    "y_pred = cart_model.predict(X_test)\n",
    "np.sqrt(mean_squared_error(y_test,y_pred))"
   ]
  },
  {
   "cell_type": "code",
   "execution_count": 151,
   "metadata": {
    "collapsed": true,
    "jupyter": {
     "outputs_hidden": true
    }
   },
   "outputs": [
    {
     "data": {
      "text/plain": [
       "\u001b[1;31mType:\u001b[0m        DecisionTreeRegressor\n",
       "\u001b[1;31mString form:\u001b[0m\n",
       "DecisionTreeRegressor(criterion='mse', max_depth=5, max_features=None,\n",
       "           max_ <...> eight_fraction_leaf=0.0,\n",
       "           presort=False, random_state=None, splitter='best')\n",
       "\u001b[1;31mFile:\u001b[0m        c:\\anaconda3\\lib\\site-packages\\sklearn\\tree\\tree.py\n",
       "\u001b[1;31mDocstring:\u001b[0m  \n",
       "A decision tree regressor.\n",
       "\n",
       "Read more in the :ref:`User Guide <tree>`.\n",
       "\n",
       "Parameters\n",
       "----------\n",
       "criterion : string, optional (default=\"mse\")\n",
       "    The function to measure the quality of a split. Supported criteria\n",
       "    are \"mse\" for the mean squared error, which is equal to variance\n",
       "    reduction as feature selection criterion and minimizes the L2 loss\n",
       "    using the mean of each terminal node, \"friedman_mse\", which uses mean\n",
       "    squared error with Friedman's improvement score for potential splits,\n",
       "    and \"mae\" for the mean absolute error, which minimizes the L1 loss\n",
       "    using the median of each terminal node.\n",
       "\n",
       "    .. versionadded:: 0.18\n",
       "       Mean Absolute Error (MAE) criterion.\n",
       "\n",
       "splitter : string, optional (default=\"best\")\n",
       "    The strategy used to choose the split at each node. Supported\n",
       "    strategies are \"best\" to choose the best split and \"random\" to choose\n",
       "    the best random split.\n",
       "\n",
       "max_depth : int or None, optional (default=None)\n",
       "    The maximum depth of the tree. If None, then nodes are expanded until\n",
       "    all leaves are pure or until all leaves contain less than\n",
       "    min_samples_split samples.\n",
       "\n",
       "min_samples_split : int, float, optional (default=2)\n",
       "    The minimum number of samples required to split an internal node:\n",
       "\n",
       "    - If int, then consider `min_samples_split` as the minimum number.\n",
       "    - If float, then `min_samples_split` is a fraction and\n",
       "      `ceil(min_samples_split * n_samples)` are the minimum\n",
       "      number of samples for each split.\n",
       "\n",
       "    .. versionchanged:: 0.18\n",
       "       Added float values for fractions.\n",
       "\n",
       "min_samples_leaf : int, float, optional (default=1)\n",
       "    The minimum number of samples required to be at a leaf node.\n",
       "    A split point at any depth will only be considered if it leaves at\n",
       "    least ``min_samples_leaf`` training samples in each of the left and\n",
       "    right branches.  This may have the effect of smoothing the model,\n",
       "    especially in regression.\n",
       "\n",
       "    - If int, then consider `min_samples_leaf` as the minimum number.\n",
       "    - If float, then `min_samples_leaf` is a fraction and\n",
       "      `ceil(min_samples_leaf * n_samples)` are the minimum\n",
       "      number of samples for each node.\n",
       "\n",
       "    .. versionchanged:: 0.18\n",
       "       Added float values for fractions.\n",
       "\n",
       "min_weight_fraction_leaf : float, optional (default=0.)\n",
       "    The minimum weighted fraction of the sum total of weights (of all\n",
       "    the input samples) required to be at a leaf node. Samples have\n",
       "    equal weight when sample_weight is not provided.\n",
       "\n",
       "max_features : int, float, string or None, optional (default=None)\n",
       "    The number of features to consider when looking for the best split:\n",
       "\n",
       "    - If int, then consider `max_features` features at each split.\n",
       "    - If float, then `max_features` is a fraction and\n",
       "      `int(max_features * n_features)` features are considered at each\n",
       "      split.\n",
       "    - If \"auto\", then `max_features=n_features`.\n",
       "    - If \"sqrt\", then `max_features=sqrt(n_features)`.\n",
       "    - If \"log2\", then `max_features=log2(n_features)`.\n",
       "    - If None, then `max_features=n_features`.\n",
       "\n",
       "    Note: the search for a split does not stop until at least one\n",
       "    valid partition of the node samples is found, even if it requires to\n",
       "    effectively inspect more than ``max_features`` features.\n",
       "\n",
       "random_state : int, RandomState instance or None, optional (default=None)\n",
       "    If int, random_state is the seed used by the random number generator;\n",
       "    If RandomState instance, random_state is the random number generator;\n",
       "    If None, the random number generator is the RandomState instance used\n",
       "    by `np.random`.\n",
       "\n",
       "max_leaf_nodes : int or None, optional (default=None)\n",
       "    Grow a tree with ``max_leaf_nodes`` in best-first fashion.\n",
       "    Best nodes are defined as relative reduction in impurity.\n",
       "    If None then unlimited number of leaf nodes.\n",
       "\n",
       "min_impurity_decrease : float, optional (default=0.)\n",
       "    A node will be split if this split induces a decrease of the impurity\n",
       "    greater than or equal to this value.\n",
       "\n",
       "    The weighted impurity decrease equation is the following::\n",
       "\n",
       "        N_t / N * (impurity - N_t_R / N_t * right_impurity\n",
       "                            - N_t_L / N_t * left_impurity)\n",
       "\n",
       "    where ``N`` is the total number of samples, ``N_t`` is the number of\n",
       "    samples at the current node, ``N_t_L`` is the number of samples in the\n",
       "    left child, and ``N_t_R`` is the number of samples in the right child.\n",
       "\n",
       "    ``N``, ``N_t``, ``N_t_R`` and ``N_t_L`` all refer to the weighted sum,\n",
       "    if ``sample_weight`` is passed.\n",
       "\n",
       "    .. versionadded:: 0.19\n",
       "\n",
       "min_impurity_split : float, (default=1e-7)\n",
       "    Threshold for early stopping in tree growth. A node will split\n",
       "    if its impurity is above the threshold, otherwise it is a leaf.\n",
       "\n",
       "    .. deprecated:: 0.19\n",
       "       ``min_impurity_split`` has been deprecated in favor of\n",
       "       ``min_impurity_decrease`` in 0.19. The default value of\n",
       "       ``min_impurity_split`` will change from 1e-7 to 0 in 0.23 and it\n",
       "       will be removed in 0.25. Use ``min_impurity_decrease`` instead.\n",
       "\n",
       "presort : bool, optional (default=False)\n",
       "    Whether to presort the data to speed up the finding of best splits in\n",
       "    fitting. For the default settings of a decision tree on large\n",
       "    datasets, setting this to true may slow down the training process.\n",
       "    When using either a smaller dataset or a restricted depth, this may\n",
       "    speed up the training.\n",
       "\n",
       "Attributes\n",
       "----------\n",
       "feature_importances_ : array of shape = [n_features]\n",
       "    The feature importances.\n",
       "    The higher, the more important the feature.\n",
       "    The importance of a feature is computed as the\n",
       "    (normalized) total reduction of the criterion brought\n",
       "    by that feature. It is also known as the Gini importance [4]_.\n",
       "\n",
       "max_features_ : int,\n",
       "    The inferred value of max_features.\n",
       "\n",
       "n_features_ : int\n",
       "    The number of features when ``fit`` is performed.\n",
       "\n",
       "n_outputs_ : int\n",
       "    The number of outputs when ``fit`` is performed.\n",
       "\n",
       "tree_ : Tree object\n",
       "    The underlying Tree object. Please refer to\n",
       "    ``help(sklearn.tree._tree.Tree)`` for attributes of Tree object and\n",
       "    :ref:`sphx_glr_auto_examples_tree_plot_unveil_tree_structure.py`\n",
       "    for basic usage of these attributes.\n",
       "\n",
       "Notes\n",
       "-----\n",
       "The default values for the parameters controlling the size of the trees\n",
       "(e.g. ``max_depth``, ``min_samples_leaf``, etc.) lead to fully grown and\n",
       "unpruned trees which can potentially be very large on some data sets. To\n",
       "reduce memory consumption, the complexity and size of the trees should be\n",
       "controlled by setting those parameter values.\n",
       "\n",
       "The features are always randomly permuted at each split. Therefore,\n",
       "the best found split may vary, even with the same training data and\n",
       "``max_features=n_features``, if the improvement of the criterion is\n",
       "identical for several splits enumerated during the search of the best\n",
       "split. To obtain a deterministic behaviour during fitting,\n",
       "``random_state`` has to be fixed.\n",
       "\n",
       "See also\n",
       "--------\n",
       "DecisionTreeClassifier\n",
       "\n",
       "References\n",
       "----------\n",
       "\n",
       ".. [1] https://en.wikipedia.org/wiki/Decision_tree_learning\n",
       "\n",
       ".. [2] L. Breiman, J. Friedman, R. Olshen, and C. Stone, \"Classification\n",
       "       and Regression Trees\", Wadsworth, Belmont, CA, 1984.\n",
       "\n",
       ".. [3] T. Hastie, R. Tibshirani and J. Friedman. \"Elements of Statistical\n",
       "       Learning\", Springer, 2009.\n",
       "\n",
       ".. [4] L. Breiman, and A. Cutler, \"Random Forests\",\n",
       "       https://www.stat.berkeley.edu/~breiman/RandomForests/cc_home.htm\n",
       "\n",
       "Examples\n",
       "--------\n",
       ">>> from sklearn.datasets import load_boston\n",
       ">>> from sklearn.model_selection import cross_val_score\n",
       ">>> from sklearn.tree import DecisionTreeRegressor\n",
       ">>> boston = load_boston()\n",
       ">>> regressor = DecisionTreeRegressor(random_state=0)\n",
       ">>> cross_val_score(regressor, boston.data, boston.target, cv=10)\n",
       "...                    # doctest: +SKIP\n",
       "...\n",
       "array([ 0.61..., 0.57..., -0.34..., 0.41..., 0.75...,\n",
       "        0.07..., 0.29..., 0.33..., -1.42..., -1.77...])\n"
      ]
     },
     "metadata": {},
     "output_type": "display_data"
    }
   ],
   "source": [
    "?cart_model"
   ]
  },
  {
   "cell_type": "code",
   "execution_count": 152,
   "metadata": {},
   "outputs": [],
   "source": [
    "cart_params = {\"max_depth\":[2,3,4,5,10,20],\n",
    "               \"min_samples_split\":[2,10,5,30,50,10]}"
   ]
  },
  {
   "cell_type": "code",
   "execution_count": 153,
   "metadata": {},
   "outputs": [],
   "source": [
    "cart_model = DecisionTreeRegressor()"
   ]
  },
  {
   "cell_type": "code",
   "execution_count": 154,
   "metadata": {},
   "outputs": [],
   "source": [
    "cart_cv_model = GridSearchCV(cart_model,cart_params,cv=10).fit(X_train,y_train)"
   ]
  },
  {
   "cell_type": "code",
   "execution_count": 155,
   "metadata": {},
   "outputs": [
    {
     "data": {
      "text/plain": [
       "{'max_depth': 2, 'min_samples_split': 2}"
      ]
     },
     "execution_count": 155,
     "metadata": {},
     "output_type": "execute_result"
    }
   ],
   "source": [
    "cart_cv_model.best_params_"
   ]
  },
  {
   "cell_type": "code",
   "execution_count": 158,
   "metadata": {},
   "outputs": [],
   "source": [
    "#final model # 10,50 çıkmadı ama daha iyi sonucu bu veriyor"
   ]
  },
  {
   "cell_type": "code",
   "execution_count": 165,
   "metadata": {},
   "outputs": [],
   "source": [
    "cart_tuned= DecisionTreeRegressor(max_depth=10,min_samples_split=50).fit(X_train,y_train)"
   ]
  },
  {
   "cell_type": "code",
   "execution_count": 166,
   "metadata": {},
   "outputs": [
    {
     "data": {
      "text/plain": [
       "421.25868329005385"
      ]
     },
     "execution_count": 166,
     "metadata": {},
     "output_type": "execute_result"
    }
   ],
   "source": [
    "y_pred = cart_tuned.predict(X_test)\n",
    "np.sqrt(mean_squared_error(y_test,y_pred))"
   ]
  },
  {
   "cell_type": "markdown",
   "metadata": {},
   "source": [
    "### Random Forests"
   ]
  },
  {
   "cell_type": "code",
   "execution_count": 3,
   "metadata": {},
   "outputs": [],
   "source": [
    "df = pd.read_csv(\"Hitters.csv\") #veri setini oku\n",
    "df = df.dropna() #eksik gözlemleri sil\n",
    "dms = pd.get_dummies(df[['League','Division','NewLeague']])#veri seti içindeki katogorik değişkenleri dummiy değişkenine çevir\n",
    "y = df[\"Salary\"] #bağımlı değişkeni y diye kaydet\n",
    "X_ = df.drop(['Salary','League','Division','NewLeague'],axis=1).astype('float64') #bağımlı ve kategorik değişkenleri dışarda bırak\n",
    "X = pd.concat([X_,dms[['League_N','Division_W','NewLeague_N']]], axis=1)#bağımsız değişkenleri toparla\n",
    "X_train, X_test, y_train, y_test = train_test_split(X,y,test_size=0.25,random_state=42)#train ve test setleri oluşturma"
   ]
  },
  {
   "cell_type": "markdown",
   "metadata": {},
   "source": [
    "#### Model & Tahmin"
   ]
  },
  {
   "cell_type": "code",
   "execution_count": 4,
   "metadata": {},
   "outputs": [],
   "source": [
    "rf_model = RandomForestRegressor(random_state=42).fit(X_train,y_train) #farklı gözlem birimleri olmasın diye"
   ]
  },
  {
   "cell_type": "code",
   "execution_count": 5,
   "metadata": {},
   "outputs": [
    {
     "data": {
      "text/plain": [
       "RandomForestRegressor(bootstrap=True, criterion='mse', max_depth=None,\n",
       "           max_features='auto', max_leaf_nodes=None,\n",
       "           min_impurity_decrease=0.0, min_impurity_split=None,\n",
       "           min_samples_leaf=1, min_samples_split=2,\n",
       "           min_weight_fraction_leaf=0.0, n_estimators=10, n_jobs=1,\n",
       "           oob_score=False, random_state=42, verbose=0, warm_start=False)"
      ]
     },
     "execution_count": 5,
     "metadata": {},
     "output_type": "execute_result"
    }
   ],
   "source": [
    "rf_model"
   ]
  },
  {
   "cell_type": "code",
   "execution_count": 6,
   "metadata": {},
   "outputs": [
    {
     "data": {
      "text/plain": [
       "373.04044281427"
      ]
     },
     "execution_count": 6,
     "metadata": {},
     "output_type": "execute_result"
    }
   ],
   "source": [
    "y_pred = rf_model.predict(X_test)\n",
    "np.sqrt(mean_squared_error(y_test,y_pred))"
   ]
  },
  {
   "cell_type": "markdown",
   "metadata": {},
   "source": [
    "#### Model Tuning"
   ]
  },
  {
   "cell_type": "code",
   "execution_count": 9,
   "metadata": {},
   "outputs": [],
   "source": [
    "rf_params = {\"max_depth\": [5,8,10],\n",
    "            \"max_features\":[2,5,10],\n",
    "            \"n_estimators\":[200,500,1000,2000],\n",
    "            \"min_samples_split\":[2,10,80,100]}"
   ]
  },
  {
   "cell_type": "code",
   "execution_count": 10,
   "metadata": {},
   "outputs": [
    {
     "name": "stdout",
     "output_type": "stream",
     "text": [
      "Fitting 10 folds for each of 144 candidates, totalling 1440 fits\n"
     ]
    },
    {
     "name": "stderr",
     "output_type": "stream",
     "text": [
      "[Parallel(n_jobs=-1)]: Done  33 tasks      | elapsed:   35.6s\n",
      "[Parallel(n_jobs=-1)]: Done 154 tasks      | elapsed:  2.6min\n",
      "[Parallel(n_jobs=-1)]: Done 357 tasks      | elapsed:  6.2min\n",
      "[Parallel(n_jobs=-1)]: Done 640 tasks      | elapsed: 10.9min\n",
      "[Parallel(n_jobs=-1)]: Done 1005 tasks      | elapsed: 17.2min\n",
      "[Parallel(n_jobs=-1)]: Done 1440 out of 1440 | elapsed: 24.7min finished\n"
     ]
    }
   ],
   "source": [
    "rf_cv_model = GridSearchCV(rf_model,rf_params,cv=10,n_jobs=-1,verbose=2).fit(X_train,y_train)"
   ]
  },
  {
   "cell_type": "code",
   "execution_count": 13,
   "metadata": {},
   "outputs": [
    {
     "data": {
      "text/plain": [
       "{'max_depth': 8,\n",
       " 'max_features': 2,\n",
       " 'min_samples_split': 2,\n",
       " 'n_estimators': 200}"
      ]
     },
     "execution_count": 13,
     "metadata": {},
     "output_type": "execute_result"
    }
   ],
   "source": [
    "rf_cv_model.best_params_"
   ]
  },
  {
   "cell_type": "code",
   "execution_count": 15,
   "metadata": {},
   "outputs": [],
   "source": [
    "rf_model = RandomForestRegressor(random_state=42,\n",
    "                                max_depth=8,\n",
    "                                max_features=2,\n",
    "                                min_samples_split=2,\n",
    "                                n_estimators=200)\n",
    "rf_tuned = rf_model.fit(X_train,y_train)"
   ]
  },
  {
   "cell_type": "code",
   "execution_count": 16,
   "metadata": {},
   "outputs": [
    {
     "data": {
      "text/plain": [
       "RandomForestRegressor(bootstrap=True, criterion='mse', max_depth=8,\n",
       "           max_features=2, max_leaf_nodes=None, min_impurity_decrease=0.0,\n",
       "           min_impurity_split=None, min_samples_leaf=1,\n",
       "           min_samples_split=2, min_weight_fraction_leaf=0.0,\n",
       "           n_estimators=200, n_jobs=1, oob_score=False, random_state=42,\n",
       "           verbose=0, warm_start=False)"
      ]
     },
     "execution_count": 16,
     "metadata": {},
     "output_type": "execute_result"
    }
   ],
   "source": [
    "rf_tuned"
   ]
  },
  {
   "cell_type": "code",
   "execution_count": 18,
   "metadata": {},
   "outputs": [
    {
     "data": {
      "text/plain": [
       "348.2372919119422"
      ]
     },
     "execution_count": 18,
     "metadata": {},
     "output_type": "execute_result"
    }
   ],
   "source": [
    "y_pred = rf_tuned.predict(X_test)\n",
    "np.sqrt(mean_squared_error(y_test,y_pred))"
   ]
  },
  {
   "cell_type": "markdown",
   "metadata": {},
   "source": [
    "### Değişken Önem Düzeyi"
   ]
  },
  {
   "cell_type": "code",
   "execution_count": 20,
   "metadata": {},
   "outputs": [
    {
     "data": {
      "text/plain": [
       "array([5.83939544, 6.29671412, 3.5548773 , 4.16102585, 4.66774588,\n",
       "       4.98722442, 7.39418621, 9.74125251, 8.68525461, 7.86496982,\n",
       "       8.76583148, 8.2943961 , 9.70887995, 4.70922791, 2.05255543,\n",
       "       1.85359068, 0.3831876 , 0.56203099, 0.47765369])"
      ]
     },
     "execution_count": 20,
     "metadata": {},
     "output_type": "execute_result"
    }
   ],
   "source": [
    "rf_tuned.feature_importances_*100"
   ]
  },
  {
   "cell_type": "code",
   "execution_count": 21,
   "metadata": {},
   "outputs": [
    {
     "data": {
      "image/png": "[encoded data removed]",
      "text/plain": [
       "<Figure size 432x288 with 1 Axes>"
      ]
     },
     "metadata": {
      "needs_background": "light"
     },
     "output_type": "display_data"
    }
   ],
   "source": [
    "Importance = pd.DataFrame({'Importance':rf_tuned.feature_importances_*100},#\n",
    "                         index= X_train.columns)\n",
    "\n",
    "Importance.sort_values(by ='Importance', #importance sutununa göe sırala\n",
    "                      axis=0,\n",
    "                      ascending=True).plot(kind='barh',\n",
    "                                          color='r',)\n",
    "\n",
    "plt.xlabel('Variable Importance')\n",
    "plt.gca().legend_ = None"
   ]
  },
  {
   "cell_type": "markdown",
   "metadata": {},
   "source": [
    "###  Gradient Boosting Machines"
   ]
  },
  {
   "cell_type": "code",
   "execution_count": 3,
   "metadata": {},
   "outputs": [],
   "source": [
    "df = pd.read_csv(\"Hitters.csv\") #veri setini oku\n",
    "df = df.dropna() #eksik gözlemleri sil\n",
    "dms = pd.get_dummies(df[['League','Division','NewLeague']])#veri seti içindeki katogorik değişkenleri dummiy değişkenine çevir\n",
    "y = df[\"Salary\"] #bağımlı değişkeni y diye kaydet\n",
    "X_ = df.drop(['Salary','League','Division','NewLeague'],axis=1).astype('float64') #bağımlı ve kategorik değişkenleri dışarda bırak\n",
    "X = pd.concat([X_,dms[['League_N','Division_W','NewLeague_N']]], axis=1)#bağımsız değişkenleri toparla\n",
    "X_train, X_test, y_train, y_test = train_test_split(X,y,test_size=0.25,random_state=42)#train ve test setleri oluşturma"
   ]
  },
  {
   "cell_type": "markdown",
   "metadata": {},
   "source": [
    "#### Model & Tahmin"
   ]
  },
  {
   "cell_type": "code",
   "execution_count": 4,
   "metadata": {},
   "outputs": [],
   "source": [
    "gbm_model = GradientBoostingRegressor().fit(X_train,y_train) #model kurmak"
   ]
  },
  {
   "cell_type": "code",
   "execution_count": 5,
   "metadata": {},
   "outputs": [
    {
     "data": {
      "text/plain": [
       "GradientBoostingRegressor(alpha=0.9, criterion='friedman_mse', init=None,\n",
       "                          learning_rate=0.1, loss='ls', max_depth=3,\n",
       "                          max_features=None, max_leaf_nodes=None,\n",
       "                          min_impurity_decrease=0.0, min_impurity_split=None,\n",
       "                          min_samples_leaf=1, min_samples_split=2,\n",
       "                          min_weight_fraction_leaf=0.0, n_estimators=100,\n",
       "                          n_iter_no_change=None, presort='auto',\n",
       "                          random_state=None, subsample=1.0, tol=0.0001,\n",
       "                          validation_fraction=0.1, verbose=0, warm_start=False)"
      ]
     },
     "execution_count": 5,
     "metadata": {},
     "output_type": "execute_result"
    }
   ],
   "source": [
    "gbm_model"
   ]
  },
  {
   "cell_type": "code",
   "execution_count": 8,
   "metadata": {},
   "outputs": [],
   "source": [
    "y_pred = gbm_model.predict(X_test) #tahmin yapmak"
   ]
  },
  {
   "cell_type": "code",
   "execution_count": 9,
   "metadata": {},
   "outputs": [
    {
     "data": {
      "text/plain": [
       "344.32910827593"
      ]
     },
     "execution_count": 9,
     "metadata": {},
     "output_type": "execute_result"
    }
   ],
   "source": [
    "np.sqrt(mean_squared_error(y_test,y_pred)) #tahmin sonucunu hesaplamak"
   ]
  },
  {
   "cell_type": "markdown",
   "metadata": {},
   "source": [
    "#### Model Tuning"
   ]
  },
  {
   "cell_type": "code",
   "execution_count": 10,
   "metadata": {},
   "outputs": [
    {
     "data": {
      "text/plain": [
       "GradientBoostingRegressor(alpha=0.9, criterion='friedman_mse', init=None,\n",
       "                          learning_rate=0.1, loss='ls', max_depth=3,\n",
       "                          max_features=None, max_leaf_nodes=None,\n",
       "                          min_impurity_decrease=0.0, min_impurity_split=None,\n",
       "                          min_samples_leaf=1, min_samples_split=2,\n",
       "                          min_weight_fraction_leaf=0.0, n_estimators=100,\n",
       "                          n_iter_no_change=None, presort='auto',\n",
       "                          random_state=None, subsample=1.0, tol=0.0001,\n",
       "                          validation_fraction=0.1, verbose=0, warm_start=False)"
      ]
     },
     "execution_count": 10,
     "metadata": {},
     "output_type": "execute_result"
    }
   ],
   "source": [
    "gbm_model = GradientBoostingRegressor().fit(X_train,y_train)\n",
    "gbm_model"
   ]
  },
  {
   "cell_type": "code",
   "execution_count": 12,
   "metadata": {
    "collapsed": true,
    "jupyter": {
     "outputs_hidden": true
    }
   },
   "outputs": [
    {
     "data": {
      "text/plain": [
       "\u001b[1;31mType:\u001b[0m        GradientBoostingRegressor\n",
       "\u001b[1;31mString form:\u001b[0m\n",
       "GradientBoostingRegressor(alpha=0.9, criterion='friedman_mse', init=None,\n",
       "           <...> =1.0, tol=0.0001,\n",
       "           validation_fraction=0.1, verbose=0, warm_start=False)\n",
       "\u001b[1;31mLength:\u001b[0m      100\n",
       "\u001b[1;31mFile:\u001b[0m        c:\\anaconda3\\lib\\site-packages\\sklearn\\ensemble\\gradient_boosting.py\n",
       "\u001b[1;31mDocstring:\u001b[0m  \n",
       "Gradient Boosting for regression.\n",
       "\n",
       "GB builds an additive model in a forward stage-wise fashion;\n",
       "it allows for the optimization of arbitrary differentiable loss functions.\n",
       "In each stage a regression tree is fit on the negative gradient of the\n",
       "given loss function.\n",
       "\n",
       "Read more in the :ref:`User Guide <gradient_boosting>`.\n",
       "\n",
       "Parameters\n",
       "----------\n",
       "loss : {'ls', 'lad', 'huber', 'quantile'}, optional (default='ls')\n",
       "    loss function to be optimized. 'ls' refers to least squares\n",
       "    regression. 'lad' (least absolute deviation) is a highly robust\n",
       "    loss function solely based on order information of the input\n",
       "    variables. 'huber' is a combination of the two. 'quantile'\n",
       "    allows quantile regression (use `alpha` to specify the quantile).\n",
       "\n",
       "learning_rate : float, optional (default=0.1)\n",
       "    learning rate shrinks the contribution of each tree by `learning_rate`.\n",
       "    There is a trade-off between learning_rate and n_estimators.\n",
       "\n",
       "n_estimators : int (default=100)\n",
       "    The number of boosting stages to perform. Gradient boosting\n",
       "    is fairly robust to over-fitting so a large number usually\n",
       "    results in better performance.\n",
       "\n",
       "subsample : float, optional (default=1.0)\n",
       "    The fraction of samples to be used for fitting the individual base\n",
       "    learners. If smaller than 1.0 this results in Stochastic Gradient\n",
       "    Boosting. `subsample` interacts with the parameter `n_estimators`.\n",
       "    Choosing `subsample < 1.0` leads to a reduction of variance\n",
       "    and an increase in bias.\n",
       "\n",
       "criterion : string, optional (default=\"friedman_mse\")\n",
       "    The function to measure the quality of a split. Supported criteria\n",
       "    are \"friedman_mse\" for the mean squared error with improvement\n",
       "    score by Friedman, \"mse\" for mean squared error, and \"mae\" for\n",
       "    the mean absolute error. The default value of \"friedman_mse\" is\n",
       "    generally the best as it can provide a better approximation in\n",
       "    some cases.\n",
       "\n",
       "    .. versionadded:: 0.18\n",
       "\n",
       "min_samples_split : int, float, optional (default=2)\n",
       "    The minimum number of samples required to split an internal node:\n",
       "\n",
       "    - If int, then consider `min_samples_split` as the minimum number.\n",
       "    - If float, then `min_samples_split` is a fraction and\n",
       "      `ceil(min_samples_split * n_samples)` are the minimum\n",
       "      number of samples for each split.\n",
       "\n",
       "    .. versionchanged:: 0.18\n",
       "       Added float values for fractions.\n",
       "\n",
       "min_samples_leaf : int, float, optional (default=1)\n",
       "    The minimum number of samples required to be at a leaf node.\n",
       "    A split point at any depth will only be considered if it leaves at\n",
       "    least ``min_samples_leaf`` training samples in each of the left and\n",
       "    right branches.  This may have the effect of smoothing the model,\n",
       "    especially in regression.\n",
       "\n",
       "    - If int, then consider `min_samples_leaf` as the minimum number.\n",
       "    - If float, then `min_samples_leaf` is a fraction and\n",
       "      `ceil(min_samples_leaf * n_samples)` are the minimum\n",
       "      number of samples for each node.\n",
       "\n",
       "    .. versionchanged:: 0.18\n",
       "       Added float values for fractions.\n",
       "\n",
       "min_weight_fraction_leaf : float, optional (default=0.)\n",
       "    The minimum weighted fraction of the sum total of weights (of all\n",
       "    the input samples) required to be at a leaf node. Samples have\n",
       "    equal weight when sample_weight is not provided.\n",
       "\n",
       "max_depth : integer, optional (default=3)\n",
       "    maximum depth of the individual regression estimators. The maximum\n",
       "    depth limits the number of nodes in the tree. Tune this parameter\n",
       "    for best performance; the best value depends on the interaction\n",
       "    of the input variables.\n",
       "\n",
       "min_impurity_decrease : float, optional (default=0.)\n",
       "    A node will be split if this split induces a decrease of the impurity\n",
       "    greater than or equal to this value.\n",
       "\n",
       "    The weighted impurity decrease equation is the following::\n",
       "\n",
       "        N_t / N * (impurity - N_t_R / N_t * right_impurity\n",
       "                            - N_t_L / N_t * left_impurity)\n",
       "\n",
       "    where ``N`` is the total number of samples, ``N_t`` is the number of\n",
       "    samples at the current node, ``N_t_L`` is the number of samples in the\n",
       "    left child, and ``N_t_R`` is the number of samples in the right child.\n",
       "\n",
       "    ``N``, ``N_t``, ``N_t_R`` and ``N_t_L`` all refer to the weighted sum,\n",
       "    if ``sample_weight`` is passed.\n",
       "\n",
       "    .. versionadded:: 0.19\n",
       "\n",
       "min_impurity_split : float, (default=1e-7)\n",
       "    Threshold for early stopping in tree growth. A node will split\n",
       "    if its impurity is above the threshold, otherwise it is a leaf.\n",
       "\n",
       "    .. deprecated:: 0.19\n",
       "       ``min_impurity_split`` has been deprecated in favor of\n",
       "       ``min_impurity_decrease`` in 0.19. The default value of\n",
       "       ``min_impurity_split`` will change from 1e-7 to 0 in 0.23 and it\n",
       "       will be removed in 0.25. Use ``min_impurity_decrease`` instead.\n",
       "\n",
       "init : estimator or 'zero', optional (default=None)\n",
       "    An estimator object that is used to compute the initial predictions.\n",
       "    ``init`` has to provide `fit` and `predict`. If 'zero', the initial\n",
       "    raw predictions are set to zero. By default a ``DummyEstimator`` is\n",
       "    used, predicting either the average target value (for loss='ls'), or\n",
       "    a quantile for the other losses.\n",
       "\n",
       "random_state : int, RandomState instance or None, optional (default=None)\n",
       "    If int, random_state is the seed used by the random number generator;\n",
       "    If RandomState instance, random_state is the random number generator;\n",
       "    If None, the random number generator is the RandomState instance used\n",
       "    by `np.random`.\n",
       "\n",
       "max_features : int, float, string or None, optional (default=None)\n",
       "    The number of features to consider when looking for the best split:\n",
       "\n",
       "    - If int, then consider `max_features` features at each split.\n",
       "    - If float, then `max_features` is a fraction and\n",
       "      `int(max_features * n_features)` features are considered at each\n",
       "      split.\n",
       "    - If \"auto\", then `max_features=n_features`.\n",
       "    - If \"sqrt\", then `max_features=sqrt(n_features)`.\n",
       "    - If \"log2\", then `max_features=log2(n_features)`.\n",
       "    - If None, then `max_features=n_features`.\n",
       "\n",
       "    Choosing `max_features < n_features` leads to a reduction of variance\n",
       "    and an increase in bias.\n",
       "\n",
       "    Note: the search for a split does not stop until at least one\n",
       "    valid partition of the node samples is found, even if it requires to\n",
       "    effectively inspect more than ``max_features`` features.\n",
       "\n",
       "alpha : float (default=0.9)\n",
       "    The alpha-quantile of the huber loss function and the quantile\n",
       "    loss function. Only if ``loss='huber'`` or ``loss='quantile'``.\n",
       "\n",
       "verbose : int, default: 0\n",
       "    Enable verbose output. If 1 then it prints progress and performance\n",
       "    once in a while (the more trees the lower the frequency). If greater\n",
       "    than 1 then it prints progress and performance for every tree.\n",
       "\n",
       "max_leaf_nodes : int or None, optional (default=None)\n",
       "    Grow trees with ``max_leaf_nodes`` in best-first fashion.\n",
       "    Best nodes are defined as relative reduction in impurity.\n",
       "    If None then unlimited number of leaf nodes.\n",
       "\n",
       "warm_start : bool, default: False\n",
       "    When set to ``True``, reuse the solution of the previous call to fit\n",
       "    and add more estimators to the ensemble, otherwise, just erase the\n",
       "    previous solution. See :term:`the Glossary <warm_start>`.\n",
       "\n",
       "presort : bool or 'auto', optional (default='auto')\n",
       "    Whether to presort the data to speed up the finding of best splits in\n",
       "    fitting. Auto mode by default will use presorting on dense data and\n",
       "    default to normal sorting on sparse data. Setting presort to true on\n",
       "    sparse data will raise an error.\n",
       "\n",
       "    .. versionadded:: 0.17\n",
       "       optional parameter *presort*.\n",
       "\n",
       "validation_fraction : float, optional, default 0.1\n",
       "    The proportion of training data to set aside as validation set for\n",
       "    early stopping. Must be between 0 and 1.\n",
       "    Only used if ``n_iter_no_change`` is set to an integer.\n",
       "\n",
       "    .. versionadded:: 0.20\n",
       "\n",
       "n_iter_no_change : int, default None\n",
       "    ``n_iter_no_change`` is used to decide if early stopping will be used\n",
       "    to terminate training when validation score is not improving. By\n",
       "    default it is set to None to disable early stopping. If set to a\n",
       "    number, it will set aside ``validation_fraction`` size of the training\n",
       "    data as validation and terminate training when validation score is not\n",
       "    improving in all of the previous ``n_iter_no_change`` numbers of\n",
       "    iterations.\n",
       "\n",
       "    .. versionadded:: 0.20\n",
       "\n",
       "tol : float, optional, default 1e-4\n",
       "    Tolerance for the early stopping. When the loss is not improving\n",
       "    by at least tol for ``n_iter_no_change`` iterations (if set to a\n",
       "    number), the training stops.\n",
       "\n",
       "    .. versionadded:: 0.20\n",
       "\n",
       "\n",
       "Attributes\n",
       "----------\n",
       "feature_importances_ : array, shape (n_features,)\n",
       "    The feature importances (the higher, the more important the feature).\n",
       "\n",
       "oob_improvement_ : array, shape (n_estimators,)\n",
       "    The improvement in loss (= deviance) on the out-of-bag samples\n",
       "    relative to the previous iteration.\n",
       "    ``oob_improvement_[0]`` is the improvement in\n",
       "    loss of the first stage over the ``init`` estimator.\n",
       "\n",
       "train_score_ : array, shape (n_estimators,)\n",
       "    The i-th score ``train_score_[i]`` is the deviance (= loss) of the\n",
       "    model at iteration ``i`` on the in-bag sample.\n",
       "    If ``subsample == 1`` this is the deviance on the training data.\n",
       "\n",
       "loss_ : LossFunction\n",
       "    The concrete ``LossFunction`` object.\n",
       "\n",
       "init_ : estimator\n",
       "    The estimator that provides the initial predictions.\n",
       "    Set via the ``init`` argument or ``loss.init_estimator``.\n",
       "\n",
       "estimators_ : array of DecisionTreeRegressor, shape (n_estimators, 1)\n",
       "    The collection of fitted sub-estimators.\n",
       "\n",
       "Notes\n",
       "-----\n",
       "The features are always randomly permuted at each split. Therefore,\n",
       "the best found split may vary, even with the same training data and\n",
       "``max_features=n_features``, if the improvement of the criterion is\n",
       "identical for several splits enumerated during the search of the best\n",
       "split. To obtain a deterministic behaviour during fitting,\n",
       "``random_state`` has to be fixed.\n",
       "\n",
       "See also\n",
       "--------\n",
       "sklearn.ensemble.HistGradientBoostingRegressor,\n",
       "sklearn.tree.DecisionTreeRegressor, RandomForestRegressor\n",
       "\n",
       "References\n",
       "----------\n",
       "J. Friedman, Greedy Function Approximation: A Gradient Boosting\n",
       "Machine, The Annals of Statistics, Vol. 29, No. 5, 2001.\n",
       "\n",
       "J. Friedman, Stochastic Gradient Boosting, 1999\n",
       "\n",
       "T. Hastie, R. Tibshirani and J. Friedman.\n",
       "Elements of Statistical Learning Ed. 2, Springer, 2009.\n"
      ]
     },
     "metadata": {},
     "output_type": "display_data"
    }
   ],
   "source": [
    "?gbm_model"
   ]
  },
  {
   "cell_type": "code",
   "execution_count": 13,
   "metadata": {},
   "outputs": [],
   "source": [
    "gbm_params = {\"learning_rate\":[0.001,0.1,0.01],\n",
    "             \"max_depth\":[3,5,8,],\n",
    "             \"n_estimators\":[100,200,500],\n",
    "             \"subsample\":[1,0.5,0.8],\n",
    "             \"loss\":[\"ls\",\"lad\",\"quantile\"]}"
   ]
  },
  {
   "cell_type": "code",
   "execution_count": 14,
   "metadata": {},
   "outputs": [],
   "source": [
    "gbm_model = GradientBoostingRegressor().fit(X_train,y_train)"
   ]
  },
  {
   "cell_type": "code",
   "execution_count": 15,
   "metadata": {},
   "outputs": [
    {
     "name": "stdout",
     "output_type": "stream",
     "text": [
      "Fitting 10 folds for each of 243 candidates, totalling 2430 fits\n"
     ]
    },
    {
     "name": "stderr",
     "output_type": "stream",
     "text": [
      "[Parallel(n_jobs=-1)]: Using backend LokyBackend with 4 concurrent workers.\n",
      "[Parallel(n_jobs=-1)]: Done  33 tasks      | elapsed:    6.8s\n",
      "[Parallel(n_jobs=-1)]: Done 154 tasks      | elapsed:   17.5s\n",
      "[Parallel(n_jobs=-1)]: Done 357 tasks      | elapsed:  1.0min\n",
      "[Parallel(n_jobs=-1)]: Done 640 tasks      | elapsed:  2.7min\n",
      "[Parallel(n_jobs=-1)]: Done 1005 tasks      | elapsed:  4.0min\n",
      "[Parallel(n_jobs=-1)]: Done 1450 tasks      | elapsed:  6.6min\n",
      "[Parallel(n_jobs=-1)]: Done 1977 tasks      | elapsed:  9.5min\n",
      "[Parallel(n_jobs=-1)]: Done 2430 out of 2430 | elapsed: 13.9min finished\n",
      "C:\\Anaconda3\\lib\\site-packages\\sklearn\\model_selection\\_search.py:814: DeprecationWarning: The default of the `iid` parameter will change from True to False in version 0.22 and will be removed in 0.24. This will change numeric results when test-set sizes are unequal.\n",
      "  DeprecationWarning)\n"
     ]
    }
   ],
   "source": [
    "gbm_cv_model = GridSearchCV(gbm_model,gbm_params,cv=10,n_jobs=-1,verbose=2).fit(X_train,y_train)"
   ]
  },
  {
   "cell_type": "code",
   "execution_count": 16,
   "metadata": {},
   "outputs": [
    {
     "data": {
      "text/plain": [
       "{'learning_rate': 0.1,\n",
       " 'loss': 'lad',\n",
       " 'max_depth': 5,\n",
       " 'n_estimators': 200,\n",
       " 'subsample': 1}"
      ]
     },
     "execution_count": 16,
     "metadata": {},
     "output_type": "execute_result"
    }
   ],
   "source": [
    "gbm_cv_model.best_params_"
   ]
  },
  {
   "cell_type": "code",
   "execution_count": 62,
   "metadata": {},
   "outputs": [],
   "source": [
    "gbm_tuned = GradientBoostingRegressor(learning_rate=0.1,\n",
    "                                     loss=\"lad\",\n",
    "                                     max_depth=3,\n",
    "                                     n_estimators=200,\n",
    "                                     subsample=1).fit(X_train,y_train)"
   ]
  },
  {
   "cell_type": "code",
   "execution_count": 63,
   "metadata": {},
   "outputs": [],
   "source": [
    "y_pred = gbm_tuned.predict(X_test)"
   ]
  },
  {
   "cell_type": "code",
   "execution_count": 64,
   "metadata": {},
   "outputs": [
    {
     "data": {
      "text/plain": [
       "323.071808585238"
      ]
     },
     "execution_count": 64,
     "metadata": {},
     "output_type": "execute_result"
    }
   ],
   "source": [
    "np.sqrt(mean_squared_error(y_test,y_pred))"
   ]
  },
  {
   "cell_type": "code",
   "execution_count": 65,
   "metadata": {},
   "outputs": [],
   "source": [
    "#değişken önem düzeyleri"
   ]
  },
  {
   "cell_type": "code",
   "execution_count": 66,
   "metadata": {},
   "outputs": [
    {
     "data": {
      "image/png": "[encoded data removed]",
      "text/plain": [
       "<Figure size 432x288 with 1 Axes>"
      ]
     },
     "metadata": {
      "needs_background": "light"
     },
     "output_type": "display_data"
    }
   ],
   "source": [
    "Importance = pd.DataFrame({'Importance':gbm_tuned.feature_importances_*100},\n",
    "                         index= X_train.columns)\n",
    "\n",
    "Importance.sort_values(by ='Importance', #importance sutununa göe sırala\n",
    "                      axis=0,\n",
    "                      ascending=True).plot(kind='barh',\n",
    "                                          color='r',)\n",
    "\n",
    "plt.xlabel('Variable Importance')\n",
    "plt.gca().legend_ = None"
   ]
  },
  {
   "cell_type": "markdown",
   "metadata": {},
   "source": [
    "### XGBoost"
   ]
  },
  {
   "cell_type": "code",
   "execution_count": 2,
   "metadata": {},
   "outputs": [],
   "source": [
    "df = pd.read_csv(\"Hitters.csv\") #veri setini oku\n",
    "df = df.dropna() #eksik gözlemleri sil\n",
    "dms = pd.get_dummies(df[['League','Division','NewLeague']])#veri seti içindeki katogorik değişkenleri dummiy değişkenine çevir\n",
    "y = df[\"Salary\"] #bağımlı değişkeni y diye kaydet\n",
    "X_ = df.drop(['Salary','League','Division','NewLeague'],axis=1).astype('float64') #bağımlı ve kategorik değişkenleri dışarda bırak\n",
    "X = pd.concat([X_,dms[['League_N','Division_W','NewLeague_N']]], axis=1)#bağımsız değişkenleri toparla\n",
    "X_train, X_test, y_train, y_test = train_test_split(X,y,test_size=0.25,random_state=42)#train ve test setleri oluşturma"
   ]
  },
  {
   "cell_type": "markdown",
   "metadata": {},
   "source": [
    "##### Model & Tahmin"
   ]
  },
  {
   "cell_type": "code",
   "execution_count": 3,
   "metadata": {},
   "outputs": [
    {
     "name": "stdout",
     "output_type": "stream",
     "text": [
      "Collecting xgboost\n",
      "  Downloading https://files.pythonhosted.org/packages/3d/1b/83e5dc0021d12884e9998999945e156cf3628a79dacecaed2ede9f3107cb/xgboost-1.3.3-py3-none-win_amd64.whl (95.2MB)\n",
      "Requirement already satisfied: scipy in c:\\users\\baydin\\anaconda3\\lib\\site-packages (from xgboost) (1.1.0)\n",
      "Requirement already satisfied: numpy in c:\\users\\baydin\\anaconda3\\lib\\site-packages (from xgboost) (1.17.4)\n",
      "Installing collected packages: xgboost\n",
      "Successfully installed xgboost-1.3.3\n"
     ]
    },
    {
     "name": "stderr",
     "output_type": "stream",
     "text": [
      "WARNING: You are using pip version 19.3.1; however, version 21.0.1 is available.\n",
      "You should consider upgrading via the 'python -m pip install --upgrade pip' command.\n"
     ]
    }
   ],
   "source": [
    "!pip install xgboost"
   ]
  },
  {
   "cell_type": "code",
   "execution_count": 67,
   "metadata": {},
   "outputs": [],
   "source": [
    "import xgboost"
   ]
  },
  {
   "cell_type": "code",
   "execution_count": 68,
   "metadata": {},
   "outputs": [],
   "source": [
    "from xgboost import XGBRegressor"
   ]
  },
  {
   "cell_type": "code",
   "execution_count": 6,
   "metadata": {},
   "outputs": [],
   "source": [
    "xgb = XGBRegressor().fit(X_train,y_train)"
   ]
  },
  {
   "cell_type": "code",
   "execution_count": 7,
   "metadata": {},
   "outputs": [
    {
     "data": {
      "text/plain": [
       "XGBRegressor(base_score=0.5, booster='gbtree', colsample_bylevel=1,\n",
       "       colsample_bynode=1, colsample_bytree=1, gamma=0, gpu_id=-1,\n",
       "       importance_type='gain', interaction_constraints='',\n",
       "       learning_rate=0.300000012, max_delta_step=0, max_depth=6,\n",
       "       min_child_weight=1, missing=nan, monotone_constraints='()',\n",
       "       n_estimators=100, n_jobs=4, num_parallel_tree=1,\n",
       "       objective='reg:squarederror', random_state=0, reg_alpha=0,\n",
       "       reg_lambda=1, scale_pos_weight=1, subsample=1, tree_method='exact',\n",
       "       validate_parameters=1, verbosity=None)"
      ]
     },
     "execution_count": 7,
     "metadata": {},
     "output_type": "execute_result"
    }
   ],
   "source": [
    "xgb"
   ]
  },
  {
   "cell_type": "code",
   "execution_count": 8,
   "metadata": {},
   "outputs": [],
   "source": [
    "y_pred = xgb.predict(X_test)"
   ]
  },
  {
   "cell_type": "code",
   "execution_count": 9,
   "metadata": {},
   "outputs": [
    {
     "data": {
      "text/plain": [
       "355.46515176059927"
      ]
     },
     "execution_count": 9,
     "metadata": {},
     "output_type": "execute_result"
    }
   ],
   "source": [
    "np.sqrt(mean_squared_error(y_test,y_pred))"
   ]
  },
  {
   "cell_type": "markdown",
   "metadata": {},
   "source": [
    "#### Model Tuning"
   ]
  },
  {
   "cell_type": "code",
   "execution_count": 11,
   "metadata": {},
   "outputs": [],
   "source": [
    "xgb_params={\"learning_rate\": [0.1,0.01,0.5],\n",
    "           \"max_depth\":[2,3,4,5,8],\n",
    "           \"n_estimators\":[100,200,500,1000],\n",
    "           \"colsample_bytree\":[0.4,0.7,1]}"
   ]
  },
  {
   "cell_type": "code",
   "execution_count": 12,
   "metadata": {},
   "outputs": [
    {
     "name": "stdout",
     "output_type": "stream",
     "text": [
      "Fitting 10 folds for each of 180 candidates, totalling 1800 fits\n"
     ]
    },
    {
     "name": "stderr",
     "output_type": "stream",
     "text": [
      "[Parallel(n_jobs=-1)]: Done  33 tasks      | elapsed:    8.9s\n",
      "[Parallel(n_jobs=-1)]: Done 154 tasks      | elapsed:   30.3s\n",
      "[Parallel(n_jobs=-1)]: Done 357 tasks      | elapsed:  1.1min\n",
      "[Parallel(n_jobs=-1)]: Done 640 tasks      | elapsed:  1.9min\n",
      "[Parallel(n_jobs=-1)]: Done 1005 tasks      | elapsed:  3.3min\n",
      "[Parallel(n_jobs=-1)]: Done 1450 tasks      | elapsed:  4.7min\n",
      "[Parallel(n_jobs=-1)]: Done 1800 out of 1800 | elapsed:  6.0min finished\n"
     ]
    }
   ],
   "source": [
    "xgb_cv_model = GridSearchCV(xgb,xgb_params,cv=10, n_jobs=-1,verbose=2).fit(X_train,y_train) #cv=10 ,10 katlı çapraz doğrulama"
   ]
  },
  {
   "cell_type": "code",
   "execution_count": 15,
   "metadata": {},
   "outputs": [
    {
     "data": {
      "text/plain": [
       "{'colsample_bytree': 0.4,\n",
       " 'learning_rate': 0.1,\n",
       " 'max_depth': 2,\n",
       " 'n_estimators': 1000}"
      ]
     },
     "execution_count": 15,
     "metadata": {},
     "output_type": "execute_result"
    }
   ],
   "source": [
    "xgb_cv_model.best_params_"
   ]
  },
  {
   "cell_type": "code",
   "execution_count": 22,
   "metadata": {},
   "outputs": [],
   "source": [
    "xgb_tuned= XGBRegressor(colsample_bytree=0.4,\n",
    "                        learning_rate=0.1,\n",
    "                        max_depth=2,\n",
    "                        n_estimators=1000).fit(X_train,y_train)"
   ]
  },
  {
   "cell_type": "code",
   "execution_count": 23,
   "metadata": {},
   "outputs": [],
   "source": [
    "y_pred= xgb_tuned.predict(X_test)"
   ]
  },
  {
   "cell_type": "code",
   "execution_count": 24,
   "metadata": {},
   "outputs": [
    {
     "data": {
      "text/plain": [
       "367.8515299923177"
      ]
     },
     "execution_count": 24,
     "metadata": {},
     "output_type": "execute_result"
    }
   ],
   "source": [
    "np.sqrt(mean_squared_error(y_test,y_pred))"
   ]
  },
  {
   "cell_type": "markdown",
   "metadata": {},
   "source": [
    "### Light GBM"
   ]
  },
  {
   "cell_type": "code",
   "execution_count": 27,
   "metadata": {},
   "outputs": [],
   "source": [
    "# Eğitim süresi uzun sürüyor\n",
    "# daha performanslı\n",
    "# level-wise büyüme stratejisi yerine leaf-wise büyüme stratejisi,daha iyi feed edebilmek\n",
    "# breadth-first search (bfs) yerine depth-first search (dfs)"
   ]
  },
  {
   "cell_type": "code",
   "execution_count": 28,
   "metadata": {},
   "outputs": [],
   "source": [
    "df = pd.read_csv(\"Hitters.csv\") #veri setini oku\n",
    "df = df.dropna() #eksik gözlemleri sil\n",
    "dms = pd.get_dummies(df[['League','Division','NewLeague']])#veri seti içindeki katogorik değişkenleri dummiy değişkenine çevir\n",
    "y = df[\"Salary\"] #bağımlı değişkeni y diye kaydet\n",
    "X_ = df.drop(['Salary','League','Division','NewLeague'],axis=1).astype('float64') #bağımlı ve kategorik değişkenleri dışarda bırak\n",
    "X = pd.concat([X_,dms[['League_N','Division_W','NewLeague_N']]], axis=1)#bağımsız değişkenleri toparla\n",
    "X_train, X_test, y_train, y_test = train_test_split(X,y,test_size=0.25,random_state=42)#train ve test setleri oluşturma"
   ]
  },
  {
   "cell_type": "code",
   "execution_count": 29,
   "metadata": {},
   "outputs": [
    {
     "name": "stdout",
     "output_type": "stream",
     "text": [
      "Collecting lightgbm\n",
      "  Downloading https://files.pythonhosted.org/packages/80/28/fecd02e7856e36afcdc71ee968b1b3859b3bc784e042991d5520e4d7be2c/lightgbm-3.1.1-py2.py3-none-win_amd64.whl (754kB)\n",
      "Requirement already satisfied: scikit-learn!=0.22.0 in c:\\users\\baydin\\anaconda3\\lib\\site-packages (from lightgbm) (0.19.2)\n",
      "Requirement already satisfied: wheel in c:\\users\\baydin\\anaconda3\\lib\\site-packages (from lightgbm) (0.33.6)\n",
      "Requirement already satisfied: numpy in c:\\users\\baydin\\anaconda3\\lib\\site-packages (from lightgbm) (1.17.4)\n",
      "Requirement already satisfied: scipy in c:\\users\\baydin\\anaconda3\\lib\\site-packages (from lightgbm) (1.1.0)\n",
      "Installing collected packages: lightgbm\n",
      "Successfully installed lightgbm-3.1.1\n"
     ]
    },
    {
     "name": "stderr",
     "output_type": "stream",
     "text": [
      "WARNING: You are using pip version 19.3.1; however, version 21.0.1 is available.\n",
      "You should consider upgrading via the 'python -m pip install --upgrade pip' command.\n"
     ]
    }
   ],
   "source": [
    "!pip install lightgbm"
   ]
  },
  {
   "cell_type": "code",
   "execution_count": 69,
   "metadata": {},
   "outputs": [],
   "source": [
    "from lightgbm import LGBMRegressor"
   ]
  },
  {
   "cell_type": "markdown",
   "metadata": {},
   "source": [
    "#### Model & Tahmin"
   ]
  },
  {
   "cell_type": "code",
   "execution_count": 32,
   "metadata": {},
   "outputs": [],
   "source": [
    "lgb_model = LGBMRegressor().fit(X_train,y_train)"
   ]
  },
  {
   "cell_type": "code",
   "execution_count": 33,
   "metadata": {},
   "outputs": [
    {
     "data": {
      "text/plain": [
       "LGBMRegressor(boosting_type='gbdt', class_weight=None, colsample_bytree=1.0,\n",
       "       importance_type='split', learning_rate=0.1, max_depth=-1,\n",
       "       min_child_samples=20, min_child_weight=0.001, min_split_gain=0.0,\n",
       "       n_estimators=100, n_jobs=-1, num_leaves=31, objective=None,\n",
       "       random_state=None, reg_alpha=0.0, reg_lambda=0.0, silent=True,\n",
       "       subsample=1.0, subsample_for_bin=200000, subsample_freq=0)"
      ]
     },
     "execution_count": 33,
     "metadata": {},
     "output_type": "execute_result"
    }
   ],
   "source": [
    "lgb_model"
   ]
  },
  {
   "cell_type": "code",
   "execution_count": 34,
   "metadata": {},
   "outputs": [],
   "source": [
    "y_pred = lgb_model.predict(X_test)"
   ]
  },
  {
   "cell_type": "code",
   "execution_count": 35,
   "metadata": {},
   "outputs": [
    {
     "data": {
      "text/plain": [
       "363.8712087611089"
      ]
     },
     "execution_count": 35,
     "metadata": {},
     "output_type": "execute_result"
    }
   ],
   "source": [
    "np.sqrt(mean_squared_error(y_test,y_pred))"
   ]
  },
  {
   "cell_type": "markdown",
   "metadata": {},
   "source": [
    "#### Model Tuning"
   ]
  },
  {
   "cell_type": "code",
   "execution_count": 37,
   "metadata": {},
   "outputs": [],
   "source": [
    "lgbm_params={\"learning_rate\":[0.01,0.1,0.5,1],\n",
    "             \"n_estimators\":[20,40,100,200,500,1000],\n",
    "            \"max_depth\":[1,2,3,4,5,6,7,8,9,10]}"
   ]
  },
  {
   "cell_type": "code",
   "execution_count": 38,
   "metadata": {},
   "outputs": [
    {
     "name": "stdout",
     "output_type": "stream",
     "text": [
      "Fitting 10 folds for each of 240 candidates, totalling 2400 fits\n"
     ]
    },
    {
     "name": "stderr",
     "output_type": "stream",
     "text": [
      "[Parallel(n_jobs=-1)]: Done  33 tasks      | elapsed:    5.9s\n",
      "[Parallel(n_jobs=-1)]: Done 224 tasks      | elapsed:   19.5s\n",
      "[Parallel(n_jobs=-1)]: Done 438 tasks      | elapsed:   41.9s\n",
      "[Parallel(n_jobs=-1)]: Done 721 tasks      | elapsed:  1.2min\n",
      "[Parallel(n_jobs=-1)]: Done 1086 tasks      | elapsed:  1.7min\n",
      "[Parallel(n_jobs=-1)]: Done 1643 tasks      | elapsed:  2.6min\n",
      "[Parallel(n_jobs=-1)]: Done 2219 tasks      | elapsed:  3.5min\n"
     ]
    },
    {
     "name": "stdout",
     "output_type": "stream",
     "text": [
      "[LightGBM] [Warning] Accuracy may be bad since you didn't explicitly set num_leaves OR 2^max_depth > num_leaves. (num_leaves=31).\n"
     ]
    },
    {
     "name": "stderr",
     "output_type": "stream",
     "text": [
      "[Parallel(n_jobs=-1)]: Done 2400 out of 2400 | elapsed:  3.8min finished\n"
     ]
    }
   ],
   "source": [
    "lgbm_cv_model = GridSearchCV(lgb_model,\n",
    "                            lgbm_params,\n",
    "                            cv=10,\n",
    "                            n_jobs=-1,\n",
    "                            verbose=2).fit(X_train,y_train)"
   ]
  },
  {
   "cell_type": "code",
   "execution_count": 39,
   "metadata": {},
   "outputs": [
    {
     "data": {
      "text/plain": [
       "{'learning_rate': 0.1, 'max_depth': 6, 'n_estimators': 20}"
      ]
     },
     "execution_count": 39,
     "metadata": {},
     "output_type": "execute_result"
    }
   ],
   "source": [
    "lgbm_cv_model.best_params_"
   ]
  },
  {
   "cell_type": "code",
   "execution_count": 45,
   "metadata": {},
   "outputs": [
    {
     "name": "stdout",
     "output_type": "stream",
     "text": [
      "[LightGBM] [Warning] Accuracy may be bad since you didn't explicitly set num_leaves OR 2^max_depth > num_leaves. (num_leaves=31).\n"
     ]
    }
   ],
   "source": [
    "lgbm_tuned= LGBMRegressor(learning_rate=0.1,\n",
    "                         max_depth=6,\n",
    "                        n_estimators=20).fit(X_train,y_train)"
   ]
  },
  {
   "cell_type": "code",
   "execution_count": 46,
   "metadata": {},
   "outputs": [],
   "source": [
    "y_pred=lgbm_tuned.predict(X_test)"
   ]
  },
  {
   "cell_type": "code",
   "execution_count": 47,
   "metadata": {},
   "outputs": [
    {
     "data": {
      "text/plain": [
       "371.5044868943621"
      ]
     },
     "execution_count": 47,
     "metadata": {},
     "output_type": "execute_result"
    }
   ],
   "source": [
    "np.sqrt(mean_squared_error(y_test,y_pred))"
   ]
  },
  {
   "cell_type": "markdown",
   "metadata": {},
   "source": [
    "### CatBoost"
   ]
  },
  {
   "cell_type": "code",
   "execution_count": 48,
   "metadata": {},
   "outputs": [],
   "source": [
    "# Category Boosting\n",
    "# kategorik değişkenler il e otomatik mücadele edebilen ,hızlı,başarılı bir diğer GBM türevi\n",
    "# hızlı ve ölçeklenebilen gpu\n",
    "# rusyanın ilk açık kaynak kodlu başarılı ML çalışması"
   ]
  },
  {
   "cell_type": "code",
   "execution_count": 2,
   "metadata": {},
   "outputs": [],
   "source": [
    "df = pd.read_csv(\"Hitters.csv\") #veri setini oku\n",
    "df = df.dropna() #eksik gözlemleri sil\n",
    "dms = pd.get_dummies(df[['League','Division','NewLeague']])#veri seti içindeki katogorik değişkenleri dummiy değişkenine çevir\n",
    "y = df[\"Salary\"] #bağımlı değişkeni y diye kaydet\n",
    "X_ = df.drop(['Salary','League','Division','NewLeague'],axis=1).astype('float64') #bağımlı ve kategorik değişkenleri dışarda bırak\n",
    "X = pd.concat([X_,dms[['League_N','Division_W','NewLeague_N']]], axis=1)#bağımsız değişkenleri toparla\n",
    "X_train, X_test, y_train, y_test = train_test_split(X,y,test_size=0.25,random_state=42)#train ve test setleri oluşturma"
   ]
  },
  {
   "cell_type": "code",
   "execution_count": 3,
   "metadata": {},
   "outputs": [
    {
     "name": "stdout",
     "output_type": "stream",
     "text": [
      "Collecting catboost\n",
      "  Using cached https://files.pythonhosted.org/packages/dd/6c/e2ab72e1b5730533a0980352816cc781351c21dfa5478b130d99d99d7ce2/catboost-0.24.4-cp37-none-win_amd64.whl\n",
      "Requirement already satisfied: pandas>=0.24.0 in c:\\users\\baydin\\anaconda3\\lib\\site-packages (from catboost) (1.1.5)\n",
      "Requirement already satisfied: six in c:\\users\\baydin\\anaconda3\\lib\\site-packages (from catboost) (1.13.0)\n",
      "Collecting graphviz\n",
      "  Using cached https://files.pythonhosted.org/packages/86/86/89ba50ba65928001d3161f23bfa03945ed18ea13a1d1d44a772ff1fa4e7a/graphviz-0.16-py2.py3-none-any.whl\n",
      "Requirement already satisfied: scipy in c:\\users\\baydin\\anaconda3\\lib\\site-packages (from catboost) (1.1.0)\n",
      "Requirement already satisfied: matplotlib in c:\\users\\baydin\\anaconda3\\lib\\site-packages (from catboost) (2.2.3)\n",
      "Requirement already satisfied: numpy>=1.16.0 in c:\\users\\baydin\\anaconda3\\lib\\site-packages (from catboost) (1.17.4)\n",
      "Requirement already satisfied: plotly in c:\\users\\baydin\\anaconda3\\lib\\site-packages (from catboost) (4.14.3)\n",
      "Requirement already satisfied: pytz>=2017.2 in c:\\users\\baydin\\anaconda3\\lib\\site-packages (from pandas>=0.24.0->catboost) (2018.5)\n",
      "Requirement already satisfied: python-dateutil>=2.7.3 in c:\\users\\baydin\\anaconda3\\lib\\site-packages (from pandas>=0.24.0->catboost) (2.7.3)\n",
      "Requirement already satisfied: cycler>=0.10 in c:\\users\\baydin\\anaconda3\\lib\\site-packages (from matplotlib->catboost) (0.10.0)\n",
      "Requirement already satisfied: pyparsing!=2.0.4,!=2.1.2,!=2.1.6,>=2.0.1 in c:\\users\\baydin\\anaconda3\\lib\\site-packages (from matplotlib->catboost) (2.2.0)\n",
      "Requirement already satisfied: kiwisolver>=1.0.1 in c:\\users\\baydin\\anaconda3\\lib\\site-packages (from matplotlib->catboost) (1.0.1)\n",
      "Requirement already satisfied: retrying>=1.3.3 in c:\\users\\baydin\\anaconda3\\lib\\site-packages (from plotly->catboost) (1.3.3)\n",
      "Requirement already satisfied: setuptools in c:\\users\\baydin\\anaconda3\\lib\\site-packages (from kiwisolver>=1.0.1->matplotlib->catboost) (42.0.2)\n",
      "Installing collected packages: graphviz, catboost\n",
      "Successfully installed catboost-0.24.4 graphviz-0.16\n"
     ]
    },
    {
     "name": "stderr",
     "output_type": "stream",
     "text": [
      "WARNING: You are using pip version 19.3.1; however, version 21.0.1 is available.\n",
      "You should consider upgrading via the 'python -m pip install --upgrade pip' command.\n"
     ]
    }
   ],
   "source": [
    "!pip install catboost"
   ]
  },
  {
   "cell_type": "code",
   "execution_count": 70,
   "metadata": {},
   "outputs": [],
   "source": [
    "from catboost import CatBoostRegressor"
   ]
  },
  {
   "cell_type": "code",
   "execution_count": 6,
   "metadata": {},
   "outputs": [
    {
     "name": "stdout",
     "output_type": "stream",
     "text": [
      "Learning rate set to 0.029229\n",
      "0:\tlearn: 438.1974206\ttotal: 58.8ms\tremaining: 58.7s\n",
      "1:\tlearn: 432.4168868\ttotal: 62.6ms\tremaining: 31.2s\n",
      "2:\tlearn: 426.3836690\ttotal: 64.9ms\tremaining: 21.6s\n",
      "3:\tlearn: 420.2261014\ttotal: 67.2ms\tremaining: 16.7s\n",
      "4:\tlearn: 414.9976675\ttotal: 76.2ms\tremaining: 15.2s\n",
      "5:\tlearn: 409.6125323\ttotal: 78.3ms\tremaining: 13s\n",
      "6:\tlearn: 403.9277911\ttotal: 81ms\tremaining: 11.5s\n",
      "7:\tlearn: 398.4395285\ttotal: 83.1ms\tremaining: 10.3s\n",
      "8:\tlearn: 392.4517081\ttotal: 85.2ms\tremaining: 9.38s\n",
      "9:\tlearn: 387.4871123\ttotal: 87.4ms\tremaining: 8.65s\n",
      "10:\tlearn: 382.6230510\ttotal: 89.6ms\tremaining: 8.06s\n",
      "11:\tlearn: 378.1012454\ttotal: 91.8ms\tremaining: 7.55s\n",
      "12:\tlearn: 372.6002306\ttotal: 93.9ms\tremaining: 7.13s\n",
      "13:\tlearn: 368.4682192\ttotal: 96.1ms\tremaining: 6.77s\n",
      "14:\tlearn: 364.0565766\ttotal: 98.2ms\tremaining: 6.45s\n",
      "15:\tlearn: 359.5683249\ttotal: 100ms\tremaining: 6.17s\n",
      "16:\tlearn: 355.1782794\ttotal: 103ms\tremaining: 5.93s\n",
      "17:\tlearn: 350.4689946\ttotal: 105ms\tremaining: 5.71s\n",
      "18:\tlearn: 346.2553348\ttotal: 107ms\tremaining: 5.52s\n",
      "19:\tlearn: 341.7051884\ttotal: 109ms\tremaining: 5.34s\n",
      "20:\tlearn: 337.8343606\ttotal: 111ms\tremaining: 5.19s\n",
      "21:\tlearn: 333.7956702\ttotal: 113ms\tremaining: 5.04s\n",
      "22:\tlearn: 329.8867930\ttotal: 115ms\tremaining: 4.9s\n",
      "23:\tlearn: 326.1844372\ttotal: 117ms\tremaining: 4.78s\n",
      "24:\tlearn: 323.1315580\ttotal: 119ms\tremaining: 4.66s\n",
      "25:\tlearn: 319.3322885\ttotal: 122ms\tremaining: 4.55s\n",
      "26:\tlearn: 316.2039164\ttotal: 124ms\tremaining: 4.45s\n",
      "27:\tlearn: 313.2598806\ttotal: 126ms\tremaining: 4.36s\n",
      "28:\tlearn: 310.1086898\ttotal: 128ms\tremaining: 4.28s\n",
      "29:\tlearn: 307.0508553\ttotal: 130ms\tremaining: 4.2s\n",
      "30:\tlearn: 304.5843401\ttotal: 132ms\tremaining: 4.12s\n",
      "31:\tlearn: 301.6708432\ttotal: 134ms\tremaining: 4.05s\n",
      "32:\tlearn: 298.9175443\ttotal: 136ms\tremaining: 3.99s\n",
      "33:\tlearn: 296.1231309\ttotal: 138ms\tremaining: 3.92s\n",
      "34:\tlearn: 293.2359275\ttotal: 140ms\tremaining: 3.86s\n",
      "35:\tlearn: 290.3999850\ttotal: 143ms\tremaining: 3.82s\n",
      "36:\tlearn: 287.8958674\ttotal: 145ms\tremaining: 3.76s\n",
      "37:\tlearn: 285.6692571\ttotal: 147ms\tremaining: 3.71s\n",
      "38:\tlearn: 282.9812904\ttotal: 149ms\tremaining: 3.66s\n",
      "39:\tlearn: 280.6302291\ttotal: 151ms\tremaining: 3.62s\n",
      "40:\tlearn: 278.2767119\ttotal: 153ms\tremaining: 3.57s\n",
      "41:\tlearn: 276.0589541\ttotal: 155ms\tremaining: 3.53s\n",
      "42:\tlearn: 273.6619286\ttotal: 157ms\tremaining: 3.49s\n",
      "43:\tlearn: 271.1128163\ttotal: 159ms\tremaining: 3.46s\n",
      "44:\tlearn: 268.9091716\ttotal: 161ms\tremaining: 3.42s\n",
      "45:\tlearn: 266.3675542\ttotal: 163ms\tremaining: 3.38s\n",
      "46:\tlearn: 263.7815611\ttotal: 166ms\tremaining: 3.38s\n",
      "47:\tlearn: 261.8160223\ttotal: 170ms\tremaining: 3.37s\n",
      "48:\tlearn: 259.7109561\ttotal: 173ms\tremaining: 3.36s\n",
      "49:\tlearn: 257.7200276\ttotal: 176ms\tremaining: 3.34s\n",
      "50:\tlearn: 255.7835524\ttotal: 179ms\tremaining: 3.32s\n",
      "51:\tlearn: 253.8406902\ttotal: 181ms\tremaining: 3.31s\n",
      "52:\tlearn: 251.6896611\ttotal: 184ms\tremaining: 3.29s\n",
      "53:\tlearn: 250.0830915\ttotal: 187ms\tremaining: 3.27s\n",
      "54:\tlearn: 248.3689069\ttotal: 190ms\tremaining: 3.26s\n",
      "55:\tlearn: 246.2718937\ttotal: 192ms\tremaining: 3.23s\n",
      "56:\tlearn: 244.3923224\ttotal: 194ms\tremaining: 3.21s\n",
      "57:\tlearn: 242.3040669\ttotal: 196ms\tremaining: 3.19s\n",
      "58:\tlearn: 240.5357981\ttotal: 198ms\tremaining: 3.16s\n",
      "59:\tlearn: 238.7009594\ttotal: 200ms\tremaining: 3.14s\n",
      "60:\tlearn: 237.2676945\ttotal: 203ms\tremaining: 3.12s\n",
      "61:\tlearn: 235.7252656\ttotal: 205ms\tremaining: 3.1s\n",
      "62:\tlearn: 234.1007596\ttotal: 207ms\tremaining: 3.08s\n",
      "63:\tlearn: 232.4179971\ttotal: 209ms\tremaining: 3.06s\n",
      "64:\tlearn: 231.1643497\ttotal: 211ms\tremaining: 3.04s\n",
      "65:\tlearn: 229.6810852\ttotal: 213ms\tremaining: 3.02s\n",
      "66:\tlearn: 228.1714231\ttotal: 215ms\tremaining: 3s\n",
      "67:\tlearn: 226.9338286\ttotal: 218ms\tremaining: 2.98s\n",
      "68:\tlearn: 226.0780127\ttotal: 220ms\tremaining: 2.97s\n",
      "69:\tlearn: 224.6598569\ttotal: 222ms\tremaining: 2.95s\n",
      "70:\tlearn: 223.1110463\ttotal: 224ms\tremaining: 2.94s\n",
      "71:\tlearn: 221.6545694\ttotal: 227ms\tremaining: 2.92s\n",
      "72:\tlearn: 220.2670639\ttotal: 229ms\tremaining: 2.9s\n",
      "73:\tlearn: 218.9738032\ttotal: 231ms\tremaining: 2.89s\n",
      "74:\tlearn: 217.9247112\ttotal: 233ms\tremaining: 2.87s\n",
      "75:\tlearn: 216.9202490\ttotal: 235ms\tremaining: 2.86s\n",
      "76:\tlearn: 215.5989131\ttotal: 237ms\tremaining: 2.84s\n",
      "77:\tlearn: 214.3540917\ttotal: 241ms\tremaining: 2.85s\n",
      "78:\tlearn: 213.4575339\ttotal: 243ms\tremaining: 2.84s\n",
      "79:\tlearn: 212.1036261\ttotal: 249ms\tremaining: 2.86s\n",
      "80:\tlearn: 210.8030392\ttotal: 256ms\tremaining: 2.9s\n",
      "81:\tlearn: 209.5290460\ttotal: 258ms\tremaining: 2.89s\n",
      "82:\tlearn: 208.0255508\ttotal: 260ms\tremaining: 2.87s\n",
      "83:\tlearn: 206.9124270\ttotal: 262ms\tremaining: 2.86s\n",
      "84:\tlearn: 205.5903017\ttotal: 265ms\tremaining: 2.85s\n",
      "85:\tlearn: 204.6057051\ttotal: 267ms\tremaining: 2.83s\n",
      "86:\tlearn: 203.7128429\ttotal: 269ms\tremaining: 2.82s\n",
      "87:\tlearn: 202.7663836\ttotal: 272ms\tremaining: 2.81s\n",
      "88:\tlearn: 201.9026542\ttotal: 274ms\tremaining: 2.8s\n",
      "89:\tlearn: 200.7729520\ttotal: 276ms\tremaining: 2.79s\n",
      "90:\tlearn: 199.6909954\ttotal: 278ms\tremaining: 2.78s\n",
      "91:\tlearn: 198.6341430\ttotal: 281ms\tremaining: 2.77s\n",
      "92:\tlearn: 197.6117675\ttotal: 283ms\tremaining: 2.76s\n",
      "93:\tlearn: 196.5198483\ttotal: 285ms\tremaining: 2.75s\n",
      "94:\tlearn: 195.5443940\ttotal: 287ms\tremaining: 2.73s\n",
      "95:\tlearn: 194.4203970\ttotal: 289ms\tremaining: 2.72s\n",
      "96:\tlearn: 193.2677508\ttotal: 291ms\tremaining: 2.71s\n",
      "97:\tlearn: 192.1768427\ttotal: 293ms\tremaining: 2.7s\n",
      "98:\tlearn: 191.2356955\ttotal: 296ms\tremaining: 2.69s\n",
      "99:\tlearn: 189.9934546\ttotal: 298ms\tremaining: 2.68s\n",
      "100:\tlearn: 189.2719006\ttotal: 300ms\tremaining: 2.67s\n",
      "101:\tlearn: 188.1079321\ttotal: 302ms\tremaining: 2.66s\n",
      "102:\tlearn: 187.1211517\ttotal: 304ms\tremaining: 2.65s\n",
      "103:\tlearn: 185.9059118\ttotal: 307ms\tremaining: 2.64s\n",
      "104:\tlearn: 185.2620919\ttotal: 309ms\tremaining: 2.63s\n",
      "105:\tlearn: 184.4349037\ttotal: 311ms\tremaining: 2.63s\n",
      "106:\tlearn: 183.1846237\ttotal: 314ms\tremaining: 2.62s\n",
      "107:\tlearn: 182.1448077\ttotal: 316ms\tremaining: 2.61s\n",
      "108:\tlearn: 181.4787170\ttotal: 318ms\tremaining: 2.6s\n",
      "109:\tlearn: 180.6789032\ttotal: 320ms\tremaining: 2.59s\n",
      "110:\tlearn: 179.9122461\ttotal: 322ms\tremaining: 2.58s\n",
      "111:\tlearn: 178.9952892\ttotal: 325ms\tremaining: 2.58s\n",
      "112:\tlearn: 178.6013107\ttotal: 329ms\tremaining: 2.58s\n",
      "113:\tlearn: 177.7090692\ttotal: 333ms\tremaining: 2.59s\n",
      "114:\tlearn: 176.7404828\ttotal: 337ms\tremaining: 2.59s\n",
      "115:\tlearn: 176.0415402\ttotal: 346ms\tremaining: 2.64s\n",
      "116:\tlearn: 175.5315148\ttotal: 350ms\tremaining: 2.64s\n",
      "117:\tlearn: 174.8976738\ttotal: 352ms\tremaining: 2.63s\n",
      "118:\tlearn: 174.0530870\ttotal: 354ms\tremaining: 2.62s\n",
      "119:\tlearn: 173.0700181\ttotal: 357ms\tremaining: 2.62s\n",
      "120:\tlearn: 172.2832739\ttotal: 359ms\tremaining: 2.61s\n",
      "121:\tlearn: 171.4960220\ttotal: 362ms\tremaining: 2.6s\n",
      "122:\tlearn: 171.0402978\ttotal: 364ms\tremaining: 2.59s\n",
      "123:\tlearn: 170.7119169\ttotal: 366ms\tremaining: 2.58s\n",
      "124:\tlearn: 169.6907823\ttotal: 368ms\tremaining: 2.57s\n",
      "125:\tlearn: 169.2063700\ttotal: 370ms\tremaining: 2.56s\n",
      "126:\tlearn: 168.1597529\ttotal: 373ms\tremaining: 2.56s\n",
      "127:\tlearn: 167.3156403\ttotal: 375ms\tremaining: 2.56s\n",
      "128:\tlearn: 166.3187281\ttotal: 378ms\tremaining: 2.55s\n",
      "129:\tlearn: 166.1101656\ttotal: 381ms\tremaining: 2.55s\n",
      "130:\tlearn: 165.5420012\ttotal: 383ms\tremaining: 2.54s\n",
      "131:\tlearn: 164.6237022\ttotal: 386ms\tremaining: 2.54s\n",
      "132:\tlearn: 163.7646814\ttotal: 389ms\tremaining: 2.54s\n",
      "133:\tlearn: 163.3971858\ttotal: 392ms\tremaining: 2.53s\n",
      "134:\tlearn: 162.8775666\ttotal: 395ms\tremaining: 2.53s\n",
      "135:\tlearn: 162.3591190\ttotal: 397ms\tremaining: 2.52s\n",
      "136:\tlearn: 161.8515150\ttotal: 400ms\tremaining: 2.52s\n",
      "137:\tlearn: 161.2542226\ttotal: 402ms\tremaining: 2.51s\n",
      "138:\tlearn: 160.5899334\ttotal: 404ms\tremaining: 2.5s\n",
      "139:\tlearn: 159.6307999\ttotal: 406ms\tremaining: 2.49s\n",
      "140:\tlearn: 159.0055431\ttotal: 409ms\tremaining: 2.49s\n",
      "141:\tlearn: 158.2566894\ttotal: 411ms\tremaining: 2.48s\n",
      "142:\tlearn: 157.6496356\ttotal: 413ms\tremaining: 2.47s\n",
      "143:\tlearn: 157.1590393\ttotal: 415ms\tremaining: 2.47s\n",
      "144:\tlearn: 156.5730455\ttotal: 417ms\tremaining: 2.46s\n",
      "145:\tlearn: 155.8450985\ttotal: 419ms\tremaining: 2.45s\n",
      "146:\tlearn: 155.2439210\ttotal: 422ms\tremaining: 2.45s\n",
      "147:\tlearn: 154.9417796\ttotal: 424ms\tremaining: 2.44s\n",
      "148:\tlearn: 154.3763613\ttotal: 427ms\tremaining: 2.44s\n",
      "149:\tlearn: 153.9438757\ttotal: 429ms\tremaining: 2.43s\n",
      "150:\tlearn: 153.1854046\ttotal: 433ms\tremaining: 2.43s\n",
      "151:\tlearn: 152.8631442\ttotal: 435ms\tremaining: 2.43s\n",
      "152:\tlearn: 152.3115428\ttotal: 437ms\tremaining: 2.42s\n",
      "153:\tlearn: 151.8957029\ttotal: 439ms\tremaining: 2.41s\n",
      "154:\tlearn: 151.1871329\ttotal: 441ms\tremaining: 2.4s\n",
      "155:\tlearn: 150.6828564\ttotal: 443ms\tremaining: 2.4s\n",
      "156:\tlearn: 150.2509622\ttotal: 446ms\tremaining: 2.39s\n",
      "157:\tlearn: 149.6497659\ttotal: 448ms\tremaining: 2.39s\n",
      "158:\tlearn: 148.9332067\ttotal: 450ms\tremaining: 2.38s\n",
      "159:\tlearn: 148.7156418\ttotal: 452ms\tremaining: 2.37s\n",
      "160:\tlearn: 148.2737189\ttotal: 455ms\tremaining: 2.37s\n",
      "161:\tlearn: 147.9625721\ttotal: 457ms\tremaining: 2.36s\n",
      "162:\tlearn: 147.4564915\ttotal: 459ms\tremaining: 2.36s\n",
      "163:\tlearn: 146.8606991\ttotal: 461ms\tremaining: 2.35s\n",
      "164:\tlearn: 146.2386459\ttotal: 464ms\tremaining: 2.35s\n",
      "165:\tlearn: 145.7642228\ttotal: 466ms\tremaining: 2.34s\n",
      "166:\tlearn: 145.3792204\ttotal: 468ms\tremaining: 2.33s\n",
      "167:\tlearn: 145.0935465\ttotal: 470ms\tremaining: 2.33s\n",
      "168:\tlearn: 144.6976165\ttotal: 472ms\tremaining: 2.32s\n",
      "169:\tlearn: 143.9724403\ttotal: 474ms\tremaining: 2.31s\n",
      "170:\tlearn: 143.6449839\ttotal: 476ms\tremaining: 2.31s\n",
      "171:\tlearn: 143.1999180\ttotal: 479ms\tremaining: 2.3s\n",
      "172:\tlearn: 142.9381183\ttotal: 481ms\tremaining: 2.3s\n",
      "173:\tlearn: 142.3304601\ttotal: 483ms\tremaining: 2.29s\n",
      "174:\tlearn: 141.9229624\ttotal: 485ms\tremaining: 2.29s\n",
      "175:\tlearn: 141.4043903\ttotal: 487ms\tremaining: 2.28s\n",
      "176:\tlearn: 141.0209642\ttotal: 490ms\tremaining: 2.28s\n",
      "177:\tlearn: 140.4510865\ttotal: 492ms\tremaining: 2.27s\n",
      "178:\tlearn: 140.3441522\ttotal: 493ms\tremaining: 2.26s\n",
      "179:\tlearn: 139.8478562\ttotal: 495ms\tremaining: 2.26s\n",
      "180:\tlearn: 139.7464932\ttotal: 496ms\tremaining: 2.24s\n",
      "181:\tlearn: 139.2514614\ttotal: 498ms\tremaining: 2.24s\n",
      "182:\tlearn: 139.0274540\ttotal: 500ms\tremaining: 2.23s\n",
      "183:\tlearn: 138.4584181\ttotal: 503ms\tremaining: 2.23s\n",
      "184:\tlearn: 138.2093063\ttotal: 505ms\tremaining: 2.22s\n",
      "185:\tlearn: 137.8406250\ttotal: 507ms\tremaining: 2.22s\n",
      "186:\tlearn: 137.7280816\ttotal: 509ms\tremaining: 2.21s\n",
      "187:\tlearn: 137.2465993\ttotal: 513ms\tremaining: 2.21s\n",
      "188:\tlearn: 136.7894765\ttotal: 515ms\tremaining: 2.21s\n",
      "189:\tlearn: 136.4857311\ttotal: 517ms\tremaining: 2.21s\n",
      "190:\tlearn: 136.0043713\ttotal: 520ms\tremaining: 2.2s\n",
      "191:\tlearn: 135.7523177\ttotal: 522ms\tremaining: 2.19s\n",
      "192:\tlearn: 135.3372675\ttotal: 524ms\tremaining: 2.19s\n",
      "193:\tlearn: 135.0202084\ttotal: 526ms\tremaining: 2.19s\n",
      "194:\tlearn: 134.7757422\ttotal: 528ms\tremaining: 2.18s\n",
      "195:\tlearn: 134.3546545\ttotal: 531ms\tremaining: 2.18s\n",
      "196:\tlearn: 133.9623627\ttotal: 533ms\tremaining: 2.17s\n",
      "197:\tlearn: 133.2648869\ttotal: 536ms\tremaining: 2.17s\n",
      "198:\tlearn: 132.9318972\ttotal: 538ms\tremaining: 2.17s\n",
      "199:\tlearn: 132.5119098\ttotal: 542ms\tremaining: 2.17s\n",
      "200:\tlearn: 131.8954412\ttotal: 545ms\tremaining: 2.17s\n",
      "201:\tlearn: 131.6115557\ttotal: 549ms\tremaining: 2.17s\n",
      "202:\tlearn: 131.2095441\ttotal: 553ms\tremaining: 2.17s\n",
      "203:\tlearn: 130.6658729\ttotal: 558ms\tremaining: 2.18s\n",
      "204:\tlearn: 130.3457517\ttotal: 560ms\tremaining: 2.17s\n",
      "205:\tlearn: 130.0833818\ttotal: 563ms\tremaining: 2.17s\n",
      "206:\tlearn: 129.7238048\ttotal: 565ms\tremaining: 2.16s\n",
      "207:\tlearn: 129.0671906\ttotal: 567ms\tremaining: 2.16s\n",
      "208:\tlearn: 128.7683402\ttotal: 569ms\tremaining: 2.15s\n",
      "209:\tlearn: 128.5832593\ttotal: 572ms\tremaining: 2.15s\n",
      "210:\tlearn: 128.3749444\ttotal: 574ms\tremaining: 2.15s\n",
      "211:\tlearn: 128.1143221\ttotal: 576ms\tremaining: 2.14s\n",
      "212:\tlearn: 127.9897497\ttotal: 579ms\tremaining: 2.14s\n",
      "213:\tlearn: 127.6815659\ttotal: 581ms\tremaining: 2.13s\n",
      "214:\tlearn: 127.2006697\ttotal: 583ms\tremaining: 2.13s\n",
      "215:\tlearn: 127.0352179\ttotal: 585ms\tremaining: 2.12s\n",
      "216:\tlearn: 126.9617234\ttotal: 586ms\tremaining: 2.12s\n",
      "217:\tlearn: 126.7776328\ttotal: 589ms\tremaining: 2.11s\n",
      "218:\tlearn: 126.3802524\ttotal: 591ms\tremaining: 2.11s\n",
      "219:\tlearn: 126.1995377\ttotal: 594ms\tremaining: 2.1s\n",
      "220:\tlearn: 126.1155383\ttotal: 596ms\tremaining: 2.1s\n",
      "221:\tlearn: 125.9832799\ttotal: 598ms\tremaining: 2.1s\n",
      "222:\tlearn: 125.7495770\ttotal: 600ms\tremaining: 2.09s\n",
      "223:\tlearn: 125.2409845\ttotal: 608ms\tremaining: 2.11s\n",
      "224:\tlearn: 124.9538099\ttotal: 614ms\tremaining: 2.11s\n",
      "225:\tlearn: 124.7089151\ttotal: 616ms\tremaining: 2.11s\n",
      "226:\tlearn: 124.3984858\ttotal: 618ms\tremaining: 2.1s\n",
      "227:\tlearn: 124.0014588\ttotal: 620ms\tremaining: 2.1s\n",
      "228:\tlearn: 123.7139174\ttotal: 622ms\tremaining: 2.1s\n",
      "229:\tlearn: 123.6555034\ttotal: 623ms\tremaining: 2.08s\n",
      "230:\tlearn: 123.3398368\ttotal: 625ms\tremaining: 2.08s\n",
      "231:\tlearn: 122.7561150\ttotal: 628ms\tremaining: 2.08s\n",
      "232:\tlearn: 122.5676806\ttotal: 630ms\tremaining: 2.07s\n",
      "233:\tlearn: 122.1759040\ttotal: 632ms\tremaining: 2.07s\n",
      "234:\tlearn: 121.5761316\ttotal: 635ms\tremaining: 2.07s\n",
      "235:\tlearn: 121.3308579\ttotal: 637ms\tremaining: 2.06s\n",
      "236:\tlearn: 120.6316918\ttotal: 639ms\tremaining: 2.06s\n",
      "237:\tlearn: 120.0241441\ttotal: 641ms\tremaining: 2.05s\n",
      "238:\tlearn: 119.6974692\ttotal: 644ms\tremaining: 2.05s\n",
      "239:\tlearn: 119.5295579\ttotal: 647ms\tremaining: 2.05s\n",
      "240:\tlearn: 118.8105516\ttotal: 649ms\tremaining: 2.04s\n",
      "241:\tlearn: 118.5001438\ttotal: 652ms\tremaining: 2.04s\n",
      "242:\tlearn: 118.1525333\ttotal: 654ms\tremaining: 2.04s\n",
      "243:\tlearn: 117.8294708\ttotal: 656ms\tremaining: 2.03s\n",
      "244:\tlearn: 117.4650856\ttotal: 658ms\tremaining: 2.03s\n",
      "245:\tlearn: 117.2329146\ttotal: 660ms\tremaining: 2.02s\n",
      "246:\tlearn: 116.6281150\ttotal: 663ms\tremaining: 2.02s\n",
      "247:\tlearn: 116.4382173\ttotal: 665ms\tremaining: 2.02s\n",
      "248:\tlearn: 115.7804838\ttotal: 667ms\tremaining: 2.01s\n",
      "249:\tlearn: 115.4468389\ttotal: 669ms\tremaining: 2.01s\n",
      "250:\tlearn: 115.2535858\ttotal: 671ms\tremaining: 2s\n",
      "251:\tlearn: 115.0959725\ttotal: 674ms\tremaining: 2s\n",
      "252:\tlearn: 114.5054098\ttotal: 676ms\tremaining: 2s\n",
      "253:\tlearn: 114.2196805\ttotal: 678ms\tremaining: 1.99s\n",
      "254:\tlearn: 113.9389493\ttotal: 680ms\tremaining: 1.99s\n",
      "255:\tlearn: 113.8318782\ttotal: 684ms\tremaining: 1.99s\n",
      "256:\tlearn: 113.7010766\ttotal: 687ms\tremaining: 1.99s\n",
      "257:\tlearn: 113.5349213\ttotal: 689ms\tremaining: 1.98s\n",
      "258:\tlearn: 113.2939692\ttotal: 693ms\tremaining: 1.98s\n",
      "259:\tlearn: 112.8734855\ttotal: 695ms\tremaining: 1.98s\n",
      "260:\tlearn: 112.2073904\ttotal: 698ms\tremaining: 1.98s\n",
      "261:\tlearn: 111.7098455\ttotal: 701ms\tremaining: 1.97s\n",
      "262:\tlearn: 111.4861643\ttotal: 704ms\tremaining: 1.97s\n",
      "263:\tlearn: 111.4065123\ttotal: 706ms\tremaining: 1.97s\n",
      "264:\tlearn: 110.9193214\ttotal: 708ms\tremaining: 1.96s\n",
      "265:\tlearn: 110.2486713\ttotal: 711ms\tremaining: 1.96s\n",
      "266:\tlearn: 110.1718829\ttotal: 713ms\tremaining: 1.96s\n",
      "267:\tlearn: 109.8233102\ttotal: 715ms\tremaining: 1.95s\n",
      "268:\tlearn: 109.2576068\ttotal: 717ms\tremaining: 1.95s\n",
      "269:\tlearn: 109.1038965\ttotal: 719ms\tremaining: 1.94s\n",
      "270:\tlearn: 108.5183523\ttotal: 722ms\tremaining: 1.94s\n",
      "271:\tlearn: 108.4470954\ttotal: 724ms\tremaining: 1.94s\n",
      "272:\tlearn: 108.0259628\ttotal: 726ms\tremaining: 1.93s\n",
      "273:\tlearn: 107.5793316\ttotal: 728ms\tremaining: 1.93s\n",
      "274:\tlearn: 107.4747562\ttotal: 730ms\tremaining: 1.93s\n",
      "275:\tlearn: 107.4015080\ttotal: 733ms\tremaining: 1.92s\n",
      "276:\tlearn: 106.7954512\ttotal: 735ms\tremaining: 1.92s\n",
      "277:\tlearn: 106.3607188\ttotal: 737ms\tremaining: 1.91s\n",
      "278:\tlearn: 106.2892222\ttotal: 739ms\tremaining: 1.91s\n",
      "279:\tlearn: 106.1701389\ttotal: 742ms\tremaining: 1.91s\n",
      "280:\tlearn: 106.0889424\ttotal: 744ms\tremaining: 1.9s\n",
      "281:\tlearn: 105.8903610\ttotal: 746ms\tremaining: 1.9s\n",
      "282:\tlearn: 105.6531794\ttotal: 749ms\tremaining: 1.9s\n",
      "283:\tlearn: 105.3489666\ttotal: 751ms\tremaining: 1.89s\n",
      "284:\tlearn: 105.2156952\ttotal: 753ms\tremaining: 1.89s\n",
      "285:\tlearn: 104.7489850\ttotal: 755ms\tremaining: 1.89s\n",
      "286:\tlearn: 104.4701409\ttotal: 758ms\tremaining: 1.88s\n",
      "287:\tlearn: 104.3778769\ttotal: 760ms\tremaining: 1.88s\n",
      "288:\tlearn: 103.8224679\ttotal: 762ms\tremaining: 1.87s\n",
      "289:\tlearn: 103.2728523\ttotal: 764ms\tremaining: 1.87s\n",
      "290:\tlearn: 102.7341369\ttotal: 766ms\tremaining: 1.87s\n",
      "291:\tlearn: 102.5732242\ttotal: 768ms\tremaining: 1.86s\n",
      "292:\tlearn: 102.4869595\ttotal: 770ms\tremaining: 1.86s\n",
      "293:\tlearn: 101.9743362\ttotal: 773ms\tremaining: 1.85s\n",
      "294:\tlearn: 101.8782948\ttotal: 779ms\tremaining: 1.86s\n",
      "295:\tlearn: 101.3571512\ttotal: 781ms\tremaining: 1.86s\n",
      "296:\tlearn: 100.8372462\ttotal: 784ms\tremaining: 1.85s\n",
      "297:\tlearn: 100.6707783\ttotal: 786ms\tremaining: 1.85s\n",
      "298:\tlearn: 100.3215940\ttotal: 788ms\tremaining: 1.85s\n",
      "299:\tlearn: 99.8162460\ttotal: 790ms\tremaining: 1.84s\n",
      "300:\tlearn: 99.7024172\ttotal: 792ms\tremaining: 1.84s\n",
      "301:\tlearn: 99.2308832\ttotal: 794ms\tremaining: 1.84s\n",
      "302:\tlearn: 98.7981083\ttotal: 797ms\tremaining: 1.83s\n",
      "303:\tlearn: 98.6418362\ttotal: 799ms\tremaining: 1.83s\n",
      "304:\tlearn: 98.1248564\ttotal: 801ms\tremaining: 1.82s\n",
      "305:\tlearn: 97.9442581\ttotal: 804ms\tremaining: 1.82s\n",
      "306:\tlearn: 97.5091297\ttotal: 806ms\tremaining: 1.82s\n",
      "307:\tlearn: 97.0381695\ttotal: 808ms\tremaining: 1.81s\n",
      "308:\tlearn: 96.5858904\ttotal: 810ms\tremaining: 1.81s\n",
      "309:\tlearn: 96.4466124\ttotal: 812ms\tremaining: 1.81s\n",
      "310:\tlearn: 95.9786304\ttotal: 815ms\tremaining: 1.8s\n",
      "311:\tlearn: 95.5390501\ttotal: 817ms\tremaining: 1.8s\n",
      "312:\tlearn: 95.3241323\ttotal: 819ms\tremaining: 1.8s\n",
      "313:\tlearn: 95.1166839\ttotal: 823ms\tremaining: 1.8s\n",
      "314:\tlearn: 94.6729021\ttotal: 825ms\tremaining: 1.79s\n",
      "315:\tlearn: 94.2571678\ttotal: 827ms\tremaining: 1.79s\n",
      "316:\tlearn: 93.9414786\ttotal: 830ms\tremaining: 1.79s\n",
      "317:\tlearn: 93.7804159\ttotal: 832ms\tremaining: 1.78s\n",
      "318:\tlearn: 93.5413306\ttotal: 835ms\tremaining: 1.78s\n",
      "319:\tlearn: 93.4280107\ttotal: 838ms\tremaining: 1.78s\n",
      "320:\tlearn: 92.9986302\ttotal: 840ms\tremaining: 1.78s\n",
      "321:\tlearn: 92.9421610\ttotal: 842ms\tremaining: 1.77s\n",
      "322:\tlearn: 92.4662692\ttotal: 844ms\tremaining: 1.77s\n",
      "323:\tlearn: 92.0455485\ttotal: 848ms\tremaining: 1.77s\n",
      "324:\tlearn: 91.6664667\ttotal: 851ms\tremaining: 1.77s\n",
      "325:\tlearn: 91.5600717\ttotal: 853ms\tremaining: 1.76s\n",
      "326:\tlearn: 91.5004974\ttotal: 856ms\tremaining: 1.76s\n",
      "327:\tlearn: 91.0716355\ttotal: 859ms\tremaining: 1.76s\n",
      "328:\tlearn: 90.6376777\ttotal: 862ms\tremaining: 1.76s\n",
      "329:\tlearn: 90.2132341\ttotal: 864ms\tremaining: 1.75s\n",
      "330:\tlearn: 90.1525801\ttotal: 867ms\tremaining: 1.75s\n",
      "331:\tlearn: 89.7879501\ttotal: 869ms\tremaining: 1.75s\n",
      "332:\tlearn: 89.3626218\ttotal: 871ms\tremaining: 1.75s\n",
      "333:\tlearn: 89.1274526\ttotal: 873ms\tremaining: 1.74s\n",
      "334:\tlearn: 88.7222011\ttotal: 876ms\tremaining: 1.74s\n",
      "335:\tlearn: 88.5311901\ttotal: 878ms\tremaining: 1.74s\n",
      "336:\tlearn: 88.0699983\ttotal: 880ms\tremaining: 1.73s\n",
      "337:\tlearn: 87.6737037\ttotal: 882ms\tremaining: 1.73s\n",
      "338:\tlearn: 87.3069085\ttotal: 885ms\tremaining: 1.73s\n",
      "339:\tlearn: 86.8639700\ttotal: 889ms\tremaining: 1.73s\n",
      "340:\tlearn: 86.7339532\ttotal: 894ms\tremaining: 1.73s\n",
      "341:\tlearn: 86.5677333\ttotal: 898ms\tremaining: 1.73s\n",
      "342:\tlearn: 86.4361752\ttotal: 901ms\tremaining: 1.73s\n",
      "343:\tlearn: 86.2469458\ttotal: 908ms\tremaining: 1.73s\n",
      "344:\tlearn: 86.1967306\ttotal: 912ms\tremaining: 1.73s\n",
      "345:\tlearn: 86.0709863\ttotal: 915ms\tremaining: 1.73s\n",
      "346:\tlearn: 85.6398833\ttotal: 918ms\tremaining: 1.73s\n",
      "347:\tlearn: 85.5979263\ttotal: 921ms\tremaining: 1.73s\n",
      "348:\tlearn: 85.4437261\ttotal: 925ms\tremaining: 1.73s\n",
      "349:\tlearn: 85.0669752\ttotal: 928ms\tremaining: 1.72s\n",
      "350:\tlearn: 85.0164116\ttotal: 930ms\tremaining: 1.72s\n",
      "351:\tlearn: 84.6350071\ttotal: 933ms\tremaining: 1.72s\n",
      "352:\tlearn: 84.1473245\ttotal: 936ms\tremaining: 1.72s\n",
      "353:\tlearn: 83.8115391\ttotal: 939ms\tremaining: 1.71s\n",
      "354:\tlearn: 83.4823620\ttotal: 942ms\tremaining: 1.71s\n",
      "355:\tlearn: 83.1595406\ttotal: 945ms\tremaining: 1.71s\n",
      "356:\tlearn: 82.7280745\ttotal: 947ms\tremaining: 1.71s\n",
      "357:\tlearn: 82.6210086\ttotal: 949ms\tremaining: 1.7s\n",
      "358:\tlearn: 82.3077194\ttotal: 951ms\tremaining: 1.7s\n",
      "359:\tlearn: 81.9112073\ttotal: 954ms\tremaining: 1.7s\n",
      "360:\tlearn: 81.5518193\ttotal: 956ms\tremaining: 1.69s\n",
      "361:\tlearn: 81.4267033\ttotal: 958ms\tremaining: 1.69s\n",
      "362:\tlearn: 81.0255982\ttotal: 964ms\tremaining: 1.69s\n",
      "363:\tlearn: 80.6891175\ttotal: 967ms\tremaining: 1.69s\n",
      "364:\tlearn: 80.4390711\ttotal: 969ms\tremaining: 1.69s\n",
      "365:\tlearn: 80.1232319\ttotal: 971ms\tremaining: 1.68s\n",
      "366:\tlearn: 80.0808756\ttotal: 973ms\tremaining: 1.68s\n",
      "367:\tlearn: 79.7090424\ttotal: 976ms\tremaining: 1.68s\n",
      "368:\tlearn: 79.3969152\ttotal: 978ms\tremaining: 1.67s\n",
      "369:\tlearn: 79.0731259\ttotal: 980ms\tremaining: 1.67s\n",
      "370:\tlearn: 78.9862934\ttotal: 983ms\tremaining: 1.67s\n",
      "371:\tlearn: 78.7730476\ttotal: 985ms\tremaining: 1.66s\n",
      "372:\tlearn: 78.6302158\ttotal: 988ms\tremaining: 1.66s\n",
      "373:\tlearn: 78.5184111\ttotal: 990ms\tremaining: 1.66s\n",
      "374:\tlearn: 78.3814955\ttotal: 992ms\tremaining: 1.65s\n",
      "375:\tlearn: 77.9622261\ttotal: 994ms\tremaining: 1.65s\n",
      "376:\tlearn: 77.8601787\ttotal: 996ms\tremaining: 1.65s\n",
      "377:\tlearn: 77.7650898\ttotal: 998ms\tremaining: 1.64s\n",
      "378:\tlearn: 77.3945927\ttotal: 1s\tremaining: 1.64s\n",
      "379:\tlearn: 77.3348237\ttotal: 1s\tremaining: 1.64s\n",
      "380:\tlearn: 77.2431856\ttotal: 1s\tremaining: 1.63s\n",
      "381:\tlearn: 76.9192891\ttotal: 1.01s\tremaining: 1.63s\n",
      "382:\tlearn: 76.7949544\ttotal: 1.01s\tremaining: 1.63s\n",
      "383:\tlearn: 76.5217530\ttotal: 1.01s\tremaining: 1.62s\n",
      "384:\tlearn: 76.1648512\ttotal: 1.01s\tremaining: 1.62s\n",
      "385:\tlearn: 75.9867656\ttotal: 1.01s\tremaining: 1.61s\n",
      "386:\tlearn: 75.7293435\ttotal: 1.02s\tremaining: 1.61s\n",
      "387:\tlearn: 75.6419805\ttotal: 1.02s\tremaining: 1.61s\n",
      "388:\tlearn: 75.3138222\ttotal: 1.02s\tremaining: 1.61s\n",
      "389:\tlearn: 75.0125736\ttotal: 1.02s\tremaining: 1.6s\n",
      "390:\tlearn: 74.9803725\ttotal: 1.03s\tremaining: 1.6s\n",
      "391:\tlearn: 74.6113970\ttotal: 1.03s\tremaining: 1.6s\n",
      "392:\tlearn: 74.3668766\ttotal: 1.03s\tremaining: 1.6s\n",
      "393:\tlearn: 74.2752147\ttotal: 1.04s\tremaining: 1.6s\n",
      "394:\tlearn: 74.2172412\ttotal: 1.04s\tremaining: 1.59s\n",
      "395:\tlearn: 73.8652110\ttotal: 1.04s\tremaining: 1.59s\n",
      "396:\tlearn: 73.6963645\ttotal: 1.04s\tremaining: 1.59s\n",
      "397:\tlearn: 73.4075086\ttotal: 1.05s\tremaining: 1.58s\n",
      "398:\tlearn: 73.0346771\ttotal: 1.05s\tremaining: 1.58s\n",
      "399:\tlearn: 72.9971586\ttotal: 1.05s\tremaining: 1.58s\n",
      "400:\tlearn: 72.6755493\ttotal: 1.05s\tremaining: 1.57s\n",
      "401:\tlearn: 72.5972282\ttotal: 1.05s\tremaining: 1.57s\n",
      "402:\tlearn: 72.4345974\ttotal: 1.06s\tremaining: 1.57s\n",
      "403:\tlearn: 72.2185716\ttotal: 1.06s\tremaining: 1.56s\n",
      "404:\tlearn: 71.9251032\ttotal: 1.06s\tremaining: 1.56s\n",
      "405:\tlearn: 71.8901544\ttotal: 1.06s\tremaining: 1.56s\n",
      "406:\tlearn: 71.5338422\ttotal: 1.07s\tremaining: 1.55s\n",
      "407:\tlearn: 71.4477827\ttotal: 1.07s\tremaining: 1.55s\n",
      "408:\tlearn: 71.4127550\ttotal: 1.07s\tremaining: 1.55s\n",
      "409:\tlearn: 71.3322454\ttotal: 1.07s\tremaining: 1.54s\n",
      "410:\tlearn: 71.2981804\ttotal: 1.07s\tremaining: 1.54s\n",
      "411:\tlearn: 71.0089173\ttotal: 1.08s\tremaining: 1.54s\n",
      "412:\tlearn: 70.7854493\ttotal: 1.08s\tremaining: 1.53s\n",
      "413:\tlearn: 70.4930103\ttotal: 1.08s\tremaining: 1.53s\n",
      "414:\tlearn: 70.1976578\ttotal: 1.08s\tremaining: 1.53s\n",
      "415:\tlearn: 69.9565552\ttotal: 1.09s\tremaining: 1.52s\n",
      "416:\tlearn: 69.8912103\ttotal: 1.09s\tremaining: 1.52s\n",
      "417:\tlearn: 69.7356706\ttotal: 1.09s\tremaining: 1.52s\n",
      "418:\tlearn: 69.6634412\ttotal: 1.09s\tremaining: 1.52s\n",
      "419:\tlearn: 69.2943609\ttotal: 1.09s\tremaining: 1.51s\n",
      "420:\tlearn: 69.0269983\ttotal: 1.1s\tremaining: 1.51s\n",
      "421:\tlearn: 68.8653561\ttotal: 1.1s\tremaining: 1.51s\n",
      "422:\tlearn: 68.6555281\ttotal: 1.1s\tremaining: 1.5s\n",
      "423:\tlearn: 68.2338294\ttotal: 1.1s\tremaining: 1.5s\n",
      "424:\tlearn: 68.0909898\ttotal: 1.11s\tremaining: 1.5s\n",
      "425:\tlearn: 67.7905722\ttotal: 1.11s\tremaining: 1.49s\n",
      "426:\tlearn: 67.5586853\ttotal: 1.11s\tremaining: 1.49s\n",
      "427:\tlearn: 67.3518839\ttotal: 1.11s\tremaining: 1.49s\n",
      "428:\tlearn: 67.2029794\ttotal: 1.11s\tremaining: 1.48s\n",
      "429:\tlearn: 66.9467892\ttotal: 1.12s\tremaining: 1.48s\n",
      "430:\tlearn: 66.7821891\ttotal: 1.12s\tremaining: 1.48s\n",
      "431:\tlearn: 66.4955741\ttotal: 1.12s\tremaining: 1.47s\n",
      "432:\tlearn: 66.2240359\ttotal: 1.12s\tremaining: 1.47s\n",
      "433:\tlearn: 65.9832136\ttotal: 1.13s\tremaining: 1.47s\n",
      "434:\tlearn: 65.7761577\ttotal: 1.13s\tremaining: 1.47s\n",
      "435:\tlearn: 65.4845025\ttotal: 1.13s\tremaining: 1.46s\n",
      "436:\tlearn: 65.4215937\ttotal: 1.13s\tremaining: 1.46s\n",
      "437:\tlearn: 65.1768197\ttotal: 1.13s\tremaining: 1.46s\n",
      "438:\tlearn: 65.1071642\ttotal: 1.14s\tremaining: 1.45s\n",
      "439:\tlearn: 65.0705857\ttotal: 1.14s\tremaining: 1.45s\n",
      "440:\tlearn: 64.7782864\ttotal: 1.14s\tremaining: 1.45s\n",
      "441:\tlearn: 64.5284944\ttotal: 1.14s\tremaining: 1.44s\n",
      "442:\tlearn: 64.3504433\ttotal: 1.15s\tremaining: 1.44s\n",
      "443:\tlearn: 64.3001112\ttotal: 1.15s\tremaining: 1.44s\n",
      "444:\tlearn: 63.9063758\ttotal: 1.15s\tremaining: 1.43s\n",
      "445:\tlearn: 63.8746707\ttotal: 1.15s\tremaining: 1.43s\n",
      "446:\tlearn: 63.5487944\ttotal: 1.15s\tremaining: 1.43s\n",
      "447:\tlearn: 63.3406893\ttotal: 1.16s\tremaining: 1.42s\n",
      "448:\tlearn: 63.0992921\ttotal: 1.16s\tremaining: 1.42s\n",
      "449:\tlearn: 62.8676535\ttotal: 1.16s\tremaining: 1.42s\n",
      "450:\tlearn: 62.6978975\ttotal: 1.16s\tremaining: 1.42s\n",
      "451:\tlearn: 62.4888356\ttotal: 1.16s\tremaining: 1.41s\n",
      "452:\tlearn: 62.4591033\ttotal: 1.17s\tremaining: 1.41s\n",
      "453:\tlearn: 62.3981355\ttotal: 1.17s\tremaining: 1.41s\n",
      "454:\tlearn: 62.2755114\ttotal: 1.17s\tremaining: 1.4s\n",
      "455:\tlearn: 62.0286915\ttotal: 1.17s\tremaining: 1.4s\n",
      "456:\tlearn: 61.8101493\ttotal: 1.18s\tremaining: 1.4s\n",
      "457:\tlearn: 61.7125436\ttotal: 1.18s\tremaining: 1.39s\n",
      "458:\tlearn: 61.3464743\ttotal: 1.18s\tremaining: 1.39s\n",
      "459:\tlearn: 61.0777407\ttotal: 1.18s\tremaining: 1.39s\n",
      "460:\tlearn: 60.7354015\ttotal: 1.18s\tremaining: 1.39s\n",
      "461:\tlearn: 60.7070785\ttotal: 1.19s\tremaining: 1.38s\n",
      "462:\tlearn: 60.4380726\ttotal: 1.19s\tremaining: 1.38s\n",
      "463:\tlearn: 60.3794644\ttotal: 1.19s\tremaining: 1.38s\n",
      "464:\tlearn: 60.3096146\ttotal: 1.19s\tremaining: 1.37s\n",
      "465:\tlearn: 60.2803998\ttotal: 1.19s\tremaining: 1.37s\n",
      "466:\tlearn: 60.2489158\ttotal: 1.2s\tremaining: 1.37s\n",
      "467:\tlearn: 60.2187601\ttotal: 1.2s\tremaining: 1.36s\n",
      "468:\tlearn: 59.9901529\ttotal: 1.2s\tremaining: 1.36s\n",
      "469:\tlearn: 59.7821357\ttotal: 1.21s\tremaining: 1.36s\n",
      "470:\tlearn: 59.7334527\ttotal: 1.21s\tremaining: 1.36s\n",
      "471:\tlearn: 59.4989600\ttotal: 1.21s\tremaining: 1.35s\n",
      "472:\tlearn: 59.1865219\ttotal: 1.21s\tremaining: 1.35s\n",
      "473:\tlearn: 58.9478658\ttotal: 1.21s\tremaining: 1.35s\n",
      "474:\tlearn: 58.6836425\ttotal: 1.22s\tremaining: 1.34s\n",
      "475:\tlearn: 58.6522637\ttotal: 1.22s\tremaining: 1.34s\n",
      "476:\tlearn: 58.5963542\ttotal: 1.22s\tremaining: 1.34s\n",
      "477:\tlearn: 58.3648296\ttotal: 1.22s\tremaining: 1.33s\n",
      "478:\tlearn: 58.3188915\ttotal: 1.23s\tremaining: 1.33s\n",
      "479:\tlearn: 58.1813689\ttotal: 1.23s\tremaining: 1.33s\n",
      "480:\tlearn: 57.9437076\ttotal: 1.23s\tremaining: 1.33s\n",
      "481:\tlearn: 57.7694232\ttotal: 1.23s\tremaining: 1.32s\n",
      "482:\tlearn: 57.7437082\ttotal: 1.23s\tremaining: 1.32s\n",
      "483:\tlearn: 57.5081532\ttotal: 1.24s\tremaining: 1.32s\n",
      "484:\tlearn: 57.2134650\ttotal: 1.24s\tremaining: 1.32s\n",
      "485:\tlearn: 56.9733344\ttotal: 1.24s\tremaining: 1.31s\n",
      "486:\tlearn: 56.9412760\ttotal: 1.25s\tremaining: 1.32s\n",
      "487:\tlearn: 56.8640335\ttotal: 1.25s\tremaining: 1.31s\n",
      "488:\tlearn: 56.5624625\ttotal: 1.26s\tremaining: 1.32s\n",
      "489:\tlearn: 56.4986179\ttotal: 1.26s\tremaining: 1.32s\n",
      "490:\tlearn: 56.3527490\ttotal: 1.27s\tremaining: 1.31s\n",
      "491:\tlearn: 56.0961642\ttotal: 1.27s\tremaining: 1.31s\n",
      "492:\tlearn: 55.8256120\ttotal: 1.27s\tremaining: 1.31s\n",
      "493:\tlearn: 55.6150160\ttotal: 1.27s\tremaining: 1.3s\n",
      "494:\tlearn: 55.5631279\ttotal: 1.28s\tremaining: 1.3s\n",
      "495:\tlearn: 55.3736400\ttotal: 1.28s\tremaining: 1.3s\n",
      "496:\tlearn: 55.3441677\ttotal: 1.28s\tremaining: 1.3s\n",
      "497:\tlearn: 55.1995384\ttotal: 1.28s\tremaining: 1.29s\n",
      "498:\tlearn: 54.8980322\ttotal: 1.28s\tremaining: 1.29s\n",
      "499:\tlearn: 54.7119603\ttotal: 1.29s\tremaining: 1.29s\n",
      "500:\tlearn: 54.6236591\ttotal: 1.29s\tremaining: 1.28s\n",
      "501:\tlearn: 54.4131558\ttotal: 1.29s\tremaining: 1.28s\n",
      "502:\tlearn: 54.3901230\ttotal: 1.29s\tremaining: 1.28s\n",
      "503:\tlearn: 54.3662021\ttotal: 1.3s\tremaining: 1.27s\n",
      "504:\tlearn: 54.2068745\ttotal: 1.3s\tremaining: 1.27s\n",
      "505:\tlearn: 54.1800600\ttotal: 1.3s\tremaining: 1.27s\n",
      "506:\tlearn: 54.1376632\ttotal: 1.3s\tremaining: 1.27s\n",
      "507:\tlearn: 53.9788342\ttotal: 1.3s\tremaining: 1.26s\n",
      "508:\tlearn: 53.9294324\ttotal: 1.31s\tremaining: 1.26s\n",
      "509:\tlearn: 53.6786369\ttotal: 1.31s\tremaining: 1.26s\n",
      "510:\tlearn: 53.4578789\ttotal: 1.31s\tremaining: 1.25s\n",
      "511:\tlearn: 53.3261204\ttotal: 1.31s\tremaining: 1.25s\n",
      "512:\tlearn: 53.1331329\ttotal: 1.32s\tremaining: 1.25s\n",
      "513:\tlearn: 52.9261288\ttotal: 1.32s\tremaining: 1.25s\n",
      "514:\tlearn: 52.7447311\ttotal: 1.32s\tremaining: 1.24s\n",
      "515:\tlearn: 52.5966869\ttotal: 1.32s\tremaining: 1.24s\n",
      "516:\tlearn: 52.4130565\ttotal: 1.32s\tremaining: 1.24s\n",
      "517:\tlearn: 52.1948654\ttotal: 1.33s\tremaining: 1.24s\n",
      "518:\tlearn: 51.9463802\ttotal: 1.33s\tremaining: 1.23s\n",
      "519:\tlearn: 51.9178306\ttotal: 1.33s\tremaining: 1.23s\n",
      "520:\tlearn: 51.7246141\ttotal: 1.33s\tremaining: 1.23s\n",
      "521:\tlearn: 51.5669648\ttotal: 1.34s\tremaining: 1.22s\n",
      "522:\tlearn: 51.5221972\ttotal: 1.34s\tremaining: 1.22s\n",
      "523:\tlearn: 51.3293697\ttotal: 1.34s\tremaining: 1.22s\n",
      "524:\tlearn: 51.1767477\ttotal: 1.34s\tremaining: 1.21s\n",
      "525:\tlearn: 51.0961343\ttotal: 1.34s\tremaining: 1.21s\n",
      "526:\tlearn: 50.9995340\ttotal: 1.35s\tremaining: 1.21s\n",
      "527:\tlearn: 50.8846082\ttotal: 1.35s\tremaining: 1.21s\n",
      "528:\tlearn: 50.7478794\ttotal: 1.35s\tremaining: 1.2s\n",
      "529:\tlearn: 50.5116322\ttotal: 1.35s\tremaining: 1.2s\n",
      "530:\tlearn: 50.2760468\ttotal: 1.35s\tremaining: 1.2s\n",
      "531:\tlearn: 50.1040144\ttotal: 1.36s\tremaining: 1.19s\n",
      "532:\tlearn: 49.8827812\ttotal: 1.36s\tremaining: 1.19s\n",
      "533:\tlearn: 49.8255711\ttotal: 1.36s\tremaining: 1.19s\n",
      "534:\tlearn: 49.7890438\ttotal: 1.36s\tremaining: 1.19s\n",
      "535:\tlearn: 49.6290340\ttotal: 1.37s\tremaining: 1.18s\n",
      "536:\tlearn: 49.3965889\ttotal: 1.37s\tremaining: 1.18s\n",
      "537:\tlearn: 49.1641285\ttotal: 1.37s\tremaining: 1.18s\n",
      "538:\tlearn: 48.9654180\ttotal: 1.38s\tremaining: 1.18s\n",
      "539:\tlearn: 48.9278341\ttotal: 1.38s\tremaining: 1.18s\n",
      "540:\tlearn: 48.8457405\ttotal: 1.38s\tremaining: 1.17s\n",
      "541:\tlearn: 48.8041804\ttotal: 1.39s\tremaining: 1.17s\n",
      "542:\tlearn: 48.7179291\ttotal: 1.39s\tremaining: 1.17s\n",
      "543:\tlearn: 48.6759771\ttotal: 1.39s\tremaining: 1.17s\n",
      "544:\tlearn: 48.4792967\ttotal: 1.39s\tremaining: 1.16s\n",
      "545:\tlearn: 48.3843114\ttotal: 1.4s\tremaining: 1.16s\n",
      "546:\tlearn: 48.2453957\ttotal: 1.4s\tremaining: 1.16s\n",
      "547:\tlearn: 48.0231685\ttotal: 1.4s\tremaining: 1.16s\n",
      "548:\tlearn: 47.8612203\ttotal: 1.41s\tremaining: 1.15s\n",
      "549:\tlearn: 47.7590091\ttotal: 1.41s\tremaining: 1.15s\n",
      "550:\tlearn: 47.6561968\ttotal: 1.41s\tremaining: 1.15s\n",
      "551:\tlearn: 47.4106594\ttotal: 1.41s\tremaining: 1.15s\n",
      "552:\tlearn: 47.2194456\ttotal: 1.42s\tremaining: 1.14s\n",
      "553:\tlearn: 47.0783850\ttotal: 1.42s\tremaining: 1.14s\n",
      "554:\tlearn: 46.8215038\ttotal: 1.42s\tremaining: 1.14s\n",
      "555:\tlearn: 46.6674572\ttotal: 1.42s\tremaining: 1.14s\n",
      "556:\tlearn: 46.6418726\ttotal: 1.42s\tremaining: 1.13s\n",
      "557:\tlearn: 46.5248666\ttotal: 1.43s\tremaining: 1.13s\n",
      "558:\tlearn: 46.5061320\ttotal: 1.43s\tremaining: 1.13s\n",
      "559:\tlearn: 46.4397708\ttotal: 1.43s\tremaining: 1.12s\n",
      "560:\tlearn: 46.3904442\ttotal: 1.43s\tremaining: 1.12s\n",
      "561:\tlearn: 46.2576989\ttotal: 1.43s\tremaining: 1.12s\n",
      "562:\tlearn: 45.9568721\ttotal: 1.44s\tremaining: 1.11s\n",
      "563:\tlearn: 45.8482033\ttotal: 1.44s\tremaining: 1.11s\n",
      "564:\tlearn: 45.6689466\ttotal: 1.44s\tremaining: 1.11s\n",
      "565:\tlearn: 45.4222796\ttotal: 1.44s\tremaining: 1.11s\n",
      "566:\tlearn: 45.2404146\ttotal: 1.45s\tremaining: 1.1s\n",
      "567:\tlearn: 45.0903054\ttotal: 1.45s\tremaining: 1.1s\n",
      "568:\tlearn: 44.7991969\ttotal: 1.45s\tremaining: 1.1s\n",
      "569:\tlearn: 44.6413756\ttotal: 1.45s\tremaining: 1.09s\n",
      "570:\tlearn: 44.5799550\ttotal: 1.45s\tremaining: 1.09s\n",
      "571:\tlearn: 44.5651506\ttotal: 1.46s\tremaining: 1.09s\n",
      "572:\tlearn: 44.4233165\ttotal: 1.46s\tremaining: 1.09s\n",
      "573:\tlearn: 44.2369747\ttotal: 1.46s\tremaining: 1.08s\n",
      "574:\tlearn: 44.0545664\ttotal: 1.46s\tremaining: 1.08s\n",
      "575:\tlearn: 43.9004385\ttotal: 1.47s\tremaining: 1.08s\n",
      "576:\tlearn: 43.7138119\ttotal: 1.47s\tremaining: 1.07s\n",
      "577:\tlearn: 43.5755556\ttotal: 1.47s\tremaining: 1.07s\n",
      "578:\tlearn: 43.4934072\ttotal: 1.47s\tremaining: 1.07s\n",
      "579:\tlearn: 43.4629843\ttotal: 1.48s\tremaining: 1.07s\n",
      "580:\tlearn: 43.3825129\ttotal: 1.48s\tremaining: 1.07s\n",
      "581:\tlearn: 43.2549166\ttotal: 1.48s\tremaining: 1.06s\n",
      "582:\tlearn: 43.1514800\ttotal: 1.48s\tremaining: 1.06s\n",
      "583:\tlearn: 42.9846414\ttotal: 1.49s\tremaining: 1.06s\n",
      "584:\tlearn: 42.8538804\ttotal: 1.49s\tremaining: 1.05s\n",
      "585:\tlearn: 42.7710806\ttotal: 1.49s\tremaining: 1.05s\n",
      "586:\tlearn: 42.5351412\ttotal: 1.49s\tremaining: 1.05s\n",
      "587:\tlearn: 42.4784055\ttotal: 1.49s\tremaining: 1.05s\n",
      "588:\tlearn: 42.3174788\ttotal: 1.5s\tremaining: 1.04s\n",
      "589:\tlearn: 42.1761529\ttotal: 1.5s\tremaining: 1.04s\n",
      "590:\tlearn: 42.0486059\ttotal: 1.5s\tremaining: 1.04s\n",
      "591:\tlearn: 41.8689529\ttotal: 1.5s\tremaining: 1.04s\n",
      "592:\tlearn: 41.8306286\ttotal: 1.51s\tremaining: 1.03s\n",
      "593:\tlearn: 41.6966124\ttotal: 1.51s\tremaining: 1.03s\n",
      "594:\tlearn: 41.6647082\ttotal: 1.51s\tremaining: 1.03s\n",
      "595:\tlearn: 41.5609917\ttotal: 1.51s\tremaining: 1.02s\n",
      "596:\tlearn: 41.4632566\ttotal: 1.51s\tremaining: 1.02s\n",
      "597:\tlearn: 41.3899602\ttotal: 1.52s\tremaining: 1.02s\n",
      "598:\tlearn: 41.2152047\ttotal: 1.52s\tremaining: 1.02s\n",
      "599:\tlearn: 41.0959753\ttotal: 1.52s\tremaining: 1.01s\n",
      "600:\tlearn: 40.9815009\ttotal: 1.52s\tremaining: 1.01s\n",
      "601:\tlearn: 40.8912971\ttotal: 1.53s\tremaining: 1.01s\n",
      "602:\tlearn: 40.7881395\ttotal: 1.53s\tremaining: 1.01s\n",
      "603:\tlearn: 40.6325570\ttotal: 1.54s\tremaining: 1.01s\n",
      "604:\tlearn: 40.4083902\ttotal: 1.54s\tremaining: 1.01s\n",
      "605:\tlearn: 40.3292737\ttotal: 1.55s\tremaining: 1.01s\n",
      "606:\tlearn: 40.2629492\ttotal: 1.55s\tremaining: 1s\n",
      "607:\tlearn: 40.2448471\ttotal: 1.55s\tremaining: 1s\n",
      "608:\tlearn: 40.2293673\ttotal: 1.56s\tremaining: 1s\n",
      "609:\tlearn: 40.0978829\ttotal: 1.56s\tremaining: 997ms\n",
      "610:\tlearn: 40.0512268\ttotal: 1.56s\tremaining: 995ms\n",
      "611:\tlearn: 39.8920221\ttotal: 1.56s\tremaining: 992ms\n",
      "612:\tlearn: 39.8591122\ttotal: 1.57s\tremaining: 989ms\n",
      "613:\tlearn: 39.7261911\ttotal: 1.57s\tremaining: 987ms\n",
      "614:\tlearn: 39.6986628\ttotal: 1.57s\tremaining: 984ms\n",
      "615:\tlearn: 39.5659851\ttotal: 1.57s\tremaining: 981ms\n",
      "616:\tlearn: 39.4815274\ttotal: 1.57s\tremaining: 978ms\n",
      "617:\tlearn: 39.3682607\ttotal: 1.58s\tremaining: 975ms\n",
      "618:\tlearn: 39.2643803\ttotal: 1.58s\tremaining: 973ms\n",
      "619:\tlearn: 39.1307437\ttotal: 1.58s\tremaining: 970ms\n",
      "620:\tlearn: 38.9596117\ttotal: 1.58s\tremaining: 967ms\n",
      "621:\tlearn: 38.8456302\ttotal: 1.59s\tremaining: 964ms\n",
      "622:\tlearn: 38.7810676\ttotal: 1.59s\tremaining: 962ms\n",
      "623:\tlearn: 38.7450983\ttotal: 1.59s\tremaining: 959ms\n",
      "624:\tlearn: 38.6788090\ttotal: 1.59s\tremaining: 956ms\n",
      "625:\tlearn: 38.5788475\ttotal: 1.6s\tremaining: 954ms\n",
      "626:\tlearn: 38.4675366\ttotal: 1.6s\tremaining: 951ms\n",
      "627:\tlearn: 38.2350724\ttotal: 1.6s\tremaining: 948ms\n",
      "628:\tlearn: 38.2074221\ttotal: 1.6s\tremaining: 945ms\n",
      "629:\tlearn: 38.0622880\ttotal: 1.6s\tremaining: 943ms\n",
      "630:\tlearn: 37.8520281\ttotal: 1.61s\tremaining: 940ms\n",
      "631:\tlearn: 37.6631204\ttotal: 1.61s\tremaining: 937ms\n",
      "632:\tlearn: 37.5153877\ttotal: 1.61s\tremaining: 934ms\n",
      "633:\tlearn: 37.3834892\ttotal: 1.61s\tremaining: 932ms\n",
      "634:\tlearn: 37.2552166\ttotal: 1.62s\tremaining: 929ms\n",
      "635:\tlearn: 37.0779047\ttotal: 1.62s\tremaining: 926ms\n",
      "636:\tlearn: 37.0329263\ttotal: 1.62s\tremaining: 923ms\n",
      "637:\tlearn: 36.8927982\ttotal: 1.62s\tremaining: 921ms\n",
      "638:\tlearn: 36.8105498\ttotal: 1.62s\tremaining: 918ms\n",
      "639:\tlearn: 36.7512624\ttotal: 1.63s\tremaining: 915ms\n",
      "640:\tlearn: 36.5891302\ttotal: 1.63s\tremaining: 913ms\n",
      "641:\tlearn: 36.4551656\ttotal: 1.63s\tremaining: 910ms\n",
      "642:\tlearn: 36.4318588\ttotal: 1.63s\tremaining: 907ms\n",
      "643:\tlearn: 36.4074785\ttotal: 1.64s\tremaining: 904ms\n",
      "644:\tlearn: 36.2579510\ttotal: 1.64s\tremaining: 901ms\n",
      "645:\tlearn: 36.1413504\ttotal: 1.64s\tremaining: 899ms\n",
      "646:\tlearn: 36.0078406\ttotal: 1.64s\tremaining: 896ms\n",
      "647:\tlearn: 35.8909828\ttotal: 1.64s\tremaining: 893ms\n",
      "648:\tlearn: 35.7426906\ttotal: 1.65s\tremaining: 891ms\n",
      "649:\tlearn: 35.5963108\ttotal: 1.65s\tremaining: 888ms\n",
      "650:\tlearn: 35.4623805\ttotal: 1.65s\tremaining: 886ms\n",
      "651:\tlearn: 35.4428004\ttotal: 1.65s\tremaining: 883ms\n",
      "652:\tlearn: 35.3007158\ttotal: 1.66s\tremaining: 881ms\n",
      "653:\tlearn: 35.1510309\ttotal: 1.66s\tremaining: 878ms\n",
      "654:\tlearn: 35.1258328\ttotal: 1.66s\tremaining: 876ms\n",
      "655:\tlearn: 35.0183795\ttotal: 1.66s\tremaining: 873ms\n",
      "656:\tlearn: 34.9003271\ttotal: 1.67s\tremaining: 870ms\n",
      "657:\tlearn: 34.7887445\ttotal: 1.67s\tremaining: 868ms\n",
      "658:\tlearn: 34.6253676\ttotal: 1.67s\tremaining: 865ms\n",
      "659:\tlearn: 34.5506116\ttotal: 1.67s\tremaining: 863ms\n",
      "660:\tlearn: 34.4197699\ttotal: 1.68s\tremaining: 860ms\n",
      "661:\tlearn: 34.3097495\ttotal: 1.68s\tremaining: 857ms\n",
      "662:\tlearn: 34.1572027\ttotal: 1.68s\tremaining: 854ms\n",
      "663:\tlearn: 34.1441284\ttotal: 1.68s\tremaining: 852ms\n",
      "664:\tlearn: 34.0600732\ttotal: 1.69s\tremaining: 849ms\n",
      "665:\tlearn: 34.0500587\ttotal: 1.69s\tremaining: 847ms\n",
      "666:\tlearn: 33.9193340\ttotal: 1.69s\tremaining: 845ms\n",
      "667:\tlearn: 33.7564013\ttotal: 1.69s\tremaining: 842ms\n",
      "668:\tlearn: 33.6528749\ttotal: 1.7s\tremaining: 839ms\n",
      "669:\tlearn: 33.5681199\ttotal: 1.7s\tremaining: 837ms\n",
      "670:\tlearn: 33.4451433\ttotal: 1.7s\tremaining: 834ms\n",
      "671:\tlearn: 33.3468901\ttotal: 1.7s\tremaining: 832ms\n",
      "672:\tlearn: 33.2486282\ttotal: 1.71s\tremaining: 829ms\n",
      "673:\tlearn: 33.2302888\ttotal: 1.71s\tremaining: 826ms\n",
      "674:\tlearn: 33.0558859\ttotal: 1.71s\tremaining: 824ms\n",
      "675:\tlearn: 32.9700344\ttotal: 1.71s\tremaining: 822ms\n",
      "676:\tlearn: 32.8501642\ttotal: 1.72s\tremaining: 820ms\n",
      "677:\tlearn: 32.7340426\ttotal: 1.72s\tremaining: 817ms\n",
      "678:\tlearn: 32.7121017\ttotal: 1.72s\tremaining: 815ms\n",
      "679:\tlearn: 32.6200569\ttotal: 1.73s\tremaining: 812ms\n",
      "680:\tlearn: 32.5052371\ttotal: 1.73s\tremaining: 810ms\n",
      "681:\tlearn: 32.3916969\ttotal: 1.73s\tremaining: 807ms\n",
      "682:\tlearn: 32.2925704\ttotal: 1.73s\tremaining: 804ms\n",
      "683:\tlearn: 32.1901836\ttotal: 1.74s\tremaining: 802ms\n",
      "684:\tlearn: 32.1810795\ttotal: 1.74s\tremaining: 799ms\n",
      "685:\tlearn: 32.0538798\ttotal: 1.74s\tremaining: 796ms\n",
      "686:\tlearn: 31.9695880\ttotal: 1.74s\tremaining: 794ms\n",
      "687:\tlearn: 31.8186240\ttotal: 1.74s\tremaining: 791ms\n",
      "688:\tlearn: 31.7717776\ttotal: 1.75s\tremaining: 789ms\n",
      "689:\tlearn: 31.6271069\ttotal: 1.75s\tremaining: 786ms\n",
      "690:\tlearn: 31.4257754\ttotal: 1.75s\tremaining: 783ms\n",
      "691:\tlearn: 31.3158018\ttotal: 1.75s\tremaining: 781ms\n",
      "692:\tlearn: 31.2062456\ttotal: 1.76s\tremaining: 778ms\n",
      "693:\tlearn: 31.1002943\ttotal: 1.76s\tremaining: 775ms\n",
      "694:\tlearn: 31.0204694\ttotal: 1.76s\tremaining: 773ms\n",
      "695:\tlearn: 30.8638326\ttotal: 1.76s\tremaining: 770ms\n",
      "696:\tlearn: 30.8558418\ttotal: 1.76s\tremaining: 767ms\n",
      "697:\tlearn: 30.7168233\ttotal: 1.77s\tremaining: 765ms\n",
      "698:\tlearn: 30.6741149\ttotal: 1.77s\tremaining: 762ms\n",
      "699:\tlearn: 30.5633505\ttotal: 1.77s\tremaining: 759ms\n",
      "700:\tlearn: 30.3980151\ttotal: 1.77s\tremaining: 757ms\n",
      "701:\tlearn: 30.3868882\ttotal: 1.78s\tremaining: 754ms\n",
      "702:\tlearn: 30.3095110\ttotal: 1.78s\tremaining: 752ms\n",
      "703:\tlearn: 30.2001626\ttotal: 1.78s\tremaining: 749ms\n",
      "704:\tlearn: 30.1086639\ttotal: 1.78s\tremaining: 747ms\n",
      "705:\tlearn: 30.0062050\ttotal: 1.79s\tremaining: 744ms\n",
      "706:\tlearn: 29.9366332\ttotal: 1.79s\tremaining: 742ms\n",
      "707:\tlearn: 29.8514157\ttotal: 1.79s\tremaining: 739ms\n",
      "708:\tlearn: 29.8410197\ttotal: 1.79s\tremaining: 736ms\n",
      "709:\tlearn: 29.7691296\ttotal: 1.8s\tremaining: 734ms\n",
      "710:\tlearn: 29.6347315\ttotal: 1.8s\tremaining: 731ms\n",
      "711:\tlearn: 29.5690771\ttotal: 1.8s\tremaining: 728ms\n",
      "712:\tlearn: 29.4717613\ttotal: 1.8s\tremaining: 726ms\n",
      "713:\tlearn: 29.3453955\ttotal: 1.8s\tremaining: 723ms\n",
      "714:\tlearn: 29.3183996\ttotal: 1.81s\tremaining: 721ms\n",
      "715:\tlearn: 29.2357029\ttotal: 1.81s\tremaining: 718ms\n",
      "716:\tlearn: 29.1493484\ttotal: 1.81s\tremaining: 716ms\n",
      "717:\tlearn: 29.1412750\ttotal: 1.81s\tremaining: 713ms\n",
      "718:\tlearn: 29.0633640\ttotal: 1.82s\tremaining: 710ms\n",
      "719:\tlearn: 29.0063752\ttotal: 1.82s\tremaining: 707ms\n",
      "720:\tlearn: 28.8895697\ttotal: 1.82s\tremaining: 705ms\n",
      "721:\tlearn: 28.8127439\ttotal: 1.82s\tremaining: 702ms\n",
      "722:\tlearn: 28.7979935\ttotal: 1.83s\tremaining: 700ms\n",
      "723:\tlearn: 28.7730564\ttotal: 1.83s\tremaining: 697ms\n",
      "724:\tlearn: 28.6841951\ttotal: 1.83s\tremaining: 695ms\n",
      "725:\tlearn: 28.6192690\ttotal: 1.83s\tremaining: 692ms\n",
      "726:\tlearn: 28.5382100\ttotal: 1.83s\tremaining: 689ms\n",
      "727:\tlearn: 28.4124604\ttotal: 1.84s\tremaining: 687ms\n",
      "728:\tlearn: 28.3992354\ttotal: 1.84s\tremaining: 684ms\n",
      "729:\tlearn: 28.2458739\ttotal: 1.84s\tremaining: 682ms\n",
      "730:\tlearn: 28.1698858\ttotal: 1.84s\tremaining: 679ms\n",
      "731:\tlearn: 28.0857240\ttotal: 1.85s\tremaining: 677ms\n",
      "732:\tlearn: 28.0631865\ttotal: 1.85s\tremaining: 674ms\n",
      "733:\tlearn: 27.9617138\ttotal: 1.85s\tremaining: 672ms\n",
      "734:\tlearn: 27.9296040\ttotal: 1.86s\tremaining: 669ms\n",
      "735:\tlearn: 27.8714544\ttotal: 1.86s\tremaining: 667ms\n",
      "736:\tlearn: 27.8468105\ttotal: 1.86s\tremaining: 664ms\n",
      "737:\tlearn: 27.7605180\ttotal: 1.86s\tremaining: 661ms\n",
      "738:\tlearn: 27.6731250\ttotal: 1.86s\tremaining: 659ms\n",
      "739:\tlearn: 27.6662586\ttotal: 1.87s\tremaining: 656ms\n",
      "740:\tlearn: 27.6319100\ttotal: 1.87s\tremaining: 654ms\n",
      "741:\tlearn: 27.5465757\ttotal: 1.88s\tremaining: 653ms\n",
      "742:\tlearn: 27.4710735\ttotal: 1.88s\tremaining: 651ms\n",
      "743:\tlearn: 27.4510659\ttotal: 1.88s\tremaining: 648ms\n",
      "744:\tlearn: 27.3748617\ttotal: 1.89s\tremaining: 646ms\n",
      "745:\tlearn: 27.3633452\ttotal: 1.89s\tremaining: 643ms\n",
      "746:\tlearn: 27.2959571\ttotal: 1.89s\tremaining: 641ms\n",
      "747:\tlearn: 27.1315947\ttotal: 1.89s\tremaining: 638ms\n",
      "748:\tlearn: 27.0550248\ttotal: 1.9s\tremaining: 635ms\n",
      "749:\tlearn: 27.0373435\ttotal: 1.9s\tremaining: 633ms\n",
      "750:\tlearn: 26.9726665\ttotal: 1.9s\tremaining: 630ms\n",
      "751:\tlearn: 26.9145554\ttotal: 1.91s\tremaining: 628ms\n",
      "752:\tlearn: 26.8976495\ttotal: 1.91s\tremaining: 626ms\n",
      "753:\tlearn: 26.8013163\ttotal: 1.92s\tremaining: 625ms\n",
      "754:\tlearn: 26.7203712\ttotal: 1.92s\tremaining: 623ms\n",
      "755:\tlearn: 26.5829005\ttotal: 1.92s\tremaining: 621ms\n",
      "756:\tlearn: 26.4324310\ttotal: 1.93s\tremaining: 619ms\n",
      "757:\tlearn: 26.2890218\ttotal: 1.93s\tremaining: 616ms\n",
      "758:\tlearn: 26.1965245\ttotal: 1.93s\tremaining: 614ms\n",
      "759:\tlearn: 26.1810870\ttotal: 1.93s\tremaining: 611ms\n",
      "760:\tlearn: 26.1187072\ttotal: 1.94s\tremaining: 608ms\n",
      "761:\tlearn: 26.0637705\ttotal: 1.94s\tremaining: 606ms\n",
      "762:\tlearn: 25.9562461\ttotal: 1.94s\tremaining: 603ms\n",
      "763:\tlearn: 25.8386943\ttotal: 1.94s\tremaining: 600ms\n",
      "764:\tlearn: 25.7790725\ttotal: 1.95s\tremaining: 598ms\n",
      "765:\tlearn: 25.6701106\ttotal: 1.95s\tremaining: 595ms\n",
      "766:\tlearn: 25.6362119\ttotal: 1.95s\tremaining: 593ms\n",
      "767:\tlearn: 25.6252040\ttotal: 1.95s\tremaining: 590ms\n",
      "768:\tlearn: 25.5249470\ttotal: 1.95s\tremaining: 587ms\n",
      "769:\tlearn: 25.4610308\ttotal: 1.96s\tremaining: 585ms\n",
      "770:\tlearn: 25.3338917\ttotal: 1.96s\tremaining: 582ms\n",
      "771:\tlearn: 25.2081591\ttotal: 1.96s\tremaining: 579ms\n",
      "772:\tlearn: 25.1976317\ttotal: 1.96s\tremaining: 577ms\n",
      "773:\tlearn: 25.1309682\ttotal: 1.97s\tremaining: 574ms\n",
      "774:\tlearn: 25.0198547\ttotal: 1.97s\tremaining: 571ms\n",
      "775:\tlearn: 24.9490229\ttotal: 1.97s\tremaining: 569ms\n",
      "776:\tlearn: 24.9028200\ttotal: 1.97s\tremaining: 566ms\n",
      "777:\tlearn: 24.8337886\ttotal: 1.97s\tremaining: 563ms\n",
      "778:\tlearn: 24.7433955\ttotal: 1.98s\tremaining: 561ms\n",
      "779:\tlearn: 24.6167855\ttotal: 1.98s\tremaining: 558ms\n",
      "780:\tlearn: 24.5516424\ttotal: 1.98s\tremaining: 556ms\n",
      "781:\tlearn: 24.3925316\ttotal: 1.98s\tremaining: 553ms\n",
      "782:\tlearn: 24.3473598\ttotal: 1.99s\tremaining: 550ms\n",
      "783:\tlearn: 24.2382596\ttotal: 1.99s\tremaining: 548ms\n",
      "784:\tlearn: 24.1741117\ttotal: 1.99s\tremaining: 545ms\n",
      "785:\tlearn: 24.1282632\ttotal: 1.99s\tremaining: 543ms\n",
      "786:\tlearn: 24.1150038\ttotal: 1.99s\tremaining: 540ms\n",
      "787:\tlearn: 24.0552315\ttotal: 2s\tremaining: 537ms\n",
      "788:\tlearn: 24.0020307\ttotal: 2s\tremaining: 535ms\n",
      "789:\tlearn: 23.9582172\ttotal: 2s\tremaining: 532ms\n",
      "790:\tlearn: 23.9466945\ttotal: 2s\tremaining: 529ms\n",
      "791:\tlearn: 23.9012494\ttotal: 2s\tremaining: 527ms\n",
      "792:\tlearn: 23.8902062\ttotal: 2.01s\tremaining: 524ms\n",
      "793:\tlearn: 23.8375677\ttotal: 2.01s\tremaining: 522ms\n",
      "794:\tlearn: 23.8275049\ttotal: 2.01s\tremaining: 519ms\n",
      "795:\tlearn: 23.7639978\ttotal: 2.02s\tremaining: 517ms\n",
      "796:\tlearn: 23.7210385\ttotal: 2.02s\tremaining: 514ms\n",
      "797:\tlearn: 23.7118867\ttotal: 2.02s\tremaining: 511ms\n",
      "798:\tlearn: 23.6210770\ttotal: 2.02s\tremaining: 509ms\n",
      "799:\tlearn: 23.5667973\ttotal: 2.02s\tremaining: 506ms\n",
      "800:\tlearn: 23.5093551\ttotal: 2.03s\tremaining: 504ms\n",
      "801:\tlearn: 23.4248240\ttotal: 2.03s\tremaining: 501ms\n",
      "802:\tlearn: 23.3851975\ttotal: 2.03s\tremaining: 499ms\n",
      "803:\tlearn: 23.2576151\ttotal: 2.03s\tremaining: 496ms\n",
      "804:\tlearn: 23.1403284\ttotal: 2.04s\tremaining: 493ms\n",
      "805:\tlearn: 23.0861220\ttotal: 2.04s\tremaining: 491ms\n",
      "806:\tlearn: 23.0179965\ttotal: 2.04s\tremaining: 488ms\n",
      "807:\tlearn: 22.9499510\ttotal: 2.04s\tremaining: 486ms\n",
      "808:\tlearn: 22.9093322\ttotal: 2.04s\tremaining: 483ms\n",
      "809:\tlearn: 22.8749288\ttotal: 2.05s\tremaining: 481ms\n",
      "810:\tlearn: 22.8082947\ttotal: 2.05s\tremaining: 478ms\n",
      "811:\tlearn: 22.7734708\ttotal: 2.05s\tremaining: 475ms\n",
      "812:\tlearn: 22.6526692\ttotal: 2.06s\tremaining: 473ms\n",
      "813:\tlearn: 22.5530242\ttotal: 2.06s\tremaining: 471ms\n",
      "814:\tlearn: 22.4717488\ttotal: 2.06s\tremaining: 468ms\n",
      "815:\tlearn: 22.4620780\ttotal: 2.06s\tremaining: 466ms\n",
      "816:\tlearn: 22.4023061\ttotal: 2.07s\tremaining: 463ms\n",
      "817:\tlearn: 22.3578971\ttotal: 2.07s\tremaining: 460ms\n",
      "818:\tlearn: 22.3087689\ttotal: 2.07s\tremaining: 458ms\n",
      "819:\tlearn: 22.3046658\ttotal: 2.07s\tremaining: 455ms\n",
      "820:\tlearn: 22.2330663\ttotal: 2.08s\tremaining: 453ms\n",
      "821:\tlearn: 22.1591095\ttotal: 2.08s\tremaining: 450ms\n",
      "822:\tlearn: 22.1550239\ttotal: 2.08s\tremaining: 447ms\n",
      "823:\tlearn: 22.1463899\ttotal: 2.08s\tremaining: 445ms\n",
      "824:\tlearn: 22.1315815\ttotal: 2.08s\tremaining: 442ms\n",
      "825:\tlearn: 22.0652590\ttotal: 2.09s\tremaining: 440ms\n",
      "826:\tlearn: 22.0221121\ttotal: 2.09s\tremaining: 437ms\n",
      "827:\tlearn: 21.9774501\ttotal: 2.09s\tremaining: 434ms\n",
      "828:\tlearn: 21.9395292\ttotal: 2.09s\tremaining: 432ms\n",
      "829:\tlearn: 21.8508549\ttotal: 2.1s\tremaining: 429ms\n",
      "830:\tlearn: 21.8190935\ttotal: 2.1s\tremaining: 427ms\n",
      "831:\tlearn: 21.8109670\ttotal: 2.1s\tremaining: 424ms\n",
      "832:\tlearn: 21.7578310\ttotal: 2.1s\tremaining: 422ms\n",
      "833:\tlearn: 21.6862934\ttotal: 2.1s\tremaining: 419ms\n",
      "834:\tlearn: 21.6036840\ttotal: 2.11s\tremaining: 417ms\n",
      "835:\tlearn: 21.5099448\ttotal: 2.11s\tremaining: 414ms\n",
      "836:\tlearn: 21.4677400\ttotal: 2.11s\tremaining: 411ms\n",
      "837:\tlearn: 21.4091690\ttotal: 2.12s\tremaining: 409ms\n",
      "838:\tlearn: 21.3466938\ttotal: 2.12s\tremaining: 407ms\n",
      "839:\tlearn: 21.2298144\ttotal: 2.12s\tremaining: 404ms\n",
      "840:\tlearn: 21.1270373\ttotal: 2.12s\tremaining: 402ms\n",
      "841:\tlearn: 21.0373314\ttotal: 2.13s\tremaining: 399ms\n",
      "842:\tlearn: 20.9835159\ttotal: 2.13s\tremaining: 397ms\n",
      "843:\tlearn: 20.8484600\ttotal: 2.13s\tremaining: 394ms\n",
      "844:\tlearn: 20.7891557\ttotal: 2.13s\tremaining: 391ms\n",
      "845:\tlearn: 20.7291399\ttotal: 2.14s\tremaining: 389ms\n",
      "846:\tlearn: 20.6849494\ttotal: 2.14s\tremaining: 386ms\n",
      "847:\tlearn: 20.6154963\ttotal: 2.14s\tremaining: 384ms\n",
      "848:\tlearn: 20.5405276\ttotal: 2.14s\tremaining: 381ms\n",
      "849:\tlearn: 20.5016669\ttotal: 2.15s\tremaining: 379ms\n",
      "850:\tlearn: 20.4700003\ttotal: 2.15s\tremaining: 376ms\n",
      "851:\tlearn: 20.4163286\ttotal: 2.15s\tremaining: 374ms\n",
      "852:\tlearn: 20.3832418\ttotal: 2.15s\tremaining: 371ms\n",
      "853:\tlearn: 20.3012184\ttotal: 2.16s\tremaining: 369ms\n",
      "854:\tlearn: 20.2920333\ttotal: 2.16s\tremaining: 366ms\n",
      "855:\tlearn: 20.2053869\ttotal: 2.16s\tremaining: 364ms\n",
      "856:\tlearn: 20.1658977\ttotal: 2.16s\tremaining: 361ms\n",
      "857:\tlearn: 20.1100216\ttotal: 2.17s\tremaining: 359ms\n",
      "858:\tlearn: 20.0083729\ttotal: 2.17s\tremaining: 356ms\n",
      "859:\tlearn: 19.9455311\ttotal: 2.17s\tremaining: 353ms\n",
      "860:\tlearn: 19.8796059\ttotal: 2.17s\tremaining: 351ms\n",
      "861:\tlearn: 19.8565398\ttotal: 2.17s\tremaining: 348ms\n",
      "862:\tlearn: 19.7320152\ttotal: 2.18s\tremaining: 346ms\n",
      "863:\tlearn: 19.6553629\ttotal: 2.18s\tremaining: 343ms\n",
      "864:\tlearn: 19.5653904\ttotal: 2.18s\tremaining: 341ms\n",
      "865:\tlearn: 19.5044019\ttotal: 2.18s\tremaining: 338ms\n",
      "866:\tlearn: 19.4952821\ttotal: 2.19s\tremaining: 335ms\n",
      "867:\tlearn: 19.4417196\ttotal: 2.19s\tremaining: 333ms\n",
      "868:\tlearn: 19.3928280\ttotal: 2.19s\tremaining: 330ms\n",
      "869:\tlearn: 19.3310543\ttotal: 2.19s\tremaining: 328ms\n",
      "870:\tlearn: 19.2860856\ttotal: 2.2s\tremaining: 325ms\n",
      "871:\tlearn: 19.1689820\ttotal: 2.2s\tremaining: 323ms\n",
      "872:\tlearn: 19.0656586\ttotal: 2.2s\tremaining: 320ms\n",
      "873:\tlearn: 19.0585347\ttotal: 2.2s\tremaining: 318ms\n",
      "874:\tlearn: 19.0124418\ttotal: 2.2s\tremaining: 315ms\n",
      "875:\tlearn: 18.9798186\ttotal: 2.21s\tremaining: 313ms\n",
      "876:\tlearn: 18.8896499\ttotal: 2.21s\tremaining: 310ms\n",
      "877:\tlearn: 18.8379639\ttotal: 2.21s\tremaining: 307ms\n",
      "878:\tlearn: 18.8312106\ttotal: 2.21s\tremaining: 305ms\n",
      "879:\tlearn: 18.7718969\ttotal: 2.22s\tremaining: 302ms\n",
      "880:\tlearn: 18.7453473\ttotal: 2.22s\tremaining: 300ms\n",
      "881:\tlearn: 18.6851317\ttotal: 2.22s\tremaining: 297ms\n",
      "882:\tlearn: 18.5988650\ttotal: 2.22s\tremaining: 295ms\n",
      "883:\tlearn: 18.5525116\ttotal: 2.23s\tremaining: 292ms\n",
      "884:\tlearn: 18.4964362\ttotal: 2.23s\tremaining: 290ms\n",
      "885:\tlearn: 18.4542378\ttotal: 2.24s\tremaining: 288ms\n",
      "886:\tlearn: 18.4053368\ttotal: 2.24s\tremaining: 286ms\n",
      "887:\tlearn: 18.3676513\ttotal: 2.24s\tremaining: 283ms\n",
      "888:\tlearn: 18.3048839\ttotal: 2.25s\tremaining: 281ms\n",
      "889:\tlearn: 18.2501678\ttotal: 2.25s\tremaining: 278ms\n",
      "890:\tlearn: 18.2421410\ttotal: 2.25s\tremaining: 276ms\n",
      "891:\tlearn: 18.1820355\ttotal: 2.26s\tremaining: 273ms\n",
      "892:\tlearn: 18.1045997\ttotal: 2.26s\tremaining: 271ms\n",
      "893:\tlearn: 18.0516539\ttotal: 2.26s\tremaining: 268ms\n",
      "894:\tlearn: 17.9507407\ttotal: 2.27s\tremaining: 266ms\n",
      "895:\tlearn: 17.8656394\ttotal: 2.27s\tremaining: 263ms\n",
      "896:\tlearn: 17.8130004\ttotal: 2.27s\tremaining: 261ms\n",
      "897:\tlearn: 17.8056685\ttotal: 2.27s\tremaining: 258ms\n",
      "898:\tlearn: 17.7479301\ttotal: 2.27s\tremaining: 256ms\n",
      "899:\tlearn: 17.6628775\ttotal: 2.28s\tremaining: 253ms\n",
      "900:\tlearn: 17.6036263\ttotal: 2.28s\tremaining: 250ms\n",
      "901:\tlearn: 17.5548725\ttotal: 2.28s\tremaining: 248ms\n",
      "902:\tlearn: 17.5112982\ttotal: 2.28s\tremaining: 245ms\n",
      "903:\tlearn: 17.4337097\ttotal: 2.29s\tremaining: 243ms\n",
      "904:\tlearn: 17.3438812\ttotal: 2.29s\tremaining: 240ms\n",
      "905:\tlearn: 17.2978952\ttotal: 2.29s\tremaining: 238ms\n",
      "906:\tlearn: 17.2705120\ttotal: 2.29s\tremaining: 235ms\n",
      "907:\tlearn: 17.2197843\ttotal: 2.29s\tremaining: 233ms\n",
      "908:\tlearn: 17.1672918\ttotal: 2.3s\tremaining: 230ms\n",
      "909:\tlearn: 17.0962813\ttotal: 2.3s\tremaining: 228ms\n",
      "910:\tlearn: 17.0367884\ttotal: 2.3s\tremaining: 225ms\n",
      "911:\tlearn: 16.9995434\ttotal: 2.31s\tremaining: 222ms\n",
      "912:\tlearn: 16.9503108\ttotal: 2.31s\tremaining: 220ms\n",
      "913:\tlearn: 16.8634821\ttotal: 2.31s\tremaining: 217ms\n",
      "914:\tlearn: 16.8562342\ttotal: 2.31s\tremaining: 215ms\n",
      "915:\tlearn: 16.8266675\ttotal: 2.31s\tremaining: 212ms\n",
      "916:\tlearn: 16.8202756\ttotal: 2.32s\tremaining: 210ms\n",
      "917:\tlearn: 16.8140117\ttotal: 2.32s\tremaining: 207ms\n",
      "918:\tlearn: 16.7657793\ttotal: 2.32s\tremaining: 205ms\n",
      "919:\tlearn: 16.7455489\ttotal: 2.32s\tremaining: 202ms\n",
      "920:\tlearn: 16.7350234\ttotal: 2.33s\tremaining: 200ms\n",
      "921:\tlearn: 16.6764784\ttotal: 2.33s\tremaining: 197ms\n",
      "922:\tlearn: 16.6413683\ttotal: 2.33s\tremaining: 195ms\n",
      "923:\tlearn: 16.6313216\ttotal: 2.33s\tremaining: 192ms\n",
      "924:\tlearn: 16.5737890\ttotal: 2.34s\tremaining: 189ms\n",
      "925:\tlearn: 16.5612564\ttotal: 2.34s\tremaining: 187ms\n",
      "926:\tlearn: 16.5194103\ttotal: 2.34s\tremaining: 184ms\n",
      "927:\tlearn: 16.4774875\ttotal: 2.34s\tremaining: 182ms\n",
      "928:\tlearn: 16.4716862\ttotal: 2.35s\tremaining: 179ms\n",
      "929:\tlearn: 16.4373752\ttotal: 2.35s\tremaining: 177ms\n",
      "930:\tlearn: 16.4285377\ttotal: 2.35s\tremaining: 174ms\n",
      "931:\tlearn: 16.3673869\ttotal: 2.35s\tremaining: 172ms\n",
      "932:\tlearn: 16.3185470\ttotal: 2.36s\tremaining: 169ms\n",
      "933:\tlearn: 16.2631467\ttotal: 2.36s\tremaining: 167ms\n",
      "934:\tlearn: 16.1934975\ttotal: 2.36s\tremaining: 164ms\n",
      "935:\tlearn: 16.1884481\ttotal: 2.36s\tremaining: 162ms\n",
      "936:\tlearn: 16.1500024\ttotal: 2.37s\tremaining: 159ms\n",
      "937:\tlearn: 16.1409804\ttotal: 2.37s\tremaining: 157ms\n",
      "938:\tlearn: 16.0683587\ttotal: 2.37s\tremaining: 154ms\n",
      "939:\tlearn: 15.9809030\ttotal: 2.37s\tremaining: 151ms\n",
      "940:\tlearn: 15.8978202\ttotal: 2.37s\tremaining: 149ms\n",
      "941:\tlearn: 15.8709900\ttotal: 2.38s\tremaining: 146ms\n",
      "942:\tlearn: 15.8344018\ttotal: 2.38s\tremaining: 144ms\n",
      "943:\tlearn: 15.8295482\ttotal: 2.38s\tremaining: 141ms\n",
      "944:\tlearn: 15.7744973\ttotal: 2.38s\tremaining: 139ms\n",
      "945:\tlearn: 15.7305450\ttotal: 2.38s\tremaining: 136ms\n",
      "946:\tlearn: 15.6857434\ttotal: 2.39s\tremaining: 134ms\n",
      "947:\tlearn: 15.6591016\ttotal: 2.39s\tremaining: 131ms\n",
      "948:\tlearn: 15.6314256\ttotal: 2.39s\tremaining: 129ms\n",
      "949:\tlearn: 15.5788777\ttotal: 2.39s\tremaining: 126ms\n",
      "950:\tlearn: 15.5325554\ttotal: 2.4s\tremaining: 123ms\n",
      "951:\tlearn: 15.4890930\ttotal: 2.4s\tremaining: 121ms\n",
      "952:\tlearn: 15.4263779\ttotal: 2.4s\tremaining: 118ms\n",
      "953:\tlearn: 15.3892307\ttotal: 2.4s\tremaining: 116ms\n",
      "954:\tlearn: 15.3531641\ttotal: 2.41s\tremaining: 113ms\n",
      "955:\tlearn: 15.3172544\ttotal: 2.41s\tremaining: 111ms\n",
      "956:\tlearn: 15.2722481\ttotal: 2.41s\tremaining: 108ms\n",
      "957:\tlearn: 15.2509946\ttotal: 2.42s\tremaining: 106ms\n",
      "958:\tlearn: 15.2106080\ttotal: 2.42s\tremaining: 103ms\n",
      "959:\tlearn: 15.1550705\ttotal: 2.42s\tremaining: 101ms\n",
      "960:\tlearn: 15.1198927\ttotal: 2.42s\tremaining: 98.3ms\n",
      "961:\tlearn: 15.0521121\ttotal: 2.42s\tremaining: 95.8ms\n",
      "962:\tlearn: 15.0138282\ttotal: 2.43s\tremaining: 93.3ms\n",
      "963:\tlearn: 14.9511473\ttotal: 2.43s\tremaining: 90.7ms\n",
      "964:\tlearn: 14.9013556\ttotal: 2.43s\tremaining: 88.2ms\n",
      "965:\tlearn: 14.8491591\ttotal: 2.43s\tremaining: 85.7ms\n",
      "966:\tlearn: 14.7846364\ttotal: 2.44s\tremaining: 83.1ms\n",
      "967:\tlearn: 14.7378076\ttotal: 2.44s\tremaining: 80.6ms\n",
      "968:\tlearn: 14.6963646\ttotal: 2.44s\tremaining: 78.1ms\n",
      "969:\tlearn: 14.6368320\ttotal: 2.44s\tremaining: 75.5ms\n",
      "970:\tlearn: 14.5641432\ttotal: 2.44s\tremaining: 73ms\n",
      "971:\tlearn: 14.5009366\ttotal: 2.45s\tremaining: 70.5ms\n",
      "972:\tlearn: 14.4934257\ttotal: 2.45s\tremaining: 68ms\n",
      "973:\tlearn: 14.4521224\ttotal: 2.45s\tremaining: 65.4ms\n",
      "974:\tlearn: 14.4111253\ttotal: 2.45s\tremaining: 62.9ms\n",
      "975:\tlearn: 14.3698632\ttotal: 2.46s\tremaining: 60.4ms\n",
      "976:\tlearn: 14.3591191\ttotal: 2.46s\tremaining: 57.9ms\n",
      "977:\tlearn: 14.3269189\ttotal: 2.46s\tremaining: 55.3ms\n",
      "978:\tlearn: 14.2789397\ttotal: 2.46s\tremaining: 52.8ms\n",
      "979:\tlearn: 14.2216384\ttotal: 2.46s\tremaining: 50.3ms\n",
      "980:\tlearn: 14.1751644\ttotal: 2.47s\tremaining: 47.8ms\n",
      "981:\tlearn: 14.1256092\ttotal: 2.47s\tremaining: 45.3ms\n",
      "982:\tlearn: 14.0731502\ttotal: 2.47s\tremaining: 42.7ms\n",
      "983:\tlearn: 14.0117995\ttotal: 2.47s\tremaining: 40.2ms\n",
      "984:\tlearn: 13.9841830\ttotal: 2.48s\tremaining: 37.7ms\n",
      "985:\tlearn: 13.9230955\ttotal: 2.48s\tremaining: 35.2ms\n",
      "986:\tlearn: 13.8746811\ttotal: 2.48s\tremaining: 32.7ms\n",
      "987:\tlearn: 13.8092980\ttotal: 2.48s\tremaining: 30.1ms\n",
      "988:\tlearn: 13.7921958\ttotal: 2.48s\tremaining: 27.6ms\n",
      "989:\tlearn: 13.7424480\ttotal: 2.49s\tremaining: 25.1ms\n",
      "990:\tlearn: 13.6967360\ttotal: 2.49s\tremaining: 22.6ms\n",
      "991:\tlearn: 13.6709582\ttotal: 2.49s\tremaining: 20.1ms\n",
      "992:\tlearn: 13.6094706\ttotal: 2.49s\tremaining: 17.6ms\n",
      "993:\tlearn: 13.5641205\ttotal: 2.5s\tremaining: 15.1ms\n",
      "994:\tlearn: 13.5192775\ttotal: 2.5s\tremaining: 12.5ms\n",
      "995:\tlearn: 13.4902451\ttotal: 2.5s\tremaining: 10ms\n",
      "996:\tlearn: 13.4806052\ttotal: 2.5s\tremaining: 7.53ms\n",
      "997:\tlearn: 13.4282445\ttotal: 2.5s\tremaining: 5.02ms\n",
      "998:\tlearn: 13.4020177\ttotal: 2.51s\tremaining: 2.51ms\n",
      "999:\tlearn: 13.3781902\ttotal: 2.51s\tremaining: 0us\n"
     ]
    }
   ],
   "source": [
    "catb_model = CatBoostRegressor().fit(X_train,y_train)"
   ]
  },
  {
   "cell_type": "code",
   "execution_count": 8,
   "metadata": {},
   "outputs": [],
   "source": [
    "y_pred = catb_model.predict(X_test)"
   ]
  },
  {
   "cell_type": "code",
   "execution_count": 9,
   "metadata": {},
   "outputs": [
    {
     "data": {
      "text/plain": [
       "350.2683163098795"
      ]
     },
     "execution_count": 9,
     "metadata": {},
     "output_type": "execute_result"
    }
   ],
   "source": [
    "np.sqrt(mean_squared_error(y_test,y_pred))"
   ]
  },
  {
   "cell_type": "markdown",
   "metadata": {},
   "source": [
    "#### Model Tuning"
   ]
  },
  {
   "cell_type": "code",
   "execution_count": 10,
   "metadata": {},
   "outputs": [],
   "source": [
    "catb_params= {\"iterations\":[200,500,100],\n",
    "              \"learning_rate\":[0.01,0.1],\n",
    "              \"depth\":[3,6,8]}"
   ]
  },
  {
   "cell_type": "code",
   "execution_count": 11,
   "metadata": {},
   "outputs": [],
   "source": [
    "catb_model = CatBoostRegressor()"
   ]
  },
  {
   "cell_type": "code",
   "execution_count": 12,
   "metadata": {},
   "outputs": [
    {
     "name": "stdout",
     "output_type": "stream",
     "text": [
      "Fitting 5 folds for each of 18 candidates, totalling 90 fits\n"
     ]
    },
    {
     "name": "stderr",
     "output_type": "stream",
     "text": [
      "[Parallel(n_jobs=-1)]: Done  33 tasks      | elapsed:   14.4s\n",
      "[Parallel(n_jobs=-1)]: Done  90 out of  90 | elapsed:  1.4min finished\n"
     ]
    },
    {
     "name": "stdout",
     "output_type": "stream",
     "text": [
      "0:\tlearn: 425.7900818\ttotal: 1.25ms\tremaining: 249ms\n",
      "1:\tlearn: 404.8723520\ttotal: 2.44ms\tremaining: 241ms\n",
      "2:\tlearn: 387.4057666\ttotal: 3.35ms\tremaining: 220ms\n",
      "3:\tlearn: 372.2801584\ttotal: 4.31ms\tremaining: 211ms\n",
      "4:\tlearn: 358.9204229\ttotal: 5.3ms\tremaining: 207ms\n",
      "5:\tlearn: 347.0083933\ttotal: 6.25ms\tremaining: 202ms\n",
      "6:\tlearn: 336.0130818\ttotal: 7.19ms\tremaining: 198ms\n",
      "7:\tlearn: 324.3923300\ttotal: 8.12ms\tremaining: 195ms\n",
      "8:\tlearn: 314.8690957\ttotal: 9.1ms\tremaining: 193ms\n",
      "9:\tlearn: 308.5075563\ttotal: 10ms\tremaining: 191ms\n",
      "10:\tlearn: 298.8587285\ttotal: 11ms\tremaining: 190ms\n",
      "11:\tlearn: 294.7655438\ttotal: 12ms\tremaining: 189ms\n",
      "12:\tlearn: 288.0697862\ttotal: 13ms\tremaining: 187ms\n",
      "13:\tlearn: 282.6697154\ttotal: 13.9ms\tremaining: 184ms\n",
      "14:\tlearn: 277.6121667\ttotal: 14.8ms\tremaining: 182ms\n",
      "15:\tlearn: 273.4383979\ttotal: 15.6ms\tremaining: 180ms\n",
      "16:\tlearn: 269.1556201\ttotal: 16.8ms\tremaining: 180ms\n",
      "17:\tlearn: 264.8098704\ttotal: 17.8ms\tremaining: 180ms\n",
      "18:\tlearn: 261.6700768\ttotal: 18.7ms\tremaining: 178ms\n",
      "19:\tlearn: 257.3961290\ttotal: 19.7ms\tremaining: 177ms\n",
      "20:\tlearn: 252.2691509\ttotal: 20.7ms\tremaining: 176ms\n",
      "21:\tlearn: 249.0686482\ttotal: 21.7ms\tremaining: 176ms\n",
      "22:\tlearn: 244.1881041\ttotal: 23ms\tremaining: 177ms\n",
      "23:\tlearn: 242.1696687\ttotal: 24.1ms\tremaining: 177ms\n",
      "24:\tlearn: 239.2131476\ttotal: 25.2ms\tremaining: 176ms\n",
      "25:\tlearn: 236.6883901\ttotal: 26.1ms\tremaining: 175ms\n",
      "26:\tlearn: 234.5295613\ttotal: 27.8ms\tremaining: 178ms\n",
      "27:\tlearn: 231.7788834\ttotal: 29ms\tremaining: 178ms\n",
      "28:\tlearn: 228.8020330\ttotal: 30.4ms\tremaining: 179ms\n",
      "29:\tlearn: 226.8420565\ttotal: 31.7ms\tremaining: 180ms\n",
      "30:\tlearn: 224.0686558\ttotal: 32.8ms\tremaining: 179ms\n",
      "31:\tlearn: 222.6644699\ttotal: 33.9ms\tremaining: 178ms\n",
      "32:\tlearn: 221.6889573\ttotal: 34.9ms\tremaining: 177ms\n",
      "33:\tlearn: 220.5171653\ttotal: 36ms\tremaining: 176ms\n",
      "34:\tlearn: 217.7686033\ttotal: 37.1ms\tremaining: 175ms\n",
      "35:\tlearn: 214.8462789\ttotal: 38.1ms\tremaining: 174ms\n",
      "36:\tlearn: 214.4799251\ttotal: 39.1ms\tremaining: 172ms\n",
      "37:\tlearn: 212.3480429\ttotal: 40.2ms\tremaining: 171ms\n",
      "38:\tlearn: 210.0040644\ttotal: 41.2ms\tremaining: 170ms\n",
      "39:\tlearn: 208.3086913\ttotal: 42.4ms\tremaining: 169ms\n",
      "40:\tlearn: 207.5469119\ttotal: 43.5ms\tremaining: 169ms\n",
      "41:\tlearn: 205.9351113\ttotal: 44.8ms\tremaining: 169ms\n",
      "42:\tlearn: 205.3580824\ttotal: 45.9ms\tremaining: 168ms\n",
      "43:\tlearn: 204.6204266\ttotal: 47.1ms\tremaining: 167ms\n",
      "44:\tlearn: 202.5023220\ttotal: 48.2ms\tremaining: 166ms\n",
      "45:\tlearn: 201.4347853\ttotal: 49.4ms\tremaining: 165ms\n",
      "46:\tlearn: 200.8752553\ttotal: 50.5ms\tremaining: 164ms\n",
      "47:\tlearn: 200.4047344\ttotal: 51.6ms\tremaining: 163ms\n",
      "48:\tlearn: 197.5433004\ttotal: 52.6ms\tremaining: 162ms\n",
      "49:\tlearn: 194.6943292\ttotal: 53.9ms\tremaining: 162ms\n",
      "50:\tlearn: 194.3011982\ttotal: 54.9ms\tremaining: 160ms\n",
      "51:\tlearn: 193.4011843\ttotal: 55.9ms\tremaining: 159ms\n",
      "52:\tlearn: 193.0109753\ttotal: 56.8ms\tremaining: 158ms\n",
      "53:\tlearn: 192.6071142\ttotal: 57.8ms\tremaining: 156ms\n",
      "54:\tlearn: 191.9666153\ttotal: 58.5ms\tremaining: 154ms\n",
      "55:\tlearn: 191.5789727\ttotal: 59.4ms\tremaining: 153ms\n",
      "56:\tlearn: 190.7186284\ttotal: 60.3ms\tremaining: 151ms\n",
      "57:\tlearn: 190.4543087\ttotal: 61.4ms\tremaining: 150ms\n",
      "58:\tlearn: 190.1336317\ttotal: 62.4ms\tremaining: 149ms\n",
      "59:\tlearn: 188.2286484\ttotal: 63.3ms\tremaining: 148ms\n",
      "60:\tlearn: 187.7652417\ttotal: 64.4ms\tremaining: 147ms\n",
      "61:\tlearn: 187.4227950\ttotal: 65.3ms\tremaining: 145ms\n",
      "62:\tlearn: 186.9289182\ttotal: 66.2ms\tremaining: 144ms\n",
      "63:\tlearn: 185.2993487\ttotal: 67.3ms\tremaining: 143ms\n",
      "64:\tlearn: 185.0349598\ttotal: 68.3ms\tremaining: 142ms\n",
      "65:\tlearn: 183.9773430\ttotal: 69.3ms\tremaining: 141ms\n",
      "66:\tlearn: 183.4463166\ttotal: 70.2ms\tremaining: 139ms\n",
      "67:\tlearn: 181.6627740\ttotal: 71.2ms\tremaining: 138ms\n",
      "68:\tlearn: 179.8785055\ttotal: 72.2ms\tremaining: 137ms\n",
      "69:\tlearn: 179.6737527\ttotal: 73.1ms\tremaining: 136ms\n",
      "70:\tlearn: 177.0830981\ttotal: 74ms\tremaining: 134ms\n",
      "71:\tlearn: 176.5917790\ttotal: 74.9ms\tremaining: 133ms\n",
      "72:\tlearn: 176.1240502\ttotal: 75.8ms\tremaining: 132ms\n",
      "73:\tlearn: 174.4828953\ttotal: 76.6ms\tremaining: 130ms\n",
      "74:\tlearn: 173.4220482\ttotal: 77.5ms\tremaining: 129ms\n",
      "75:\tlearn: 171.9903405\ttotal: 78.4ms\tremaining: 128ms\n",
      "76:\tlearn: 171.5803116\ttotal: 79.2ms\tremaining: 127ms\n",
      "77:\tlearn: 170.1411594\ttotal: 80.2ms\tremaining: 125ms\n",
      "78:\tlearn: 167.9868133\ttotal: 81.4ms\tremaining: 125ms\n",
      "79:\tlearn: 166.5304475\ttotal: 82.4ms\tremaining: 124ms\n",
      "80:\tlearn: 166.1741622\ttotal: 83.4ms\tremaining: 122ms\n",
      "81:\tlearn: 165.8411762\ttotal: 84.3ms\tremaining: 121ms\n",
      "82:\tlearn: 165.1041583\ttotal: 85.2ms\tremaining: 120ms\n",
      "83:\tlearn: 163.5641543\ttotal: 86.1ms\tremaining: 119ms\n",
      "84:\tlearn: 163.2003311\ttotal: 87ms\tremaining: 118ms\n",
      "85:\tlearn: 161.1781702\ttotal: 87.9ms\tremaining: 117ms\n",
      "86:\tlearn: 160.8727658\ttotal: 88.9ms\tremaining: 115ms\n",
      "87:\tlearn: 159.7954077\ttotal: 89.8ms\tremaining: 114ms\n",
      "88:\tlearn: 158.8759132\ttotal: 90.7ms\tremaining: 113ms\n",
      "89:\tlearn: 158.4831323\ttotal: 91.6ms\tremaining: 112ms\n",
      "90:\tlearn: 157.4808127\ttotal: 92.5ms\tremaining: 111ms\n",
      "91:\tlearn: 157.1703230\ttotal: 93.4ms\tremaining: 110ms\n",
      "92:\tlearn: 155.3184755\ttotal: 94.3ms\tremaining: 108ms\n",
      "93:\tlearn: 154.3988879\ttotal: 95.3ms\tremaining: 108ms\n",
      "94:\tlearn: 153.4591935\ttotal: 96.2ms\tremaining: 106ms\n",
      "95:\tlearn: 153.1206893\ttotal: 97.1ms\tremaining: 105ms\n",
      "96:\tlearn: 152.7897351\ttotal: 98ms\tremaining: 104ms\n",
      "97:\tlearn: 150.9293164\ttotal: 98.9ms\tremaining: 103ms\n",
      "98:\tlearn: 149.7127171\ttotal: 99.8ms\tremaining: 102ms\n",
      "99:\tlearn: 149.5089324\ttotal: 101ms\tremaining: 101ms\n",
      "100:\tlearn: 149.3156312\ttotal: 102ms\tremaining: 99.6ms\n",
      "101:\tlearn: 147.7226718\ttotal: 103ms\tremaining: 98.5ms\n",
      "102:\tlearn: 146.7692282\ttotal: 103ms\tremaining: 97.4ms\n",
      "103:\tlearn: 145.9084983\ttotal: 104ms\tremaining: 96.3ms\n",
      "104:\tlearn: 144.8780979\ttotal: 105ms\tremaining: 95.3ms\n",
      "105:\tlearn: 143.8090268\ttotal: 106ms\tremaining: 94.1ms\n",
      "106:\tlearn: 143.1272551\ttotal: 107ms\tremaining: 93ms\n",
      "107:\tlearn: 142.4863018\ttotal: 108ms\tremaining: 91.9ms\n",
      "108:\tlearn: 141.4861279\ttotal: 109ms\tremaining: 91.2ms\n",
      "109:\tlearn: 140.8689530\ttotal: 111ms\tremaining: 90.5ms\n",
      "110:\tlearn: 140.4009570\ttotal: 112ms\tremaining: 89.6ms\n",
      "111:\tlearn: 140.0344439\ttotal: 113ms\tremaining: 88.7ms\n",
      "112:\tlearn: 139.4290096\ttotal: 114ms\tremaining: 87.6ms\n",
      "113:\tlearn: 139.2008874\ttotal: 115ms\tremaining: 86.5ms\n",
      "114:\tlearn: 138.6000188\ttotal: 116ms\tremaining: 85.6ms\n",
      "115:\tlearn: 138.3962706\ttotal: 117ms\tremaining: 84.6ms\n",
      "116:\tlearn: 138.1737256\ttotal: 118ms\tremaining: 83.4ms\n",
      "117:\tlearn: 137.6342361\ttotal: 119ms\tremaining: 82.4ms\n",
      "118:\tlearn: 136.7119826\ttotal: 119ms\tremaining: 81.3ms\n",
      "119:\tlearn: 135.3057402\ttotal: 120ms\tremaining: 80.2ms\n",
      "120:\tlearn: 134.4797815\ttotal: 121ms\tremaining: 79.2ms\n",
      "121:\tlearn: 133.0774331\ttotal: 122ms\tremaining: 78.1ms\n",
      "122:\tlearn: 131.8739238\ttotal: 123ms\tremaining: 77.2ms\n",
      "123:\tlearn: 131.3203837\ttotal: 124ms\tremaining: 76.1ms\n",
      "124:\tlearn: 130.8294604\ttotal: 125ms\tremaining: 75.1ms\n",
      "125:\tlearn: 130.6107905\ttotal: 126ms\tremaining: 74ms\n",
      "126:\tlearn: 130.1614924\ttotal: 127ms\tremaining: 73ms\n",
      "127:\tlearn: 129.3166972\ttotal: 128ms\tremaining: 71.9ms\n",
      "128:\tlearn: 129.1038672\ttotal: 129ms\tremaining: 70.9ms\n",
      "129:\tlearn: 128.9594874\ttotal: 130ms\tremaining: 69.8ms\n",
      "130:\tlearn: 128.1849638\ttotal: 131ms\tremaining: 68.8ms\n",
      "131:\tlearn: 128.0307033\ttotal: 132ms\tremaining: 67.8ms\n",
      "132:\tlearn: 127.3373882\ttotal: 132ms\tremaining: 66.7ms\n",
      "133:\tlearn: 126.2856989\ttotal: 133ms\tremaining: 65.7ms\n",
      "134:\tlearn: 126.1379832\ttotal: 134ms\tremaining: 64.6ms\n",
      "135:\tlearn: 126.0180019\ttotal: 135ms\tremaining: 63.6ms\n",
      "136:\tlearn: 125.8843963\ttotal: 136ms\tremaining: 62.6ms\n",
      "137:\tlearn: 125.7576333\ttotal: 137ms\tremaining: 61.7ms\n",
      "138:\tlearn: 125.4794581\ttotal: 138ms\tremaining: 60.7ms\n",
      "139:\tlearn: 124.7920270\ttotal: 139ms\tremaining: 59.7ms\n",
      "140:\tlearn: 124.6530278\ttotal: 140ms\tremaining: 58.6ms\n",
      "141:\tlearn: 123.4539010\ttotal: 141ms\tremaining: 57.6ms\n",
      "142:\tlearn: 122.8980001\ttotal: 142ms\tremaining: 56.6ms\n",
      "143:\tlearn: 122.0911177\ttotal: 143ms\tremaining: 55.6ms\n",
      "144:\tlearn: 121.1209154\ttotal: 144ms\tremaining: 54.5ms\n",
      "145:\tlearn: 120.1613553\ttotal: 145ms\tremaining: 53.5ms\n",
      "146:\tlearn: 119.1894727\ttotal: 146ms\tremaining: 52.5ms\n",
      "147:\tlearn: 118.0325732\ttotal: 146ms\tremaining: 51.5ms\n",
      "148:\tlearn: 117.9138240\ttotal: 147ms\tremaining: 50.4ms\n",
      "149:\tlearn: 117.3831462\ttotal: 148ms\tremaining: 49.4ms\n",
      "150:\tlearn: 116.8475244\ttotal: 149ms\tremaining: 48.4ms\n",
      "151:\tlearn: 116.3821954\ttotal: 150ms\tremaining: 47.4ms\n",
      "152:\tlearn: 115.5293176\ttotal: 151ms\tremaining: 46.4ms\n",
      "153:\tlearn: 115.0975175\ttotal: 152ms\tremaining: 45.4ms\n",
      "154:\tlearn: 114.0649594\ttotal: 153ms\tremaining: 44.3ms\n",
      "155:\tlearn: 113.2562326\ttotal: 154ms\tremaining: 43.4ms\n",
      "156:\tlearn: 112.7557871\ttotal: 155ms\tremaining: 42.3ms\n",
      "157:\tlearn: 112.5657565\ttotal: 155ms\tremaining: 41.3ms\n",
      "158:\tlearn: 112.3541525\ttotal: 156ms\tremaining: 40.3ms\n",
      "159:\tlearn: 111.8527982\ttotal: 157ms\tremaining: 39.3ms\n",
      "160:\tlearn: 111.1619644\ttotal: 159ms\tremaining: 38.6ms\n",
      "161:\tlearn: 110.3588257\ttotal: 161ms\tremaining: 37.7ms\n",
      "162:\tlearn: 109.6664293\ttotal: 162ms\tremaining: 36.7ms\n",
      "163:\tlearn: 109.5577303\ttotal: 163ms\tremaining: 35.7ms\n",
      "164:\tlearn: 109.0570285\ttotal: 164ms\tremaining: 34.8ms\n",
      "165:\tlearn: 108.7601467\ttotal: 165ms\tremaining: 33.8ms\n",
      "166:\tlearn: 108.0448620\ttotal: 166ms\tremaining: 32.8ms\n",
      "167:\tlearn: 107.5593372\ttotal: 167ms\tremaining: 31.8ms\n",
      "168:\tlearn: 106.3862999\ttotal: 168ms\tremaining: 30.8ms\n",
      "169:\tlearn: 106.2180807\ttotal: 169ms\tremaining: 29.8ms\n",
      "170:\tlearn: 106.0695603\ttotal: 170ms\tremaining: 28.8ms\n",
      "171:\tlearn: 105.6940213\ttotal: 171ms\tremaining: 27.8ms\n",
      "172:\tlearn: 104.7598987\ttotal: 172ms\tremaining: 26.8ms\n",
      "173:\tlearn: 104.6589992\ttotal: 173ms\tremaining: 25.8ms\n",
      "174:\tlearn: 103.7203657\ttotal: 174ms\tremaining: 24.8ms\n",
      "175:\tlearn: 103.2660987\ttotal: 174ms\tremaining: 23.8ms\n",
      "176:\tlearn: 103.0926213\ttotal: 175ms\tremaining: 22.8ms\n",
      "177:\tlearn: 102.6925209\ttotal: 176ms\tremaining: 21.8ms\n",
      "178:\tlearn: 102.1655154\ttotal: 177ms\tremaining: 20.8ms\n",
      "179:\tlearn: 101.8273108\ttotal: 178ms\tremaining: 19.8ms\n",
      "180:\tlearn: 101.7264515\ttotal: 179ms\tremaining: 18.8ms\n",
      "181:\tlearn: 101.1102333\ttotal: 180ms\tremaining: 17.8ms\n",
      "182:\tlearn: 100.7880364\ttotal: 181ms\tremaining: 16.8ms\n",
      "183:\tlearn: 100.6673014\ttotal: 182ms\tremaining: 15.8ms\n",
      "184:\tlearn: 100.0153055\ttotal: 182ms\tremaining: 14.8ms\n",
      "185:\tlearn: 99.7667281\ttotal: 183ms\tremaining: 13.8ms\n",
      "186:\tlearn: 99.1860593\ttotal: 184ms\tremaining: 12.8ms\n",
      "187:\tlearn: 99.0408133\ttotal: 185ms\tremaining: 11.8ms\n",
      "188:\tlearn: 98.9030718\ttotal: 186ms\tremaining: 10.8ms\n",
      "189:\tlearn: 97.4513860\ttotal: 187ms\tremaining: 9.84ms\n",
      "190:\tlearn: 97.3322959\ttotal: 188ms\tremaining: 8.85ms\n",
      "191:\tlearn: 97.1950848\ttotal: 189ms\tremaining: 7.86ms\n",
      "192:\tlearn: 96.6789532\ttotal: 190ms\tremaining: 6.88ms\n",
      "193:\tlearn: 96.5506179\ttotal: 190ms\tremaining: 5.89ms\n",
      "194:\tlearn: 95.6635039\ttotal: 191ms\tremaining: 4.91ms\n",
      "195:\tlearn: 94.8850777\ttotal: 192ms\tremaining: 3.92ms\n",
      "196:\tlearn: 94.1624589\ttotal: 193ms\tremaining: 2.94ms\n",
      "197:\tlearn: 93.8220662\ttotal: 194ms\tremaining: 1.96ms\n",
      "198:\tlearn: 93.7300351\ttotal: 195ms\tremaining: 980us\n",
      "199:\tlearn: 93.3339522\ttotal: 196ms\tremaining: 0us\n"
     ]
    }
   ],
   "source": [
    "catb_cv_model = GridSearchCV(catb_model,\n",
    "                          catb_params,\n",
    "                          cv=5,\n",
    "                          n_jobs=-1,\n",
    "                          verbose=2).fit(X_train,y_train)"
   ]
  },
  {
   "cell_type": "code",
   "execution_count": 13,
   "metadata": {},
   "outputs": [
    {
     "data": {
      "text/plain": [
       "{'depth': 3, 'iterations': 200, 'learning_rate': 0.1}"
      ]
     },
     "execution_count": 13,
     "metadata": {},
     "output_type": "execute_result"
    }
   ],
   "source": [
    "catb_cv_model.best_params_"
   ]
  },
  {
   "cell_type": "code",
   "execution_count": 15,
   "metadata": {},
   "outputs": [
    {
     "name": "stdout",
     "output_type": "stream",
     "text": [
      "0:\tlearn: 425.7900818\ttotal: 1.39ms\tremaining: 692ms\n",
      "1:\tlearn: 404.8723520\ttotal: 2.33ms\tremaining: 580ms\n",
      "2:\tlearn: 387.4057666\ttotal: 3.21ms\tremaining: 531ms\n",
      "3:\tlearn: 372.2801584\ttotal: 4.09ms\tremaining: 507ms\n",
      "4:\tlearn: 358.9204229\ttotal: 4.94ms\tremaining: 489ms\n",
      "5:\tlearn: 347.0083933\ttotal: 5.79ms\tremaining: 477ms\n",
      "6:\tlearn: 336.0130818\ttotal: 6.64ms\tremaining: 467ms\n",
      "7:\tlearn: 324.3923300\ttotal: 7.47ms\tremaining: 460ms\n",
      "8:\tlearn: 314.8690957\ttotal: 8.35ms\tremaining: 455ms\n",
      "9:\tlearn: 308.5075563\ttotal: 9.33ms\tremaining: 457ms\n",
      "10:\tlearn: 298.8587285\ttotal: 10.3ms\tremaining: 456ms\n",
      "11:\tlearn: 294.7655438\ttotal: 11.2ms\tremaining: 455ms\n",
      "12:\tlearn: 288.0697862\ttotal: 12.2ms\tremaining: 455ms\n",
      "13:\tlearn: 282.6697154\ttotal: 13.1ms\tremaining: 454ms\n",
      "14:\tlearn: 277.6121667\ttotal: 14ms\tremaining: 453ms\n",
      "15:\tlearn: 273.4383979\ttotal: 15.2ms\tremaining: 460ms\n",
      "16:\tlearn: 269.1556201\ttotal: 16.2ms\tremaining: 460ms\n",
      "17:\tlearn: 264.8098704\ttotal: 17.1ms\tremaining: 458ms\n",
      "18:\tlearn: 261.6700768\ttotal: 17.9ms\tremaining: 453ms\n",
      "19:\tlearn: 257.3961290\ttotal: 18.6ms\tremaining: 447ms\n",
      "20:\tlearn: 252.2691509\ttotal: 19.4ms\tremaining: 443ms\n",
      "21:\tlearn: 249.0686482\ttotal: 20.2ms\tremaining: 438ms\n",
      "22:\tlearn: 244.1881041\ttotal: 20.9ms\tremaining: 434ms\n",
      "23:\tlearn: 242.1696687\ttotal: 21.7ms\tremaining: 430ms\n",
      "24:\tlearn: 239.2131476\ttotal: 22.4ms\tremaining: 426ms\n",
      "25:\tlearn: 236.6883901\ttotal: 23.2ms\tremaining: 423ms\n",
      "26:\tlearn: 234.5295613\ttotal: 24ms\tremaining: 420ms\n",
      "27:\tlearn: 231.7788834\ttotal: 24.8ms\tremaining: 418ms\n",
      "28:\tlearn: 228.8020330\ttotal: 25.6ms\tremaining: 416ms\n",
      "29:\tlearn: 226.8420565\ttotal: 26.4ms\tremaining: 414ms\n",
      "30:\tlearn: 224.0686558\ttotal: 27.2ms\tremaining: 412ms\n",
      "31:\tlearn: 222.6644699\ttotal: 28ms\tremaining: 409ms\n",
      "32:\tlearn: 221.6889573\ttotal: 28.7ms\tremaining: 407ms\n",
      "33:\tlearn: 220.5171653\ttotal: 29.6ms\tremaining: 406ms\n",
      "34:\tlearn: 217.7686033\ttotal: 30.4ms\tremaining: 405ms\n",
      "35:\tlearn: 214.8462789\ttotal: 31.3ms\tremaining: 403ms\n",
      "36:\tlearn: 214.4799251\ttotal: 32.1ms\tremaining: 402ms\n",
      "37:\tlearn: 212.3480429\ttotal: 32.9ms\tremaining: 400ms\n",
      "38:\tlearn: 210.0040644\ttotal: 33.7ms\tremaining: 398ms\n",
      "39:\tlearn: 208.3086913\ttotal: 34.4ms\tremaining: 396ms\n",
      "40:\tlearn: 207.5469119\ttotal: 35.2ms\tremaining: 394ms\n",
      "41:\tlearn: 205.9351113\ttotal: 35.9ms\tremaining: 392ms\n",
      "42:\tlearn: 205.3580824\ttotal: 36.7ms\tremaining: 390ms\n",
      "43:\tlearn: 204.6204266\ttotal: 37.5ms\tremaining: 389ms\n",
      "44:\tlearn: 202.5023220\ttotal: 38.3ms\tremaining: 387ms\n",
      "45:\tlearn: 201.4347853\ttotal: 39.1ms\tremaining: 386ms\n",
      "46:\tlearn: 200.8752553\ttotal: 39.8ms\tremaining: 384ms\n",
      "47:\tlearn: 200.4047344\ttotal: 40.6ms\tremaining: 382ms\n",
      "48:\tlearn: 197.5433004\ttotal: 41.3ms\tremaining: 381ms\n",
      "49:\tlearn: 194.6943292\ttotal: 42.1ms\tremaining: 379ms\n",
      "50:\tlearn: 194.3011982\ttotal: 42.9ms\tremaining: 378ms\n",
      "51:\tlearn: 193.4011843\ttotal: 43.8ms\tremaining: 377ms\n",
      "52:\tlearn: 193.0109753\ttotal: 44.6ms\tremaining: 376ms\n",
      "53:\tlearn: 192.6071142\ttotal: 45.4ms\tremaining: 375ms\n",
      "54:\tlearn: 191.9666153\ttotal: 46.2ms\tremaining: 374ms\n",
      "55:\tlearn: 191.5789727\ttotal: 46.9ms\tremaining: 372ms\n",
      "56:\tlearn: 190.7186284\ttotal: 47.7ms\tremaining: 370ms\n",
      "57:\tlearn: 190.4543087\ttotal: 48.4ms\tremaining: 369ms\n",
      "58:\tlearn: 190.1336317\ttotal: 49.1ms\tremaining: 367ms\n",
      "59:\tlearn: 188.2286484\ttotal: 49.9ms\tremaining: 366ms\n",
      "60:\tlearn: 187.7652417\ttotal: 50.7ms\tremaining: 365ms\n",
      "61:\tlearn: 187.4227950\ttotal: 51.4ms\tremaining: 363ms\n",
      "62:\tlearn: 186.9289182\ttotal: 52.2ms\tremaining: 362ms\n",
      "63:\tlearn: 185.2993487\ttotal: 52.9ms\tremaining: 361ms\n",
      "64:\tlearn: 185.0349598\ttotal: 53.7ms\tremaining: 359ms\n",
      "65:\tlearn: 183.9773430\ttotal: 54.5ms\tremaining: 358ms\n",
      "66:\tlearn: 183.4463166\ttotal: 55.3ms\tremaining: 357ms\n",
      "67:\tlearn: 181.6627740\ttotal: 56ms\tremaining: 356ms\n",
      "68:\tlearn: 179.8785055\ttotal: 56.8ms\tremaining: 355ms\n",
      "69:\tlearn: 179.6737527\ttotal: 57.5ms\tremaining: 353ms\n",
      "70:\tlearn: 177.0830981\ttotal: 58.4ms\tremaining: 353ms\n",
      "71:\tlearn: 176.5917790\ttotal: 59.1ms\tremaining: 352ms\n",
      "72:\tlearn: 176.1240502\ttotal: 59.9ms\tremaining: 350ms\n",
      "73:\tlearn: 174.4828953\ttotal: 60.7ms\tremaining: 349ms\n",
      "74:\tlearn: 173.4220482\ttotal: 61.5ms\tremaining: 348ms\n",
      "75:\tlearn: 171.9903405\ttotal: 62.6ms\tremaining: 349ms\n",
      "76:\tlearn: 171.5803116\ttotal: 64ms\tremaining: 351ms\n",
      "77:\tlearn: 170.1411594\ttotal: 64.8ms\tremaining: 350ms\n",
      "78:\tlearn: 167.9868133\ttotal: 65.5ms\tremaining: 349ms\n",
      "79:\tlearn: 166.5304475\ttotal: 66.3ms\tremaining: 348ms\n",
      "80:\tlearn: 166.1741622\ttotal: 67.1ms\tremaining: 347ms\n",
      "81:\tlearn: 165.8411762\ttotal: 67.8ms\tremaining: 346ms\n",
      "82:\tlearn: 165.1041583\ttotal: 68.5ms\tremaining: 344ms\n",
      "83:\tlearn: 163.5641543\ttotal: 69.3ms\tremaining: 343ms\n",
      "84:\tlearn: 163.2003311\ttotal: 70.9ms\tremaining: 346ms\n",
      "85:\tlearn: 161.1781702\ttotal: 71.6ms\tremaining: 345ms\n",
      "86:\tlearn: 160.8727658\ttotal: 72.6ms\tremaining: 345ms\n",
      "87:\tlearn: 159.7954077\ttotal: 73.6ms\tremaining: 344ms\n",
      "88:\tlearn: 158.8759132\ttotal: 74.5ms\tremaining: 344ms\n",
      "89:\tlearn: 158.4831323\ttotal: 75.8ms\tremaining: 345ms\n",
      "90:\tlearn: 157.4808127\ttotal: 76.9ms\tremaining: 346ms\n",
      "91:\tlearn: 157.1703230\ttotal: 77.8ms\tremaining: 345ms\n",
      "92:\tlearn: 155.3184755\ttotal: 78.7ms\tremaining: 344ms\n",
      "93:\tlearn: 154.3988879\ttotal: 79.6ms\tremaining: 344ms\n",
      "94:\tlearn: 153.4591935\ttotal: 80.5ms\tremaining: 343ms\n",
      "95:\tlearn: 153.1206893\ttotal: 81.4ms\tremaining: 343ms\n",
      "96:\tlearn: 152.7897351\ttotal: 82.3ms\tremaining: 342ms\n",
      "97:\tlearn: 150.9293164\ttotal: 83.2ms\tremaining: 341ms\n",
      "98:\tlearn: 149.7127171\ttotal: 85ms\tremaining: 344ms\n",
      "99:\tlearn: 149.5089324\ttotal: 85.8ms\tremaining: 343ms\n",
      "100:\tlearn: 149.3156312\ttotal: 87.4ms\tremaining: 345ms\n",
      "101:\tlearn: 147.7226718\ttotal: 88.6ms\tremaining: 346ms\n",
      "102:\tlearn: 146.7692282\ttotal: 89.3ms\tremaining: 344ms\n",
      "103:\tlearn: 145.9084983\ttotal: 90.1ms\tremaining: 343ms\n",
      "104:\tlearn: 144.8780979\ttotal: 90.9ms\tremaining: 342ms\n",
      "105:\tlearn: 143.8090268\ttotal: 91.6ms\tremaining: 341ms\n",
      "106:\tlearn: 143.1272551\ttotal: 92.4ms\tremaining: 339ms\n",
      "107:\tlearn: 142.4863018\ttotal: 93.1ms\tremaining: 338ms\n",
      "108:\tlearn: 141.4861279\ttotal: 93.8ms\tremaining: 337ms\n",
      "109:\tlearn: 140.8689530\ttotal: 94.6ms\tremaining: 335ms\n",
      "110:\tlearn: 140.4009570\ttotal: 95.3ms\tremaining: 334ms\n",
      "111:\tlearn: 140.0344439\ttotal: 96.1ms\tremaining: 333ms\n",
      "112:\tlearn: 139.4290096\ttotal: 96.8ms\tremaining: 332ms\n",
      "113:\tlearn: 139.2008874\ttotal: 97.5ms\tremaining: 330ms\n",
      "114:\tlearn: 138.6000188\ttotal: 98.3ms\tremaining: 329ms\n",
      "115:\tlearn: 138.3962706\ttotal: 99ms\tremaining: 328ms\n",
      "116:\tlearn: 138.1737256\ttotal: 100ms\tremaining: 328ms\n",
      "117:\tlearn: 137.6342361\ttotal: 101ms\tremaining: 327ms\n",
      "118:\tlearn: 136.7119826\ttotal: 102ms\tremaining: 326ms\n",
      "119:\tlearn: 135.3057402\ttotal: 102ms\tremaining: 324ms\n",
      "120:\tlearn: 134.4797815\ttotal: 103ms\tremaining: 323ms\n",
      "121:\tlearn: 133.0774331\ttotal: 104ms\tremaining: 322ms\n",
      "122:\tlearn: 131.8739238\ttotal: 105ms\tremaining: 321ms\n",
      "123:\tlearn: 131.3203837\ttotal: 105ms\tremaining: 320ms\n",
      "124:\tlearn: 130.8294604\ttotal: 106ms\tremaining: 318ms\n",
      "125:\tlearn: 130.6107905\ttotal: 107ms\tremaining: 317ms\n",
      "126:\tlearn: 130.1614924\ttotal: 108ms\tremaining: 316ms\n",
      "127:\tlearn: 129.3166972\ttotal: 108ms\tremaining: 315ms\n",
      "128:\tlearn: 129.1038672\ttotal: 109ms\tremaining: 314ms\n",
      "129:\tlearn: 128.9594874\ttotal: 110ms\tremaining: 313ms\n",
      "130:\tlearn: 128.1849638\ttotal: 111ms\tremaining: 312ms\n",
      "131:\tlearn: 128.0307033\ttotal: 112ms\tremaining: 311ms\n",
      "132:\tlearn: 127.3373882\ttotal: 112ms\tremaining: 310ms\n",
      "133:\tlearn: 126.2856989\ttotal: 113ms\tremaining: 309ms\n",
      "134:\tlearn: 126.1379832\ttotal: 114ms\tremaining: 308ms\n",
      "135:\tlearn: 126.0180019\ttotal: 115ms\tremaining: 307ms\n",
      "136:\tlearn: 125.8843963\ttotal: 115ms\tremaining: 306ms\n",
      "137:\tlearn: 125.7576333\ttotal: 116ms\tremaining: 305ms\n",
      "138:\tlearn: 125.4794581\ttotal: 117ms\tremaining: 304ms\n",
      "139:\tlearn: 124.7920270\ttotal: 118ms\tremaining: 303ms\n",
      "140:\tlearn: 124.6530278\ttotal: 118ms\tremaining: 302ms\n",
      "141:\tlearn: 123.4539010\ttotal: 119ms\tremaining: 301ms\n",
      "142:\tlearn: 122.8980001\ttotal: 120ms\tremaining: 299ms\n",
      "143:\tlearn: 122.0911177\ttotal: 121ms\tremaining: 298ms\n",
      "144:\tlearn: 121.1209154\ttotal: 121ms\tremaining: 297ms\n",
      "145:\tlearn: 120.1613553\ttotal: 122ms\tremaining: 296ms\n",
      "146:\tlearn: 119.1894727\ttotal: 123ms\tremaining: 295ms\n",
      "147:\tlearn: 118.0325732\ttotal: 124ms\tremaining: 294ms\n",
      "148:\tlearn: 117.9138240\ttotal: 124ms\tremaining: 293ms\n",
      "149:\tlearn: 117.3831462\ttotal: 125ms\tremaining: 292ms\n",
      "150:\tlearn: 116.8475244\ttotal: 126ms\tremaining: 291ms\n",
      "151:\tlearn: 116.3821954\ttotal: 127ms\tremaining: 290ms\n",
      "152:\tlearn: 115.5293176\ttotal: 127ms\tremaining: 289ms\n",
      "153:\tlearn: 115.0975175\ttotal: 128ms\tremaining: 288ms\n",
      "154:\tlearn: 114.0649594\ttotal: 129ms\tremaining: 287ms\n",
      "155:\tlearn: 113.2562326\ttotal: 130ms\tremaining: 286ms\n",
      "156:\tlearn: 112.7557871\ttotal: 131ms\tremaining: 285ms\n",
      "157:\tlearn: 112.5657565\ttotal: 131ms\tremaining: 284ms\n",
      "158:\tlearn: 112.3541525\ttotal: 132ms\tremaining: 283ms\n",
      "159:\tlearn: 111.8527982\ttotal: 133ms\tremaining: 282ms\n",
      "160:\tlearn: 111.1619644\ttotal: 134ms\tremaining: 281ms\n",
      "161:\tlearn: 110.3588257\ttotal: 134ms\tremaining: 280ms\n",
      "162:\tlearn: 109.6664293\ttotal: 135ms\tremaining: 279ms\n",
      "163:\tlearn: 109.5577303\ttotal: 136ms\tremaining: 278ms\n",
      "164:\tlearn: 109.0570285\ttotal: 137ms\tremaining: 277ms\n",
      "165:\tlearn: 108.7601467\ttotal: 137ms\tremaining: 276ms\n",
      "166:\tlearn: 108.0448620\ttotal: 138ms\tremaining: 275ms\n",
      "167:\tlearn: 107.5593372\ttotal: 139ms\tremaining: 274ms\n",
      "168:\tlearn: 106.3862999\ttotal: 140ms\tremaining: 273ms\n",
      "169:\tlearn: 106.2180807\ttotal: 140ms\tremaining: 272ms\n",
      "170:\tlearn: 106.0695603\ttotal: 141ms\tremaining: 271ms\n",
      "171:\tlearn: 105.6940213\ttotal: 142ms\tremaining: 270ms\n",
      "172:\tlearn: 104.7598987\ttotal: 143ms\tremaining: 270ms\n",
      "173:\tlearn: 104.6589992\ttotal: 143ms\tremaining: 269ms\n",
      "174:\tlearn: 103.7203657\ttotal: 144ms\tremaining: 268ms\n",
      "175:\tlearn: 103.2660987\ttotal: 145ms\tremaining: 267ms\n",
      "176:\tlearn: 103.0926213\ttotal: 146ms\tremaining: 266ms\n",
      "177:\tlearn: 102.6925209\ttotal: 146ms\tremaining: 265ms\n",
      "178:\tlearn: 102.1655154\ttotal: 147ms\tremaining: 264ms\n",
      "179:\tlearn: 101.8273108\ttotal: 148ms\tremaining: 263ms\n",
      "180:\tlearn: 101.7264515\ttotal: 149ms\tremaining: 262ms\n",
      "181:\tlearn: 101.1102333\ttotal: 149ms\tremaining: 261ms\n",
      "182:\tlearn: 100.7880364\ttotal: 150ms\tremaining: 260ms\n",
      "183:\tlearn: 100.6673014\ttotal: 151ms\tremaining: 260ms\n",
      "184:\tlearn: 100.0153055\ttotal: 153ms\tremaining: 260ms\n",
      "185:\tlearn: 99.7667281\ttotal: 154ms\tremaining: 259ms\n",
      "186:\tlearn: 99.1860593\ttotal: 154ms\tremaining: 259ms\n",
      "187:\tlearn: 99.0408133\ttotal: 157ms\tremaining: 260ms\n",
      "188:\tlearn: 98.9030718\ttotal: 158ms\tremaining: 259ms\n",
      "189:\tlearn: 97.4513860\ttotal: 158ms\tremaining: 259ms\n",
      "190:\tlearn: 97.3322959\ttotal: 159ms\tremaining: 258ms\n",
      "191:\tlearn: 97.1950848\ttotal: 160ms\tremaining: 257ms\n",
      "192:\tlearn: 96.6789532\ttotal: 161ms\tremaining: 256ms\n",
      "193:\tlearn: 96.5506179\ttotal: 162ms\tremaining: 255ms\n",
      "194:\tlearn: 95.6635039\ttotal: 162ms\tremaining: 254ms\n",
      "195:\tlearn: 94.8850777\ttotal: 163ms\tremaining: 253ms\n",
      "196:\tlearn: 94.1624589\ttotal: 164ms\tremaining: 252ms\n",
      "197:\tlearn: 93.8220662\ttotal: 165ms\tremaining: 251ms\n",
      "198:\tlearn: 93.7300351\ttotal: 165ms\tremaining: 250ms\n",
      "199:\tlearn: 93.3339522\ttotal: 166ms\tremaining: 249ms\n",
      "200:\tlearn: 93.2187899\ttotal: 167ms\tremaining: 248ms\n",
      "201:\tlearn: 93.1229893\ttotal: 168ms\tremaining: 247ms\n",
      "202:\tlearn: 92.3652609\ttotal: 168ms\tremaining: 246ms\n",
      "203:\tlearn: 91.9783646\ttotal: 169ms\tremaining: 245ms\n",
      "204:\tlearn: 91.9001315\ttotal: 170ms\tremaining: 244ms\n",
      "205:\tlearn: 91.3853485\ttotal: 171ms\tremaining: 244ms\n",
      "206:\tlearn: 91.0739799\ttotal: 171ms\tremaining: 243ms\n",
      "207:\tlearn: 90.7397769\ttotal: 172ms\tremaining: 242ms\n",
      "208:\tlearn: 90.6559298\ttotal: 173ms\tremaining: 241ms\n",
      "209:\tlearn: 90.1743419\ttotal: 174ms\tremaining: 240ms\n",
      "210:\tlearn: 89.5990722\ttotal: 174ms\tremaining: 239ms\n",
      "211:\tlearn: 89.2669888\ttotal: 175ms\tremaining: 238ms\n",
      "212:\tlearn: 88.7659276\ttotal: 176ms\tremaining: 237ms\n",
      "213:\tlearn: 88.4770095\ttotal: 177ms\tremaining: 236ms\n",
      "214:\tlearn: 88.3764741\ttotal: 178ms\tremaining: 235ms\n",
      "215:\tlearn: 88.0525649\ttotal: 178ms\tremaining: 234ms\n",
      "216:\tlearn: 87.9761846\ttotal: 179ms\tremaining: 233ms\n",
      "217:\tlearn: 87.6042730\ttotal: 180ms\tremaining: 233ms\n",
      "218:\tlearn: 86.9514620\ttotal: 181ms\tremaining: 232ms\n",
      "219:\tlearn: 86.8967405\ttotal: 181ms\tremaining: 231ms\n",
      "220:\tlearn: 86.2438941\ttotal: 182ms\tremaining: 230ms\n",
      "221:\tlearn: 85.5834415\ttotal: 183ms\tremaining: 229ms\n",
      "222:\tlearn: 85.0300334\ttotal: 184ms\tremaining: 228ms\n",
      "223:\tlearn: 84.4518944\ttotal: 184ms\tremaining: 227ms\n",
      "224:\tlearn: 84.1336997\ttotal: 185ms\tremaining: 226ms\n",
      "225:\tlearn: 83.3363884\ttotal: 186ms\tremaining: 225ms\n",
      "226:\tlearn: 83.0804458\ttotal: 187ms\tremaining: 225ms\n",
      "227:\tlearn: 82.8233471\ttotal: 187ms\tremaining: 224ms\n",
      "228:\tlearn: 82.5337644\ttotal: 188ms\tremaining: 223ms\n",
      "229:\tlearn: 81.8142344\ttotal: 189ms\tremaining: 222ms\n",
      "230:\tlearn: 81.5004564\ttotal: 190ms\tremaining: 221ms\n",
      "231:\tlearn: 81.2798023\ttotal: 190ms\tremaining: 220ms\n",
      "232:\tlearn: 80.7611552\ttotal: 191ms\tremaining: 219ms\n",
      "233:\tlearn: 80.3886115\ttotal: 192ms\tremaining: 218ms\n",
      "234:\tlearn: 80.1299339\ttotal: 193ms\tremaining: 217ms\n",
      "235:\tlearn: 79.8491967\ttotal: 193ms\tremaining: 216ms\n",
      "236:\tlearn: 79.5615744\ttotal: 194ms\tremaining: 215ms\n",
      "237:\tlearn: 79.3117577\ttotal: 195ms\tremaining: 214ms\n",
      "238:\tlearn: 79.1086712\ttotal: 196ms\tremaining: 214ms\n",
      "239:\tlearn: 78.8298680\ttotal: 196ms\tremaining: 213ms\n",
      "240:\tlearn: 78.4353578\ttotal: 197ms\tremaining: 212ms\n",
      "241:\tlearn: 77.8564527\ttotal: 198ms\tremaining: 211ms\n",
      "242:\tlearn: 77.3853191\ttotal: 198ms\tremaining: 210ms\n",
      "243:\tlearn: 76.9503413\ttotal: 199ms\tremaining: 209ms\n",
      "244:\tlearn: 76.8791584\ttotal: 200ms\tremaining: 208ms\n",
      "245:\tlearn: 76.8091242\ttotal: 201ms\tremaining: 207ms\n",
      "246:\tlearn: 76.3259755\ttotal: 202ms\tremaining: 207ms\n",
      "247:\tlearn: 76.2576074\ttotal: 202ms\tremaining: 206ms\n",
      "248:\tlearn: 75.6197714\ttotal: 203ms\tremaining: 205ms\n",
      "249:\tlearn: 75.1108267\ttotal: 204ms\tremaining: 204ms\n",
      "250:\tlearn: 74.8951285\ttotal: 205ms\tremaining: 203ms\n",
      "251:\tlearn: 74.1881361\ttotal: 205ms\tremaining: 202ms\n",
      "252:\tlearn: 73.7075979\ttotal: 206ms\tremaining: 201ms\n",
      "253:\tlearn: 73.6579077\ttotal: 207ms\tremaining: 200ms\n",
      "254:\tlearn: 73.1865737\ttotal: 208ms\tremaining: 200ms\n",
      "255:\tlearn: 72.9702795\ttotal: 208ms\tremaining: 199ms\n",
      "256:\tlearn: 72.9155046\ttotal: 209ms\tremaining: 198ms\n",
      "257:\tlearn: 72.6118600\ttotal: 210ms\tremaining: 197ms\n",
      "258:\tlearn: 72.5577657\ttotal: 211ms\tremaining: 196ms\n",
      "259:\tlearn: 72.1525257\ttotal: 211ms\tremaining: 195ms\n",
      "260:\tlearn: 71.7943854\ttotal: 212ms\tremaining: 194ms\n",
      "261:\tlearn: 71.1090815\ttotal: 213ms\tremaining: 193ms\n",
      "262:\tlearn: 70.6948771\ttotal: 214ms\tremaining: 193ms\n",
      "263:\tlearn: 70.3614682\ttotal: 215ms\tremaining: 192ms\n",
      "264:\tlearn: 70.0417470\ttotal: 215ms\tremaining: 191ms\n",
      "265:\tlearn: 69.7026420\ttotal: 216ms\tremaining: 190ms\n",
      "266:\tlearn: 69.5040036\ttotal: 217ms\tremaining: 189ms\n",
      "267:\tlearn: 69.1426951\ttotal: 218ms\tremaining: 189ms\n",
      "268:\tlearn: 68.7942828\ttotal: 219ms\tremaining: 188ms\n",
      "269:\tlearn: 68.4519486\ttotal: 219ms\tremaining: 187ms\n",
      "270:\tlearn: 68.2501241\ttotal: 220ms\tremaining: 186ms\n",
      "271:\tlearn: 67.7950677\ttotal: 221ms\tremaining: 185ms\n",
      "272:\tlearn: 67.6253379\ttotal: 222ms\tremaining: 184ms\n",
      "273:\tlearn: 67.0299652\ttotal: 222ms\tremaining: 183ms\n",
      "274:\tlearn: 66.8269749\ttotal: 223ms\tremaining: 183ms\n",
      "275:\tlearn: 66.6473738\ttotal: 224ms\tremaining: 182ms\n",
      "276:\tlearn: 66.5896053\ttotal: 225ms\tremaining: 181ms\n",
      "277:\tlearn: 66.3475217\ttotal: 226ms\tremaining: 181ms\n",
      "278:\tlearn: 66.2949248\ttotal: 227ms\tremaining: 180ms\n",
      "279:\tlearn: 65.8505003\ttotal: 229ms\tremaining: 180ms\n",
      "280:\tlearn: 65.7054325\ttotal: 230ms\tremaining: 179ms\n",
      "281:\tlearn: 65.6563114\ttotal: 231ms\tremaining: 178ms\n",
      "282:\tlearn: 65.1152051\ttotal: 232ms\tremaining: 178ms\n",
      "283:\tlearn: 65.0016484\ttotal: 233ms\tremaining: 177ms\n",
      "284:\tlearn: 64.8592135\ttotal: 236ms\tremaining: 178ms\n",
      "285:\tlearn: 64.2616048\ttotal: 237ms\tremaining: 178ms\n",
      "286:\tlearn: 64.2091713\ttotal: 239ms\tremaining: 177ms\n",
      "287:\tlearn: 63.8230195\ttotal: 240ms\tremaining: 176ms\n",
      "288:\tlearn: 63.3548107\ttotal: 243ms\tremaining: 178ms\n",
      "289:\tlearn: 63.0655464\ttotal: 253ms\tremaining: 183ms\n",
      "290:\tlearn: 62.9430786\ttotal: 254ms\tremaining: 182ms\n",
      "291:\tlearn: 62.7630773\ttotal: 255ms\tremaining: 182ms\n",
      "292:\tlearn: 62.7062866\ttotal: 256ms\tremaining: 181ms\n",
      "293:\tlearn: 62.2544559\ttotal: 257ms\tremaining: 180ms\n",
      "294:\tlearn: 61.7409243\ttotal: 259ms\tremaining: 180ms\n",
      "295:\tlearn: 61.2323802\ttotal: 260ms\tremaining: 179ms\n",
      "296:\tlearn: 60.8444601\ttotal: 260ms\tremaining: 178ms\n",
      "297:\tlearn: 60.6799729\ttotal: 261ms\tremaining: 177ms\n",
      "298:\tlearn: 60.2743546\ttotal: 262ms\tremaining: 176ms\n",
      "299:\tlearn: 60.1192569\ttotal: 263ms\tremaining: 175ms\n",
      "300:\tlearn: 59.8115193\ttotal: 263ms\tremaining: 174ms\n",
      "301:\tlearn: 59.7738185\ttotal: 264ms\tremaining: 173ms\n",
      "302:\tlearn: 59.7275400\ttotal: 265ms\tremaining: 172ms\n",
      "303:\tlearn: 59.4185605\ttotal: 266ms\tremaining: 172ms\n",
      "304:\tlearn: 59.3739449\ttotal: 267ms\tremaining: 171ms\n",
      "305:\tlearn: 59.1037010\ttotal: 268ms\tremaining: 170ms\n",
      "306:\tlearn: 59.0623401\ttotal: 269ms\tremaining: 169ms\n",
      "307:\tlearn: 58.8334515\ttotal: 269ms\tremaining: 168ms\n",
      "308:\tlearn: 58.7008075\ttotal: 270ms\tremaining: 167ms\n",
      "309:\tlearn: 58.4241697\ttotal: 271ms\tremaining: 166ms\n",
      "310:\tlearn: 58.3909058\ttotal: 272ms\tremaining: 165ms\n",
      "311:\tlearn: 58.3560202\ttotal: 273ms\tremaining: 164ms\n",
      "312:\tlearn: 58.2244185\ttotal: 273ms\tremaining: 163ms\n",
      "313:\tlearn: 58.1989980\ttotal: 274ms\tremaining: 162ms\n",
      "314:\tlearn: 57.7480707\ttotal: 275ms\tremaining: 161ms\n",
      "315:\tlearn: 57.6045885\ttotal: 276ms\tremaining: 160ms\n",
      "316:\tlearn: 57.3661913\ttotal: 276ms\tremaining: 160ms\n",
      "317:\tlearn: 57.0509648\ttotal: 277ms\tremaining: 159ms\n",
      "318:\tlearn: 57.0192439\ttotal: 278ms\tremaining: 158ms\n",
      "319:\tlearn: 56.9939523\ttotal: 279ms\tremaining: 157ms\n",
      "320:\tlearn: 56.8405228\ttotal: 279ms\tremaining: 156ms\n",
      "321:\tlearn: 56.7420280\ttotal: 280ms\tremaining: 155ms\n",
      "322:\tlearn: 56.4477010\ttotal: 281ms\tremaining: 154ms\n",
      "323:\tlearn: 56.0826853\ttotal: 282ms\tremaining: 153ms\n",
      "324:\tlearn: 56.0624323\ttotal: 283ms\tremaining: 152ms\n",
      "325:\tlearn: 55.8598134\ttotal: 283ms\tremaining: 151ms\n",
      "326:\tlearn: 55.6077885\ttotal: 284ms\tremaining: 150ms\n",
      "327:\tlearn: 55.5141385\ttotal: 285ms\tremaining: 149ms\n",
      "328:\tlearn: 55.1578748\ttotal: 286ms\tremaining: 148ms\n",
      "329:\tlearn: 54.8687586\ttotal: 287ms\tremaining: 148ms\n",
      "330:\tlearn: 54.6149903\ttotal: 287ms\tremaining: 147ms\n",
      "331:\tlearn: 54.3373137\ttotal: 288ms\tremaining: 146ms\n",
      "332:\tlearn: 54.3010723\ttotal: 289ms\tremaining: 145ms\n",
      "333:\tlearn: 54.0034968\ttotal: 290ms\tremaining: 144ms\n",
      "334:\tlearn: 53.4838324\ttotal: 290ms\tremaining: 143ms\n",
      "335:\tlearn: 53.2427876\ttotal: 291ms\tremaining: 142ms\n",
      "336:\tlearn: 52.9841644\ttotal: 292ms\tremaining: 141ms\n",
      "337:\tlearn: 52.7883900\ttotal: 293ms\tremaining: 140ms\n",
      "338:\tlearn: 52.4044440\ttotal: 293ms\tremaining: 139ms\n",
      "339:\tlearn: 52.1002255\ttotal: 294ms\tremaining: 138ms\n",
      "340:\tlearn: 52.0565385\ttotal: 295ms\tremaining: 137ms\n",
      "341:\tlearn: 51.8333144\ttotal: 296ms\tremaining: 137ms\n",
      "342:\tlearn: 51.6373574\ttotal: 296ms\tremaining: 136ms\n",
      "343:\tlearn: 51.5215560\ttotal: 297ms\tremaining: 135ms\n",
      "344:\tlearn: 51.4715068\ttotal: 298ms\tremaining: 134ms\n",
      "345:\tlearn: 51.3708693\ttotal: 298ms\tremaining: 133ms\n",
      "346:\tlearn: 51.3487490\ttotal: 299ms\tremaining: 132ms\n",
      "347:\tlearn: 51.1293205\ttotal: 300ms\tremaining: 131ms\n",
      "348:\tlearn: 50.7968307\ttotal: 301ms\tremaining: 130ms\n",
      "349:\tlearn: 50.4247981\ttotal: 302ms\tremaining: 129ms\n",
      "350:\tlearn: 50.1184662\ttotal: 303ms\tremaining: 128ms\n",
      "351:\tlearn: 50.0158233\ttotal: 303ms\tremaining: 128ms\n",
      "352:\tlearn: 49.8167355\ttotal: 304ms\tremaining: 127ms\n",
      "353:\tlearn: 49.7231504\ttotal: 305ms\tremaining: 126ms\n",
      "354:\tlearn: 49.5735896\ttotal: 306ms\tremaining: 125ms\n",
      "355:\tlearn: 49.3370822\ttotal: 306ms\tremaining: 124ms\n",
      "356:\tlearn: 49.1271597\ttotal: 307ms\tremaining: 123ms\n",
      "357:\tlearn: 48.6671601\ttotal: 308ms\tremaining: 122ms\n",
      "358:\tlearn: 48.5820922\ttotal: 309ms\tremaining: 121ms\n",
      "359:\tlearn: 48.2968035\ttotal: 309ms\tremaining: 120ms\n",
      "360:\tlearn: 48.2725179\ttotal: 310ms\tremaining: 119ms\n",
      "361:\tlearn: 48.2491857\ttotal: 311ms\tremaining: 118ms\n",
      "362:\tlearn: 47.9937707\ttotal: 312ms\tremaining: 118ms\n",
      "363:\tlearn: 47.7546913\ttotal: 313ms\tremaining: 117ms\n",
      "364:\tlearn: 47.6351159\ttotal: 314ms\tremaining: 116ms\n",
      "365:\tlearn: 47.4573219\ttotal: 315ms\tremaining: 115ms\n",
      "366:\tlearn: 47.2461884\ttotal: 316ms\tremaining: 115ms\n",
      "367:\tlearn: 47.0831336\ttotal: 317ms\tremaining: 114ms\n",
      "368:\tlearn: 47.0616046\ttotal: 318ms\tremaining: 113ms\n",
      "369:\tlearn: 46.8167805\ttotal: 319ms\tremaining: 112ms\n",
      "370:\tlearn: 46.7105749\ttotal: 319ms\tremaining: 111ms\n",
      "371:\tlearn: 46.5238776\ttotal: 320ms\tremaining: 110ms\n",
      "372:\tlearn: 46.2028434\ttotal: 321ms\tremaining: 109ms\n",
      "373:\tlearn: 45.9839526\ttotal: 322ms\tremaining: 108ms\n",
      "374:\tlearn: 45.9116724\ttotal: 322ms\tremaining: 107ms\n",
      "375:\tlearn: 45.7320516\ttotal: 323ms\tremaining: 107ms\n",
      "376:\tlearn: 45.4374263\ttotal: 324ms\tremaining: 106ms\n",
      "377:\tlearn: 45.4057546\ttotal: 325ms\tremaining: 105ms\n",
      "378:\tlearn: 45.1327165\ttotal: 325ms\tremaining: 104ms\n",
      "379:\tlearn: 45.0209604\ttotal: 326ms\tremaining: 103ms\n",
      "380:\tlearn: 44.8196593\ttotal: 327ms\tremaining: 102ms\n",
      "381:\tlearn: 44.5039384\ttotal: 328ms\tremaining: 101ms\n",
      "382:\tlearn: 44.2600323\ttotal: 328ms\tremaining: 100ms\n",
      "383:\tlearn: 44.0151561\ttotal: 329ms\tremaining: 99.5ms\n",
      "384:\tlearn: 43.9556570\ttotal: 330ms\tremaining: 98.6ms\n",
      "385:\tlearn: 43.9359597\ttotal: 331ms\tremaining: 97.7ms\n",
      "386:\tlearn: 43.7555080\ttotal: 332ms\tremaining: 96.8ms\n",
      "387:\tlearn: 43.7373019\ttotal: 332ms\tremaining: 95.9ms\n",
      "388:\tlearn: 43.5293640\ttotal: 333ms\tremaining: 95ms\n",
      "389:\tlearn: 43.3730365\ttotal: 334ms\tremaining: 94.2ms\n",
      "390:\tlearn: 43.1909656\ttotal: 335ms\tremaining: 93.3ms\n",
      "391:\tlearn: 42.8856830\ttotal: 335ms\tremaining: 92.4ms\n",
      "392:\tlearn: 42.6992411\ttotal: 336ms\tremaining: 91.5ms\n",
      "393:\tlearn: 42.5465749\ttotal: 337ms\tremaining: 90.6ms\n",
      "394:\tlearn: 42.4807979\ttotal: 337ms\tremaining: 89.7ms\n",
      "395:\tlearn: 42.2916183\ttotal: 338ms\tremaining: 88.8ms\n",
      "396:\tlearn: 42.1037568\ttotal: 339ms\tremaining: 87.9ms\n",
      "397:\tlearn: 41.8981932\ttotal: 340ms\tremaining: 87.1ms\n",
      "398:\tlearn: 41.7248917\ttotal: 340ms\tremaining: 86.2ms\n",
      "399:\tlearn: 41.6301069\ttotal: 341ms\tremaining: 85.3ms\n",
      "400:\tlearn: 41.4400764\ttotal: 342ms\tremaining: 84.4ms\n",
      "401:\tlearn: 41.3090865\ttotal: 343ms\tremaining: 83.5ms\n",
      "402:\tlearn: 41.1301442\ttotal: 344ms\tremaining: 82.7ms\n",
      "403:\tlearn: 41.0443482\ttotal: 344ms\tremaining: 81.8ms\n",
      "404:\tlearn: 40.8259644\ttotal: 345ms\tremaining: 80.9ms\n",
      "405:\tlearn: 40.7839263\ttotal: 346ms\tremaining: 80.1ms\n",
      "406:\tlearn: 40.5480337\ttotal: 347ms\tremaining: 79.2ms\n",
      "407:\tlearn: 40.3715893\ttotal: 347ms\tremaining: 78.3ms\n",
      "408:\tlearn: 40.0394045\ttotal: 348ms\tremaining: 77.4ms\n",
      "409:\tlearn: 40.0086630\ttotal: 349ms\tremaining: 76.6ms\n",
      "410:\tlearn: 39.8104476\ttotal: 349ms\tremaining: 75.7ms\n",
      "411:\tlearn: 39.7843849\ttotal: 350ms\tremaining: 74.8ms\n",
      "412:\tlearn: 39.5300372\ttotal: 351ms\tremaining: 73.9ms\n",
      "413:\tlearn: 39.4430130\ttotal: 352ms\tremaining: 73ms\n",
      "414:\tlearn: 39.3629631\ttotal: 352ms\tremaining: 72.2ms\n",
      "415:\tlearn: 39.1293840\ttotal: 353ms\tremaining: 71.3ms\n",
      "416:\tlearn: 38.9691684\ttotal: 354ms\tremaining: 70.4ms\n",
      "417:\tlearn: 38.8190384\ttotal: 355ms\tremaining: 69.6ms\n",
      "418:\tlearn: 38.7077834\ttotal: 355ms\tremaining: 68.7ms\n",
      "419:\tlearn: 38.4779254\ttotal: 356ms\tremaining: 67.8ms\n",
      "420:\tlearn: 38.2678683\ttotal: 357ms\tremaining: 66.9ms\n",
      "421:\tlearn: 38.0994389\ttotal: 358ms\tremaining: 66.1ms\n",
      "422:\tlearn: 38.0005916\ttotal: 358ms\tremaining: 65.3ms\n",
      "423:\tlearn: 37.8385180\ttotal: 359ms\tremaining: 64.4ms\n",
      "424:\tlearn: 37.8083452\ttotal: 360ms\tremaining: 63.5ms\n",
      "425:\tlearn: 37.5174336\ttotal: 361ms\tremaining: 62.7ms\n",
      "426:\tlearn: 37.3208834\ttotal: 361ms\tremaining: 61.8ms\n",
      "427:\tlearn: 37.1185556\ttotal: 362ms\tremaining: 60.9ms\n",
      "428:\tlearn: 36.9282531\ttotal: 363ms\tremaining: 60.1ms\n",
      "429:\tlearn: 36.8200949\ttotal: 364ms\tremaining: 59.2ms\n",
      "430:\tlearn: 36.5845945\ttotal: 364ms\tremaining: 58.3ms\n",
      "431:\tlearn: 36.4529306\ttotal: 365ms\tremaining: 57.5ms\n",
      "432:\tlearn: 36.3720600\ttotal: 366ms\tremaining: 56.6ms\n",
      "433:\tlearn: 36.2143120\ttotal: 367ms\tremaining: 55.7ms\n",
      "434:\tlearn: 36.1631312\ttotal: 367ms\tremaining: 54.9ms\n",
      "435:\tlearn: 36.0260171\ttotal: 368ms\tremaining: 54ms\n",
      "436:\tlearn: 35.9587903\ttotal: 369ms\tremaining: 53.2ms\n",
      "437:\tlearn: 35.7467530\ttotal: 369ms\tremaining: 52.3ms\n",
      "438:\tlearn: 35.6636162\ttotal: 370ms\tremaining: 51.4ms\n",
      "439:\tlearn: 35.3997824\ttotal: 371ms\tremaining: 50.6ms\n",
      "440:\tlearn: 35.3553789\ttotal: 372ms\tremaining: 49.8ms\n",
      "441:\tlearn: 35.2699314\ttotal: 373ms\tremaining: 48.9ms\n",
      "442:\tlearn: 35.1306846\ttotal: 374ms\tremaining: 48.1ms\n",
      "443:\tlearn: 34.9610274\ttotal: 374ms\tremaining: 47.2ms\n",
      "444:\tlearn: 34.7856232\ttotal: 375ms\tremaining: 46.4ms\n",
      "445:\tlearn: 34.7614923\ttotal: 376ms\tremaining: 45.5ms\n",
      "446:\tlearn: 34.6543743\ttotal: 378ms\tremaining: 44.8ms\n",
      "447:\tlearn: 34.5959377\ttotal: 378ms\tremaining: 43.9ms\n",
      "448:\tlearn: 34.5691317\ttotal: 379ms\tremaining: 43.1ms\n",
      "449:\tlearn: 34.4629374\ttotal: 380ms\tremaining: 42.2ms\n",
      "450:\tlearn: 34.3200339\ttotal: 381ms\tremaining: 41.3ms\n",
      "451:\tlearn: 34.1540496\ttotal: 381ms\tremaining: 40.5ms\n",
      "452:\tlearn: 34.0985391\ttotal: 382ms\tremaining: 39.6ms\n",
      "453:\tlearn: 33.9918761\ttotal: 386ms\tremaining: 39.2ms\n",
      "454:\tlearn: 33.8657847\ttotal: 387ms\tremaining: 38.3ms\n",
      "455:\tlearn: 33.8438159\ttotal: 388ms\tremaining: 37.5ms\n",
      "456:\tlearn: 33.7117534\ttotal: 389ms\tremaining: 36.6ms\n",
      "457:\tlearn: 33.6771055\ttotal: 391ms\tremaining: 35.9ms\n",
      "458:\tlearn: 33.6340909\ttotal: 392ms\tremaining: 35ms\n",
      "459:\tlearn: 33.4471051\ttotal: 393ms\tremaining: 34.2ms\n",
      "460:\tlearn: 33.3443100\ttotal: 394ms\tremaining: 33.3ms\n",
      "461:\tlearn: 33.3006352\ttotal: 394ms\tremaining: 32.4ms\n",
      "462:\tlearn: 33.1630995\ttotal: 395ms\tremaining: 31.6ms\n",
      "463:\tlearn: 33.0996695\ttotal: 396ms\tremaining: 30.7ms\n",
      "464:\tlearn: 32.9952267\ttotal: 397ms\tremaining: 29.9ms\n",
      "465:\tlearn: 32.8806709\ttotal: 397ms\tremaining: 29ms\n",
      "466:\tlearn: 32.8402030\ttotal: 398ms\tremaining: 28.1ms\n",
      "467:\tlearn: 32.7515554\ttotal: 399ms\tremaining: 27.3ms\n",
      "468:\tlearn: 32.5705783\ttotal: 400ms\tremaining: 26.4ms\n",
      "469:\tlearn: 32.4509155\ttotal: 400ms\tremaining: 25.5ms\n",
      "470:\tlearn: 32.3653375\ttotal: 402ms\tremaining: 24.8ms\n",
      "471:\tlearn: 32.3354708\ttotal: 403ms\tremaining: 23.9ms\n",
      "472:\tlearn: 32.2452625\ttotal: 404ms\tremaining: 23.1ms\n",
      "473:\tlearn: 32.2128326\ttotal: 405ms\tremaining: 22.2ms\n",
      "474:\tlearn: 32.1039579\ttotal: 405ms\tremaining: 21.3ms\n",
      "475:\tlearn: 31.9549739\ttotal: 406ms\tremaining: 20.5ms\n",
      "476:\tlearn: 31.7831113\ttotal: 407ms\tremaining: 19.6ms\n",
      "477:\tlearn: 31.6923157\ttotal: 408ms\tremaining: 18.8ms\n",
      "478:\tlearn: 31.5483905\ttotal: 408ms\tremaining: 17.9ms\n",
      "479:\tlearn: 31.5175537\ttotal: 409ms\tremaining: 17ms\n",
      "480:\tlearn: 31.4981942\ttotal: 410ms\tremaining: 16.2ms\n",
      "481:\tlearn: 31.4399583\ttotal: 411ms\tremaining: 15.3ms\n",
      "482:\tlearn: 31.3121387\ttotal: 411ms\tremaining: 14.5ms\n",
      "483:\tlearn: 31.2522235\ttotal: 412ms\tremaining: 13.6ms\n",
      "484:\tlearn: 31.2267889\ttotal: 413ms\tremaining: 12.8ms\n",
      "485:\tlearn: 31.1412081\ttotal: 414ms\tremaining: 11.9ms\n",
      "486:\tlearn: 30.8518019\ttotal: 415ms\tremaining: 11.1ms\n",
      "487:\tlearn: 30.7746221\ttotal: 415ms\tremaining: 10.2ms\n",
      "488:\tlearn: 30.6671436\ttotal: 416ms\tremaining: 9.36ms\n",
      "489:\tlearn: 30.6538437\ttotal: 417ms\tremaining: 8.51ms\n",
      "490:\tlearn: 30.4773758\ttotal: 418ms\tremaining: 7.65ms\n",
      "491:\tlearn: 30.3351390\ttotal: 418ms\tremaining: 6.8ms\n",
      "492:\tlearn: 30.0672228\ttotal: 419ms\tremaining: 5.95ms\n",
      "493:\tlearn: 30.0359966\ttotal: 420ms\tremaining: 5.1ms\n",
      "494:\tlearn: 29.8504506\ttotal: 421ms\tremaining: 4.25ms\n",
      "495:\tlearn: 29.6461509\ttotal: 422ms\tremaining: 3.4ms\n",
      "496:\tlearn: 29.4447781\ttotal: 423ms\tremaining: 2.55ms\n",
      "497:\tlearn: 29.3848746\ttotal: 423ms\tremaining: 1.7ms\n",
      "498:\tlearn: 29.2432694\ttotal: 424ms\tremaining: 850us\n",
      "499:\tlearn: 29.1284294\ttotal: 425ms\tremaining: 0us\n"
     ]
    }
   ],
   "source": [
    "catb_tuned = CatBoostRegressor(depth=3,iterations=500,learning_rate=0.1).fit(X_train,y_train)"
   ]
  },
  {
   "cell_type": "code",
   "execution_count": 16,
   "metadata": {},
   "outputs": [],
   "source": [
    "y_pred= catb_tuned.predict(X_test)"
   ]
  },
  {
   "cell_type": "code",
   "execution_count": 17,
   "metadata": {},
   "outputs": [
    {
     "data": {
      "text/plain": [
       "336.40041748521486"
      ]
     },
     "execution_count": 17,
     "metadata": {},
     "output_type": "execute_result"
    }
   ],
   "source": [
    "np.sqrt(mean_squared_error(y_test,y_pred))"
   ]
  },
  {
   "cell_type": "markdown",
   "metadata": {},
   "source": [
    "## MAKİNE ÖĞRENMESİ GÖREVLERİNİN OTOMATİKLEŞTİRİLMESİ"
   ]
  },
  {
   "cell_type": "code",
   "execution_count": null,
   "metadata": {},
   "outputs": [],
   "source": [
    "df = pd.read_csv(\"Hitters.csv\") #veri setini oku\n",
    "df = df.dropna() #eksik gözlemleri sil\n",
    "dms = pd.get_dummies(df[['League','Division','NewLeague']])#veri seti içindeki katogorik değişkenleri dummiy değişkenine çevir\n"
   ]
  },
  {
   "cell_type": "code",
   "execution_count": 80,
   "metadata": {},
   "outputs": [],
   "source": [
    "def compML(df, y, alg): #veriseti,bağımlı değişken, kullanılmak istenen algoritma\n",
    "    #train-test ayrimi\n",
    "    y = df[y] \n",
    "    X_ = df.drop(['Salary','League','Division','NewLeague'],axis=1).astype('float64') \n",
    "    X = pd.concat([X_,dms[['League_N','Division_W','NewLeague_N']]], axis=1)\n",
    "    X_train, X_test, y_train, y_test = train_test_split(X, y,test_size=0.25,random_state=42)\n",
    "    #modelleme\n",
    "    model = alg().fit(X_train,y_train)\n",
    "    y_pred = model.predict(X_test)\n",
    "    RMSE = np.sqrt(mean_squared_error(y_test,y_pred))\n",
    "    model_ismi = alg.__name__\n",
    "    print(model_ismi,\" Modeli Test Hatası:\",RMSE)"
   ]
  },
  {
   "cell_type": "code",
   "execution_count": 81,
   "metadata": {},
   "outputs": [
    {
     "name": "stdout",
     "output_type": "stream",
     "text": [
      "SVR  Modeli Test Hatası: 473.4445984431814\n"
     ]
    }
   ],
   "source": [
    "compML(df,\"Salary\",SVR)"
   ]
  },
  {
   "cell_type": "code",
   "execution_count": 82,
   "metadata": {},
   "outputs": [],
   "source": [
    "models = [LGBMRegressor,\n",
    "          XGBRegressor,\n",
    "          GradientBoostingRegressor,\n",
    "          RandomForestRegressor,\n",
    "          DecisionTreeRegressor,\n",
    "          MLPRegressor,\n",
    "          KNeighborsRegressor,\n",
    "          SVR]"
   ]
  },
  {
   "cell_type": "code",
   "execution_count": 84,
   "metadata": {},
   "outputs": [
    {
     "name": "stdout",
     "output_type": "stream",
     "text": [
      "LGBMRegressor  Modeli Test Hatası: 363.8712087611089\n",
      "XGBRegressor  Modeli Test Hatası: 355.46515176059927\n",
      "GradientBoostingRegressor  Modeli Test Hatası: 354.4421086257597\n",
      "RandomForestRegressor  Modeli Test Hatası: 344.92612464263163\n",
      "DecisionTreeRegressor  Modeli Test Hatası: 524.8744340519585\n",
      "MLPRegressor  Modeli Test Hatası: 427.54845940489963\n",
      "KNeighborsRegressor  Modeli Test Hatası: 426.6570764525201\n",
      "SVR  Modeli Test Hatası: 473.4445984431814\n"
     ]
    }
   ],
   "source": [
    "for i in models:\n",
    "    compML(df,\"Salary\",i)"
   ]
  },
  {
   "cell_type": "code",
   "execution_count": null,
   "metadata": {},
   "outputs": [],
   "source": []
  }
 ],
 "metadata": {
  "kernelspec": {
   "display_name": "Python 3",
   "language": "python",
   "name": "python3"
  },
  "language_info": {
   "codemirror_mode": {
    "name": "ipython",
    "version": 3
   },
   "file_extension": ".py",
   "mimetype": "text/x-python",
   "name": "python",
   "nbconvert_exporter": "python",
   "pygments_lexer": "ipython3",
   "version": "3.7.0"
  }
 },
 "nbformat": 4,
 "nbformat_minor": 4
}
